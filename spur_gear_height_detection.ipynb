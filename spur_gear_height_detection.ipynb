{
  "nbformat": 4,
  "nbformat_minor": 0,
  "metadata": {
    "colab": {
      "provenance": [],
      "gpuType": "T4"
    },
    "kernelspec": {
      "name": "python3",
      "display_name": "Python 3"
    },
    "language_info": {
      "name": "python"
    },
    "accelerator": "GPU"
  },
  "cells": [
    {
      "cell_type": "code",
      "source": [
        "!pip install roboflow\n",
        "\n",
        "from roboflow import Roboflow\n",
        "rf = Roboflow(api_key=\"oMvcwmwC12WUibGDI4xO\")\n",
        "project = rf.workspace(\"defect-dptja\").project(\"side-view-gear-detection\")\n",
        "version = project.version(3)\n",
        "dataset = version.download(\"yolov8\")\n"
      ],
      "metadata": {
        "colab": {
          "base_uri": "https://localhost:8080/"
        },
        "id": "Dz6U9YKF5CwF",
        "outputId": "979c7a68-3a77-4a7e-e3e8-18a26f9b2131"
      },
      "execution_count": null,
      "outputs": [
        {
          "output_type": "stream",
          "name": "stdout",
          "text": [
            "Collecting roboflow\n",
            "  Downloading roboflow-1.1.64-py3-none-any.whl.metadata (9.7 kB)\n",
            "Requirement already satisfied: certifi in /usr/local/lib/python3.11/dist-packages (from roboflow) (2025.4.26)\n",
            "Collecting idna==3.7 (from roboflow)\n",
            "  Downloading idna-3.7-py3-none-any.whl.metadata (9.9 kB)\n",
            "Requirement already satisfied: cycler in /usr/local/lib/python3.11/dist-packages (from roboflow) (0.12.1)\n",
            "Requirement already satisfied: kiwisolver>=1.3.1 in /usr/local/lib/python3.11/dist-packages (from roboflow) (1.4.8)\n",
            "Requirement already satisfied: matplotlib in /usr/local/lib/python3.11/dist-packages (from roboflow) (3.10.0)\n",
            "Requirement already satisfied: numpy>=1.18.5 in /usr/local/lib/python3.11/dist-packages (from roboflow) (2.0.2)\n",
            "Collecting opencv-python-headless==4.10.0.84 (from roboflow)\n",
            "  Downloading opencv_python_headless-4.10.0.84-cp37-abi3-manylinux_2_17_x86_64.manylinux2014_x86_64.whl.metadata (20 kB)\n",
            "Requirement already satisfied: Pillow>=7.1.2 in /usr/local/lib/python3.11/dist-packages (from roboflow) (11.2.1)\n",
            "Collecting pillow-heif>=0.18.0 (from roboflow)\n",
            "  Downloading pillow_heif-0.22.0-cp311-cp311-manylinux_2_17_x86_64.manylinux2014_x86_64.whl.metadata (9.6 kB)\n",
            "Requirement already satisfied: python-dateutil in /usr/local/lib/python3.11/dist-packages (from roboflow) (2.9.0.post0)\n",
            "Collecting python-dotenv (from roboflow)\n",
            "  Downloading python_dotenv-1.1.0-py3-none-any.whl.metadata (24 kB)\n",
            "Requirement already satisfied: requests in /usr/local/lib/python3.11/dist-packages (from roboflow) (2.32.3)\n",
            "Requirement already satisfied: six in /usr/local/lib/python3.11/dist-packages (from roboflow) (1.17.0)\n",
            "Requirement already satisfied: urllib3>=1.26.6 in /usr/local/lib/python3.11/dist-packages (from roboflow) (2.4.0)\n",
            "Requirement already satisfied: tqdm>=4.41.0 in /usr/local/lib/python3.11/dist-packages (from roboflow) (4.67.1)\n",
            "Requirement already satisfied: PyYAML>=5.3.1 in /usr/local/lib/python3.11/dist-packages (from roboflow) (6.0.2)\n",
            "Requirement already satisfied: requests-toolbelt in /usr/local/lib/python3.11/dist-packages (from roboflow) (1.0.0)\n",
            "Collecting filetype (from roboflow)\n",
            "  Downloading filetype-1.2.0-py2.py3-none-any.whl.metadata (6.5 kB)\n",
            "Requirement already satisfied: contourpy>=1.0.1 in /usr/local/lib/python3.11/dist-packages (from matplotlib->roboflow) (1.3.2)\n",
            "Requirement already satisfied: fonttools>=4.22.0 in /usr/local/lib/python3.11/dist-packages (from matplotlib->roboflow) (4.58.0)\n",
            "Requirement already satisfied: packaging>=20.0 in /usr/local/lib/python3.11/dist-packages (from matplotlib->roboflow) (24.2)\n",
            "Requirement already satisfied: pyparsing>=2.3.1 in /usr/local/lib/python3.11/dist-packages (from matplotlib->roboflow) (3.2.3)\n",
            "Requirement already satisfied: charset-normalizer<4,>=2 in /usr/local/lib/python3.11/dist-packages (from requests->roboflow) (3.4.2)\n",
            "Downloading roboflow-1.1.64-py3-none-any.whl (85 kB)\n",
            "\u001b[2K   \u001b[90m━━━━━━━━━━━━━━━━━━━━━━━━━━━━━━━━━━━━━━━━\u001b[0m \u001b[32m85.4/85.4 kB\u001b[0m \u001b[31m2.4 MB/s\u001b[0m eta \u001b[36m0:00:00\u001b[0m\n",
            "\u001b[?25hDownloading idna-3.7-py3-none-any.whl (66 kB)\n",
            "\u001b[2K   \u001b[90m━━━━━━━━━━━━━━━━━━━━━━━━━━━━━━━━━━━━━━━━\u001b[0m \u001b[32m66.8/66.8 kB\u001b[0m \u001b[31m4.5 MB/s\u001b[0m eta \u001b[36m0:00:00\u001b[0m\n",
            "\u001b[?25hDownloading opencv_python_headless-4.10.0.84-cp37-abi3-manylinux_2_17_x86_64.manylinux2014_x86_64.whl (49.9 MB)\n",
            "\u001b[2K   \u001b[90m━━━━━━━━━━━━━━━━━━━━━━━━━━━━━━━━━━━━━━━━\u001b[0m \u001b[32m49.9/49.9 MB\u001b[0m \u001b[31m16.9 MB/s\u001b[0m eta \u001b[36m0:00:00\u001b[0m\n",
            "\u001b[?25hDownloading pillow_heif-0.22.0-cp311-cp311-manylinux_2_17_x86_64.manylinux2014_x86_64.whl (7.8 MB)\n",
            "\u001b[2K   \u001b[90m━━━━━━━━━━━━━━━━━━━━━━━━━━━━━━━━━━━━━━━━\u001b[0m \u001b[32m7.8/7.8 MB\u001b[0m \u001b[31m90.8 MB/s\u001b[0m eta \u001b[36m0:00:00\u001b[0m\n",
            "\u001b[?25hDownloading filetype-1.2.0-py2.py3-none-any.whl (19 kB)\n",
            "Downloading python_dotenv-1.1.0-py3-none-any.whl (20 kB)\n",
            "Installing collected packages: filetype, python-dotenv, pillow-heif, opencv-python-headless, idna, roboflow\n",
            "  Attempting uninstall: opencv-python-headless\n",
            "    Found existing installation: opencv-python-headless 4.11.0.86\n",
            "    Uninstalling opencv-python-headless-4.11.0.86:\n",
            "      Successfully uninstalled opencv-python-headless-4.11.0.86\n",
            "  Attempting uninstall: idna\n",
            "    Found existing installation: idna 3.10\n",
            "    Uninstalling idna-3.10:\n",
            "      Successfully uninstalled idna-3.10\n",
            "Successfully installed filetype-1.2.0 idna-3.7 opencv-python-headless-4.10.0.84 pillow-heif-0.22.0 python-dotenv-1.1.0 roboflow-1.1.64\n",
            "loading Roboflow workspace...\n",
            "loading Roboflow project...\n"
          ]
        },
        {
          "output_type": "stream",
          "name": "stderr",
          "text": [
            "Downloading Dataset Version Zip in side-view-gear-detection-3 to yolov8:: 100%|██████████| 1294/1294 [00:00<00:00, 6446.97it/s]"
          ]
        },
        {
          "output_type": "stream",
          "name": "stdout",
          "text": [
            "\n"
          ]
        },
        {
          "output_type": "stream",
          "name": "stderr",
          "text": [
            "\n",
            "Extracting Dataset Version Zip to side-view-gear-detection-3 in yolov8:: 100%|██████████| 158/158 [00:00<00:00, 6140.09it/s]\n"
          ]
        }
      ]
    },
    {
      "cell_type": "code",
      "source": [
        "pip install ultralytics"
      ],
      "metadata": {
        "colab": {
          "base_uri": "https://localhost:8080/"
        },
        "id": "59lTdXMr7H9B",
        "outputId": "d9b8bcb7-4cdf-4ce6-eee1-858fed1bdbd9"
      },
      "execution_count": null,
      "outputs": [
        {
          "output_type": "stream",
          "name": "stdout",
          "text": [
            "Collecting ultralytics\n",
            "  Downloading ultralytics-8.3.143-py3-none-any.whl.metadata (37 kB)\n",
            "Requirement already satisfied: numpy>=1.23.0 in /usr/local/lib/python3.11/dist-packages (from ultralytics) (2.0.2)\n",
            "Requirement already satisfied: matplotlib>=3.3.0 in /usr/local/lib/python3.11/dist-packages (from ultralytics) (3.10.0)\n",
            "Requirement already satisfied: opencv-python>=4.6.0 in /usr/local/lib/python3.11/dist-packages (from ultralytics) (4.11.0.86)\n",
            "Requirement already satisfied: pillow>=7.1.2 in /usr/local/lib/python3.11/dist-packages (from ultralytics) (11.2.1)\n",
            "Requirement already satisfied: pyyaml>=5.3.1 in /usr/local/lib/python3.11/dist-packages (from ultralytics) (6.0.2)\n",
            "Requirement already satisfied: requests>=2.23.0 in /usr/local/lib/python3.11/dist-packages (from ultralytics) (2.32.3)\n",
            "Requirement already satisfied: scipy>=1.4.1 in /usr/local/lib/python3.11/dist-packages (from ultralytics) (1.15.3)\n",
            "Requirement already satisfied: torch>=1.8.0 in /usr/local/lib/python3.11/dist-packages (from ultralytics) (2.6.0+cu124)\n",
            "Requirement already satisfied: torchvision>=0.9.0 in /usr/local/lib/python3.11/dist-packages (from ultralytics) (0.21.0+cu124)\n",
            "Requirement already satisfied: tqdm>=4.64.0 in /usr/local/lib/python3.11/dist-packages (from ultralytics) (4.67.1)\n",
            "Requirement already satisfied: psutil in /usr/local/lib/python3.11/dist-packages (from ultralytics) (5.9.5)\n",
            "Requirement already satisfied: py-cpuinfo in /usr/local/lib/python3.11/dist-packages (from ultralytics) (9.0.0)\n",
            "Requirement already satisfied: pandas>=1.1.4 in /usr/local/lib/python3.11/dist-packages (from ultralytics) (2.2.2)\n",
            "Collecting ultralytics-thop>=2.0.0 (from ultralytics)\n",
            "  Downloading ultralytics_thop-2.0.14-py3-none-any.whl.metadata (9.4 kB)\n",
            "Requirement already satisfied: contourpy>=1.0.1 in /usr/local/lib/python3.11/dist-packages (from matplotlib>=3.3.0->ultralytics) (1.3.2)\n",
            "Requirement already satisfied: cycler>=0.10 in /usr/local/lib/python3.11/dist-packages (from matplotlib>=3.3.0->ultralytics) (0.12.1)\n",
            "Requirement already satisfied: fonttools>=4.22.0 in /usr/local/lib/python3.11/dist-packages (from matplotlib>=3.3.0->ultralytics) (4.58.0)\n",
            "Requirement already satisfied: kiwisolver>=1.3.1 in /usr/local/lib/python3.11/dist-packages (from matplotlib>=3.3.0->ultralytics) (1.4.8)\n",
            "Requirement already satisfied: packaging>=20.0 in /usr/local/lib/python3.11/dist-packages (from matplotlib>=3.3.0->ultralytics) (24.2)\n",
            "Requirement already satisfied: pyparsing>=2.3.1 in /usr/local/lib/python3.11/dist-packages (from matplotlib>=3.3.0->ultralytics) (3.2.3)\n",
            "Requirement already satisfied: python-dateutil>=2.7 in /usr/local/lib/python3.11/dist-packages (from matplotlib>=3.3.0->ultralytics) (2.9.0.post0)\n",
            "Requirement already satisfied: pytz>=2020.1 in /usr/local/lib/python3.11/dist-packages (from pandas>=1.1.4->ultralytics) (2025.2)\n",
            "Requirement already satisfied: tzdata>=2022.7 in /usr/local/lib/python3.11/dist-packages (from pandas>=1.1.4->ultralytics) (2025.2)\n",
            "Requirement already satisfied: charset-normalizer<4,>=2 in /usr/local/lib/python3.11/dist-packages (from requests>=2.23.0->ultralytics) (3.4.2)\n",
            "Requirement already satisfied: idna<4,>=2.5 in /usr/local/lib/python3.11/dist-packages (from requests>=2.23.0->ultralytics) (3.7)\n",
            "Requirement already satisfied: urllib3<3,>=1.21.1 in /usr/local/lib/python3.11/dist-packages (from requests>=2.23.0->ultralytics) (2.4.0)\n",
            "Requirement already satisfied: certifi>=2017.4.17 in /usr/local/lib/python3.11/dist-packages (from requests>=2.23.0->ultralytics) (2025.4.26)\n",
            "Requirement already satisfied: filelock in /usr/local/lib/python3.11/dist-packages (from torch>=1.8.0->ultralytics) (3.18.0)\n",
            "Requirement already satisfied: typing-extensions>=4.10.0 in /usr/local/lib/python3.11/dist-packages (from torch>=1.8.0->ultralytics) (4.13.2)\n",
            "Requirement already satisfied: networkx in /usr/local/lib/python3.11/dist-packages (from torch>=1.8.0->ultralytics) (3.4.2)\n",
            "Requirement already satisfied: jinja2 in /usr/local/lib/python3.11/dist-packages (from torch>=1.8.0->ultralytics) (3.1.6)\n",
            "Requirement already satisfied: fsspec in /usr/local/lib/python3.11/dist-packages (from torch>=1.8.0->ultralytics) (2025.3.2)\n",
            "Collecting nvidia-cuda-nvrtc-cu12==12.4.127 (from torch>=1.8.0->ultralytics)\n",
            "  Downloading nvidia_cuda_nvrtc_cu12-12.4.127-py3-none-manylinux2014_x86_64.whl.metadata (1.5 kB)\n",
            "Collecting nvidia-cuda-runtime-cu12==12.4.127 (from torch>=1.8.0->ultralytics)\n",
            "  Downloading nvidia_cuda_runtime_cu12-12.4.127-py3-none-manylinux2014_x86_64.whl.metadata (1.5 kB)\n",
            "Collecting nvidia-cuda-cupti-cu12==12.4.127 (from torch>=1.8.0->ultralytics)\n",
            "  Downloading nvidia_cuda_cupti_cu12-12.4.127-py3-none-manylinux2014_x86_64.whl.metadata (1.6 kB)\n",
            "Collecting nvidia-cudnn-cu12==9.1.0.70 (from torch>=1.8.0->ultralytics)\n",
            "  Downloading nvidia_cudnn_cu12-9.1.0.70-py3-none-manylinux2014_x86_64.whl.metadata (1.6 kB)\n",
            "Collecting nvidia-cublas-cu12==12.4.5.8 (from torch>=1.8.0->ultralytics)\n",
            "  Downloading nvidia_cublas_cu12-12.4.5.8-py3-none-manylinux2014_x86_64.whl.metadata (1.5 kB)\n",
            "Collecting nvidia-cufft-cu12==11.2.1.3 (from torch>=1.8.0->ultralytics)\n",
            "  Downloading nvidia_cufft_cu12-11.2.1.3-py3-none-manylinux2014_x86_64.whl.metadata (1.5 kB)\n",
            "Collecting nvidia-curand-cu12==10.3.5.147 (from torch>=1.8.0->ultralytics)\n",
            "  Downloading nvidia_curand_cu12-10.3.5.147-py3-none-manylinux2014_x86_64.whl.metadata (1.5 kB)\n",
            "Collecting nvidia-cusolver-cu12==11.6.1.9 (from torch>=1.8.0->ultralytics)\n",
            "  Downloading nvidia_cusolver_cu12-11.6.1.9-py3-none-manylinux2014_x86_64.whl.metadata (1.6 kB)\n",
            "Collecting nvidia-cusparse-cu12==12.3.1.170 (from torch>=1.8.0->ultralytics)\n",
            "  Downloading nvidia_cusparse_cu12-12.3.1.170-py3-none-manylinux2014_x86_64.whl.metadata (1.6 kB)\n",
            "Requirement already satisfied: nvidia-cusparselt-cu12==0.6.2 in /usr/local/lib/python3.11/dist-packages (from torch>=1.8.0->ultralytics) (0.6.2)\n",
            "Requirement already satisfied: nvidia-nccl-cu12==2.21.5 in /usr/local/lib/python3.11/dist-packages (from torch>=1.8.0->ultralytics) (2.21.5)\n",
            "Requirement already satisfied: nvidia-nvtx-cu12==12.4.127 in /usr/local/lib/python3.11/dist-packages (from torch>=1.8.0->ultralytics) (12.4.127)\n",
            "Collecting nvidia-nvjitlink-cu12==12.4.127 (from torch>=1.8.0->ultralytics)\n",
            "  Downloading nvidia_nvjitlink_cu12-12.4.127-py3-none-manylinux2014_x86_64.whl.metadata (1.5 kB)\n",
            "Requirement already satisfied: triton==3.2.0 in /usr/local/lib/python3.11/dist-packages (from torch>=1.8.0->ultralytics) (3.2.0)\n",
            "Requirement already satisfied: sympy==1.13.1 in /usr/local/lib/python3.11/dist-packages (from torch>=1.8.0->ultralytics) (1.13.1)\n",
            "Requirement already satisfied: mpmath<1.4,>=1.1.0 in /usr/local/lib/python3.11/dist-packages (from sympy==1.13.1->torch>=1.8.0->ultralytics) (1.3.0)\n",
            "Requirement already satisfied: six>=1.5 in /usr/local/lib/python3.11/dist-packages (from python-dateutil>=2.7->matplotlib>=3.3.0->ultralytics) (1.17.0)\n",
            "Requirement already satisfied: MarkupSafe>=2.0 in /usr/local/lib/python3.11/dist-packages (from jinja2->torch>=1.8.0->ultralytics) (3.0.2)\n",
            "Downloading ultralytics-8.3.143-py3-none-any.whl (1.0 MB)\n",
            "\u001b[2K   \u001b[90m━━━━━━━━━━━━━━━━━━━━━━━━━━━━━━━━━━━━━━━━\u001b[0m \u001b[32m1.0/1.0 MB\u001b[0m \u001b[31m31.5 MB/s\u001b[0m eta \u001b[36m0:00:00\u001b[0m\n",
            "\u001b[?25hDownloading nvidia_cublas_cu12-12.4.5.8-py3-none-manylinux2014_x86_64.whl (363.4 MB)\n",
            "\u001b[2K   \u001b[90m━━━━━━━━━━━━━━━━━━━━━━━━━━━━━━━━━━━━━━━━\u001b[0m \u001b[32m363.4/363.4 MB\u001b[0m \u001b[31m4.7 MB/s\u001b[0m eta \u001b[36m0:00:00\u001b[0m\n",
            "\u001b[?25hDownloading nvidia_cuda_cupti_cu12-12.4.127-py3-none-manylinux2014_x86_64.whl (13.8 MB)\n",
            "\u001b[2K   \u001b[90m━━━━━━━━━━━━━━━━━━━━━━━━━━━━━━━━━━━━━━━━\u001b[0m \u001b[32m13.8/13.8 MB\u001b[0m \u001b[31m119.7 MB/s\u001b[0m eta \u001b[36m0:00:00\u001b[0m\n",
            "\u001b[?25hDownloading nvidia_cuda_nvrtc_cu12-12.4.127-py3-none-manylinux2014_x86_64.whl (24.6 MB)\n",
            "\u001b[2K   \u001b[90m━━━━━━━━━━━━━━━━━━━━━━━━━━━━━━━━━━━━━━━━\u001b[0m \u001b[32m24.6/24.6 MB\u001b[0m \u001b[31m94.4 MB/s\u001b[0m eta \u001b[36m0:00:00\u001b[0m\n",
            "\u001b[?25hDownloading nvidia_cuda_runtime_cu12-12.4.127-py3-none-manylinux2014_x86_64.whl (883 kB)\n",
            "\u001b[2K   \u001b[90m━━━━━━━━━━━━━━━━━━━━━━━━━━━━━━━━━━━━━━━━\u001b[0m \u001b[32m883.7/883.7 kB\u001b[0m \u001b[31m58.7 MB/s\u001b[0m eta \u001b[36m0:00:00\u001b[0m\n",
            "\u001b[?25hDownloading nvidia_cudnn_cu12-9.1.0.70-py3-none-manylinux2014_x86_64.whl (664.8 MB)\n",
            "\u001b[2K   \u001b[90m━━━━━━━━━━━━━━━━━━━━━━━━━━━━━━━━━━━━━━━━\u001b[0m \u001b[32m664.8/664.8 MB\u001b[0m \u001b[31m1.2 MB/s\u001b[0m eta \u001b[36m0:00:00\u001b[0m\n",
            "\u001b[?25hDownloading nvidia_cufft_cu12-11.2.1.3-py3-none-manylinux2014_x86_64.whl (211.5 MB)\n",
            "\u001b[2K   \u001b[90m━━━━━━━━━━━━━━━━━━━━━━━━━━━━━━━━━━━━━━━━\u001b[0m \u001b[32m211.5/211.5 MB\u001b[0m \u001b[31m5.9 MB/s\u001b[0m eta \u001b[36m0:00:00\u001b[0m\n",
            "\u001b[?25hDownloading nvidia_curand_cu12-10.3.5.147-py3-none-manylinux2014_x86_64.whl (56.3 MB)\n",
            "\u001b[2K   \u001b[90m━━━━━━━━━━━━━━━━━━━━━━━━━━━━━━━━━━━━━━━━\u001b[0m \u001b[32m56.3/56.3 MB\u001b[0m \u001b[31m13.2 MB/s\u001b[0m eta \u001b[36m0:00:00\u001b[0m\n",
            "\u001b[?25hDownloading nvidia_cusolver_cu12-11.6.1.9-py3-none-manylinux2014_x86_64.whl (127.9 MB)\n",
            "\u001b[2K   \u001b[90m━━━━━━━━━━━━━━━━━━━━━━━━━━━━━━━━━━━━━━━━\u001b[0m \u001b[32m127.9/127.9 MB\u001b[0m \u001b[31m7.2 MB/s\u001b[0m eta \u001b[36m0:00:00\u001b[0m\n",
            "\u001b[?25hDownloading nvidia_cusparse_cu12-12.3.1.170-py3-none-manylinux2014_x86_64.whl (207.5 MB)\n",
            "\u001b[2K   \u001b[90m━━━━━━━━━━━━━━━━━━━━━━━━━━━━━━━━━━━━━━━━\u001b[0m \u001b[32m207.5/207.5 MB\u001b[0m \u001b[31m6.7 MB/s\u001b[0m eta \u001b[36m0:00:00\u001b[0m\n",
            "\u001b[?25hDownloading nvidia_nvjitlink_cu12-12.4.127-py3-none-manylinux2014_x86_64.whl (21.1 MB)\n",
            "\u001b[2K   \u001b[90m━━━━━━━━━━━━━━━━━━━━━━━━━━━━━━━━━━━━━━━━\u001b[0m \u001b[32m21.1/21.1 MB\u001b[0m \u001b[31m70.5 MB/s\u001b[0m eta \u001b[36m0:00:00\u001b[0m\n",
            "\u001b[?25hDownloading ultralytics_thop-2.0.14-py3-none-any.whl (26 kB)\n",
            "Installing collected packages: nvidia-nvjitlink-cu12, nvidia-curand-cu12, nvidia-cufft-cu12, nvidia-cuda-runtime-cu12, nvidia-cuda-nvrtc-cu12, nvidia-cuda-cupti-cu12, nvidia-cublas-cu12, nvidia-cusparse-cu12, nvidia-cudnn-cu12, nvidia-cusolver-cu12, ultralytics-thop, ultralytics\n",
            "  Attempting uninstall: nvidia-nvjitlink-cu12\n",
            "    Found existing installation: nvidia-nvjitlink-cu12 12.5.82\n",
            "    Uninstalling nvidia-nvjitlink-cu12-12.5.82:\n",
            "      Successfully uninstalled nvidia-nvjitlink-cu12-12.5.82\n",
            "  Attempting uninstall: nvidia-curand-cu12\n",
            "    Found existing installation: nvidia-curand-cu12 10.3.6.82\n",
            "    Uninstalling nvidia-curand-cu12-10.3.6.82:\n",
            "      Successfully uninstalled nvidia-curand-cu12-10.3.6.82\n",
            "  Attempting uninstall: nvidia-cufft-cu12\n",
            "    Found existing installation: nvidia-cufft-cu12 11.2.3.61\n",
            "    Uninstalling nvidia-cufft-cu12-11.2.3.61:\n",
            "      Successfully uninstalled nvidia-cufft-cu12-11.2.3.61\n",
            "  Attempting uninstall: nvidia-cuda-runtime-cu12\n",
            "    Found existing installation: nvidia-cuda-runtime-cu12 12.5.82\n",
            "    Uninstalling nvidia-cuda-runtime-cu12-12.5.82:\n",
            "      Successfully uninstalled nvidia-cuda-runtime-cu12-12.5.82\n",
            "  Attempting uninstall: nvidia-cuda-nvrtc-cu12\n",
            "    Found existing installation: nvidia-cuda-nvrtc-cu12 12.5.82\n",
            "    Uninstalling nvidia-cuda-nvrtc-cu12-12.5.82:\n",
            "      Successfully uninstalled nvidia-cuda-nvrtc-cu12-12.5.82\n",
            "  Attempting uninstall: nvidia-cuda-cupti-cu12\n",
            "    Found existing installation: nvidia-cuda-cupti-cu12 12.5.82\n",
            "    Uninstalling nvidia-cuda-cupti-cu12-12.5.82:\n",
            "      Successfully uninstalled nvidia-cuda-cupti-cu12-12.5.82\n",
            "  Attempting uninstall: nvidia-cublas-cu12\n",
            "    Found existing installation: nvidia-cublas-cu12 12.5.3.2\n",
            "    Uninstalling nvidia-cublas-cu12-12.5.3.2:\n",
            "      Successfully uninstalled nvidia-cublas-cu12-12.5.3.2\n",
            "  Attempting uninstall: nvidia-cusparse-cu12\n",
            "    Found existing installation: nvidia-cusparse-cu12 12.5.1.3\n",
            "    Uninstalling nvidia-cusparse-cu12-12.5.1.3:\n",
            "      Successfully uninstalled nvidia-cusparse-cu12-12.5.1.3\n",
            "  Attempting uninstall: nvidia-cudnn-cu12\n",
            "    Found existing installation: nvidia-cudnn-cu12 9.3.0.75\n",
            "    Uninstalling nvidia-cudnn-cu12-9.3.0.75:\n",
            "      Successfully uninstalled nvidia-cudnn-cu12-9.3.0.75\n",
            "  Attempting uninstall: nvidia-cusolver-cu12\n",
            "    Found existing installation: nvidia-cusolver-cu12 11.6.3.83\n",
            "    Uninstalling nvidia-cusolver-cu12-11.6.3.83:\n",
            "      Successfully uninstalled nvidia-cusolver-cu12-11.6.3.83\n",
            "Successfully installed nvidia-cublas-cu12-12.4.5.8 nvidia-cuda-cupti-cu12-12.4.127 nvidia-cuda-nvrtc-cu12-12.4.127 nvidia-cuda-runtime-cu12-12.4.127 nvidia-cudnn-cu12-9.1.0.70 nvidia-cufft-cu12-11.2.1.3 nvidia-curand-cu12-10.3.5.147 nvidia-cusolver-cu12-11.6.1.9 nvidia-cusparse-cu12-12.3.1.170 nvidia-nvjitlink-cu12-12.4.127 ultralytics-8.3.143 ultralytics-thop-2.0.14\n"
          ]
        }
      ]
    },
    {
      "cell_type": "code",
      "source": [
        "from ultralytics import YOLO\n",
        "\n",
        "model = YOLO(\"yolov8s.pt\")\n",
        "\n",
        "# Train the model on Google Colab GPU\n",
        "model.train(data=\"/content/side-view-gear-detection-3/data.yaml\", epochs=100, imgsz=640, batch=16, device=0)\n"
      ],
      "metadata": {
        "colab": {
          "base_uri": "https://localhost:8080/"
        },
        "id": "jrS39yvj66rD",
        "outputId": "4ce4f1ea-3268-4f56-ef56-0e916b246141"
      },
      "execution_count": null,
      "outputs": [
        {
          "output_type": "stream",
          "name": "stdout",
          "text": [
            "Creating new Ultralytics Settings v0.0.6 file ✅ \n",
            "View Ultralytics Settings with 'yolo settings' or at '/root/.config/Ultralytics/settings.json'\n",
            "Update Settings with 'yolo settings key=value', i.e. 'yolo settings runs_dir=path/to/dir'. For help see https://docs.ultralytics.com/quickstart/#ultralytics-settings.\n",
            "Downloading https://github.com/ultralytics/assets/releases/download/v8.3.0/yolov8s.pt to 'yolov8s.pt'...\n"
          ]
        },
        {
          "output_type": "stream",
          "name": "stderr",
          "text": [
            "100%|██████████| 21.5M/21.5M [00:00<00:00, 167MB/s]\n"
          ]
        },
        {
          "output_type": "stream",
          "name": "stdout",
          "text": [
            "Ultralytics 8.3.143 🚀 Python-3.11.12 torch-2.6.0+cu124 CUDA:0 (Tesla T4, 15095MiB)\n",
            "\u001b[34m\u001b[1mengine/trainer: \u001b[0magnostic_nms=False, amp=True, augment=False, auto_augment=randaugment, batch=16, bgr=0.0, box=7.5, cache=False, cfg=None, classes=None, close_mosaic=10, cls=0.5, conf=None, copy_paste=0.0, copy_paste_mode=flip, cos_lr=False, cutmix=0.0, data=/content/side-view-gear-detection-3/data.yaml, degrees=0.0, deterministic=True, device=0, dfl=1.5, dnn=False, dropout=0.0, dynamic=False, embed=None, epochs=100, erasing=0.4, exist_ok=False, fliplr=0.5, flipud=0.0, format=torchscript, fraction=1.0, freeze=None, half=False, hsv_h=0.015, hsv_s=0.7, hsv_v=0.4, imgsz=640, int8=False, iou=0.7, keras=False, kobj=1.0, line_width=None, lr0=0.01, lrf=0.01, mask_ratio=4, max_det=300, mixup=0.0, mode=train, model=yolov8s.pt, momentum=0.937, mosaic=1.0, multi_scale=False, name=train, nbs=64, nms=False, opset=None, optimize=False, optimizer=auto, overlap_mask=True, patience=100, perspective=0.0, plots=True, pose=12.0, pretrained=True, profile=False, project=None, rect=False, resume=False, retina_masks=False, save=True, save_conf=False, save_crop=False, save_dir=runs/detect/train, save_frames=False, save_json=False, save_period=-1, save_txt=False, scale=0.5, seed=0, shear=0.0, show=False, show_boxes=True, show_conf=True, show_labels=True, simplify=True, single_cls=False, source=None, split=val, stream_buffer=False, task=detect, time=None, tracker=botsort.yaml, translate=0.1, val=True, verbose=True, vid_stride=1, visualize=False, warmup_bias_lr=0.1, warmup_epochs=3.0, warmup_momentum=0.8, weight_decay=0.0005, workers=8, workspace=None\n",
            "Downloading https://ultralytics.com/assets/Arial.ttf to '/root/.config/Ultralytics/Arial.ttf'...\n"
          ]
        },
        {
          "output_type": "stream",
          "name": "stderr",
          "text": [
            "100%|██████████| 755k/755k [00:00<00:00, 18.4MB/s]"
          ]
        },
        {
          "output_type": "stream",
          "name": "stdout",
          "text": [
            "Overriding model.yaml nc=80 with nc=1\n",
            "\n",
            "                   from  n    params  module                                       arguments                     \n",
            "  0                  -1  1       928  ultralytics.nn.modules.conv.Conv             [3, 32, 3, 2]                 \n",
            "  1                  -1  1     18560  ultralytics.nn.modules.conv.Conv             [32, 64, 3, 2]                \n",
            "  2                  -1  1     29056  ultralytics.nn.modules.block.C2f             [64, 64, 1, True]             \n",
            "  3                  -1  1     73984  ultralytics.nn.modules.conv.Conv             [64, 128, 3, 2]               \n",
            "  4                  -1  2    197632  ultralytics.nn.modules.block.C2f             [128, 128, 2, True]           \n",
            "  5                  -1  1    295424  ultralytics.nn.modules.conv.Conv             [128, 256, 3, 2]              \n",
            "  6                  -1  2    788480  ultralytics.nn.modules.block.C2f             [256, 256, 2, True]           \n",
            "  7                  -1  1   1180672  ultralytics.nn.modules.conv.Conv             [256, 512, 3, 2]              \n",
            "  8                  -1  1   1838080  ultralytics.nn.modules.block.C2f             [512, 512, 1, True]           \n",
            "  9                  -1  1    656896  ultralytics.nn.modules.block.SPPF            [512, 512, 5]                 \n",
            " 10                  -1  1         0  torch.nn.modules.upsampling.Upsample         [None, 2, 'nearest']          \n",
            " 11             [-1, 6]  1         0  ultralytics.nn.modules.conv.Concat           [1]                           \n",
            " 12                  -1  1    591360  ultralytics.nn.modules.block.C2f             [768, 256, 1]                 \n",
            " 13                  -1  1         0  torch.nn.modules.upsampling.Upsample         [None, 2, 'nearest']          \n",
            " 14             [-1, 4]  1         0  ultralytics.nn.modules.conv.Concat           [1]                           \n",
            " 15                  -1  1    148224  ultralytics.nn.modules.block.C2f             [384, 128, 1]                 \n",
            " 16                  -1  1    147712  ultralytics.nn.modules.conv.Conv             [128, 128, 3, 2]              \n",
            " 17            [-1, 12]  1         0  ultralytics.nn.modules.conv.Concat           [1]                           \n",
            " 18                  -1  1    493056  ultralytics.nn.modules.block.C2f             [384, 256, 1]                 \n",
            " 19                  -1  1    590336  ultralytics.nn.modules.conv.Conv             [256, 256, 3, 2]              \n",
            " 20             [-1, 9]  1         0  ultralytics.nn.modules.conv.Concat           [1]                           \n",
            " 21                  -1  1   1969152  ultralytics.nn.modules.block.C2f             [768, 512, 1]                 \n"
          ]
        },
        {
          "output_type": "stream",
          "name": "stderr",
          "text": [
            "\n"
          ]
        },
        {
          "output_type": "stream",
          "name": "stdout",
          "text": [
            " 22        [15, 18, 21]  1   2116435  ultralytics.nn.modules.head.Detect           [1, [128, 256, 512]]          \n",
            "Model summary: 129 layers, 11,135,987 parameters, 11,135,971 gradients, 28.6 GFLOPs\n",
            "\n",
            "Transferred 349/355 items from pretrained weights\n",
            "Freezing layer 'model.22.dfl.conv.weight'\n",
            "\u001b[34m\u001b[1mAMP: \u001b[0mrunning Automatic Mixed Precision (AMP) checks...\n",
            "Downloading https://github.com/ultralytics/assets/releases/download/v8.3.0/yolo11n.pt to 'yolo11n.pt'...\n"
          ]
        },
        {
          "output_type": "stream",
          "name": "stderr",
          "text": [
            "100%|██████████| 5.35M/5.35M [00:00<00:00, 101MB/s]\n"
          ]
        },
        {
          "output_type": "stream",
          "name": "stdout",
          "text": [
            "\u001b[34m\u001b[1mAMP: \u001b[0mchecks passed ✅\n",
            "\u001b[34m\u001b[1mtrain: \u001b[0mFast image access ✅ (ping: 0.0±0.0 ms, read: 12.5±3.2 MB/s, size: 17.0 KB)\n"
          ]
        },
        {
          "output_type": "stream",
          "name": "stderr",
          "text": [
            "\u001b[34m\u001b[1mtrain: \u001b[0mScanning /content/side-view-gear-detection-3/train/labels... 51 images, 0 backgrounds, 0 corrupt: 100%|██████████| 51/51 [00:00<00:00, 1485.51it/s]"
          ]
        },
        {
          "output_type": "stream",
          "name": "stdout",
          "text": [
            "\u001b[34m\u001b[1mtrain: \u001b[0mNew cache created: /content/side-view-gear-detection-3/train/labels.cache\n"
          ]
        },
        {
          "output_type": "stream",
          "name": "stderr",
          "text": [
            "\n"
          ]
        },
        {
          "output_type": "stream",
          "name": "stdout",
          "text": [
            "\u001b[34m\u001b[1malbumentations: \u001b[0mBlur(p=0.01, blur_limit=(3, 7)), MedianBlur(p=0.01, blur_limit=(3, 7)), ToGray(p=0.01, method='weighted_average', num_output_channels=3), CLAHE(p=0.01, clip_limit=(1.0, 4.0), tile_grid_size=(8, 8))\n",
            "\u001b[34m\u001b[1mval: \u001b[0mFast image access ✅ (ping: 0.0±0.0 ms, read: 6.7±3.7 MB/s, size: 17.0 KB)\n"
          ]
        },
        {
          "output_type": "stream",
          "name": "stderr",
          "text": [
            "\u001b[34m\u001b[1mval: \u001b[0mScanning /content/side-view-gear-detection-3/valid/labels... 14 images, 0 backgrounds, 0 corrupt: 100%|██████████| 14/14 [00:00<00:00, 487.45it/s]"
          ]
        },
        {
          "output_type": "stream",
          "name": "stdout",
          "text": [
            "\u001b[34m\u001b[1mval: \u001b[0mNew cache created: /content/side-view-gear-detection-3/valid/labels.cache\n"
          ]
        },
        {
          "output_type": "stream",
          "name": "stderr",
          "text": [
            "\n"
          ]
        },
        {
          "output_type": "stream",
          "name": "stdout",
          "text": [
            "Plotting labels to runs/detect/train/labels.jpg... \n",
            "\u001b[34m\u001b[1moptimizer:\u001b[0m 'optimizer=auto' found, ignoring 'lr0=0.01' and 'momentum=0.937' and determining best 'optimizer', 'lr0' and 'momentum' automatically... \n",
            "\u001b[34m\u001b[1moptimizer:\u001b[0m AdamW(lr=0.002, momentum=0.9) with parameter groups 57 weight(decay=0.0), 64 weight(decay=0.0005), 63 bias(decay=0.0)\n",
            "Image sizes 640 train, 640 val\n",
            "Using 2 dataloader workers\n",
            "Logging results to \u001b[1mruns/detect/train\u001b[0m\n",
            "Starting training for 100 epochs...\n",
            "\n",
            "      Epoch    GPU_mem   box_loss   cls_loss   dfl_loss  Instances       Size\n"
          ]
        },
        {
          "output_type": "stream",
          "name": "stderr",
          "text": [
            "      1/100      3.56G      4.247      5.744      2.299         56        640: 100%|██████████| 4/4 [00:03<00:00,  1.30it/s]\n",
            "                 Class     Images  Instances      Box(P          R      mAP50  mAP50-95): 100%|██████████| 1/1 [00:01<00:00,  1.11s/it]"
          ]
        },
        {
          "output_type": "stream",
          "name": "stdout",
          "text": [
            "                   all         14        112    0.00143     0.0536   0.000754   0.000137\n",
            "\n",
            "      Epoch    GPU_mem   box_loss   cls_loss   dfl_loss  Instances       Size\n"
          ]
        },
        {
          "output_type": "stream",
          "name": "stderr",
          "text": [
            "\n",
            "      2/100      3.57G      4.262      5.675      2.315         35        640: 100%|██████████| 4/4 [00:01<00:00,  3.82it/s]\n",
            "                 Class     Images  Instances      Box(P          R      mAP50  mAP50-95): 100%|██████████| 1/1 [00:00<00:00,  7.78it/s]"
          ]
        },
        {
          "output_type": "stream",
          "name": "stdout",
          "text": [
            "                   all         14        112     0.0019     0.0714    0.00102   0.000228\n"
          ]
        },
        {
          "output_type": "stream",
          "name": "stderr",
          "text": [
            "\n"
          ]
        },
        {
          "output_type": "stream",
          "name": "stdout",
          "text": [
            "\n",
            "      Epoch    GPU_mem   box_loss   cls_loss   dfl_loss  Instances       Size\n"
          ]
        },
        {
          "output_type": "stream",
          "name": "stderr",
          "text": [
            "      3/100      3.61G      3.623      4.266      1.997         48        640: 100%|██████████| 4/4 [00:01<00:00,  3.78it/s]\n",
            "                 Class     Images  Instances      Box(P          R      mAP50  mAP50-95): 100%|██████████| 1/1 [00:00<00:00,  6.96it/s]"
          ]
        },
        {
          "output_type": "stream",
          "name": "stdout",
          "text": [
            "                   all         14        112      0.121      0.411     0.0915     0.0294\n"
          ]
        },
        {
          "output_type": "stream",
          "name": "stderr",
          "text": [
            "\n"
          ]
        },
        {
          "output_type": "stream",
          "name": "stdout",
          "text": [
            "\n",
            "      Epoch    GPU_mem   box_loss   cls_loss   dfl_loss  Instances       Size\n"
          ]
        },
        {
          "output_type": "stream",
          "name": "stderr",
          "text": [
            "      4/100      3.65G      2.227      2.351      1.362         24        640: 100%|██████████| 4/4 [00:00<00:00,  4.26it/s]\n",
            "                 Class     Images  Instances      Box(P          R      mAP50  mAP50-95): 100%|██████████| 1/1 [00:00<00:00,  5.35it/s]\n"
          ]
        },
        {
          "output_type": "stream",
          "name": "stdout",
          "text": [
            "                   all         14        112      0.546      0.699      0.578      0.177\n",
            "\n",
            "      Epoch    GPU_mem   box_loss   cls_loss   dfl_loss  Instances       Size\n"
          ]
        },
        {
          "output_type": "stream",
          "name": "stderr",
          "text": [
            "      5/100      3.69G      1.831      1.604      1.213         29        640: 100%|██████████| 4/4 [00:00<00:00,  4.34it/s]\n",
            "                 Class     Images  Instances      Box(P          R      mAP50  mAP50-95): 100%|██████████| 1/1 [00:00<00:00,  6.56it/s]"
          ]
        },
        {
          "output_type": "stream",
          "name": "stdout",
          "text": [
            "                   all         14        112      0.607      0.848       0.64      0.224\n"
          ]
        },
        {
          "output_type": "stream",
          "name": "stderr",
          "text": [
            "\n"
          ]
        },
        {
          "output_type": "stream",
          "name": "stdout",
          "text": [
            "\n",
            "      Epoch    GPU_mem   box_loss   cls_loss   dfl_loss  Instances       Size\n"
          ]
        },
        {
          "output_type": "stream",
          "name": "stderr",
          "text": [
            "      6/100      3.72G      1.669      1.409      1.136         33        640: 100%|██████████| 4/4 [00:01<00:00,  3.40it/s]\n",
            "                 Class     Images  Instances      Box(P          R      mAP50  mAP50-95): 100%|██████████| 1/1 [00:00<00:00,  5.04it/s]"
          ]
        },
        {
          "output_type": "stream",
          "name": "stdout",
          "text": [
            "                   all         14        112       0.69      0.634      0.769      0.303\n"
          ]
        },
        {
          "output_type": "stream",
          "name": "stderr",
          "text": [
            "\n"
          ]
        },
        {
          "output_type": "stream",
          "name": "stdout",
          "text": [
            "\n",
            "      Epoch    GPU_mem   box_loss   cls_loss   dfl_loss  Instances       Size\n"
          ]
        },
        {
          "output_type": "stream",
          "name": "stderr",
          "text": [
            "      7/100      3.76G       1.66      1.472      1.162         22        640: 100%|██████████| 4/4 [00:01<00:00,  3.12it/s]\n",
            "                 Class     Images  Instances      Box(P          R      mAP50  mAP50-95): 100%|██████████| 1/1 [00:00<00:00,  6.36it/s]"
          ]
        },
        {
          "output_type": "stream",
          "name": "stdout",
          "text": [
            "                   all         14        112      0.685      0.661      0.724      0.294\n"
          ]
        },
        {
          "output_type": "stream",
          "name": "stderr",
          "text": [
            "\n"
          ]
        },
        {
          "output_type": "stream",
          "name": "stdout",
          "text": [
            "\n",
            "      Epoch    GPU_mem   box_loss   cls_loss   dfl_loss  Instances       Size\n"
          ]
        },
        {
          "output_type": "stream",
          "name": "stderr",
          "text": [
            "      8/100       3.8G      1.616      1.502      1.191         43        640: 100%|██████████| 4/4 [00:00<00:00,  4.29it/s]\n",
            "                 Class     Images  Instances      Box(P          R      mAP50  mAP50-95): 100%|██████████| 1/1 [00:00<00:00,  7.20it/s]"
          ]
        },
        {
          "output_type": "stream",
          "name": "stdout",
          "text": [
            "                   all         14        112      0.797      0.491      0.675      0.235\n"
          ]
        },
        {
          "output_type": "stream",
          "name": "stderr",
          "text": [
            "\n"
          ]
        },
        {
          "output_type": "stream",
          "name": "stdout",
          "text": [
            "\n",
            "      Epoch    GPU_mem   box_loss   cls_loss   dfl_loss  Instances       Size\n"
          ]
        },
        {
          "output_type": "stream",
          "name": "stderr",
          "text": [
            "      9/100       3.9G      1.463      1.373       1.08         43        640: 100%|██████████| 4/4 [00:00<00:00,  4.36it/s]\n",
            "                 Class     Images  Instances      Box(P          R      mAP50  mAP50-95): 100%|██████████| 1/1 [00:00<00:00,  7.70it/s]"
          ]
        },
        {
          "output_type": "stream",
          "name": "stdout",
          "text": [
            "                   all         14        112      0.555      0.679      0.712       0.32\n"
          ]
        },
        {
          "output_type": "stream",
          "name": "stderr",
          "text": [
            "\n"
          ]
        },
        {
          "output_type": "stream",
          "name": "stdout",
          "text": [
            "\n",
            "      Epoch    GPU_mem   box_loss   cls_loss   dfl_loss  Instances       Size\n"
          ]
        },
        {
          "output_type": "stream",
          "name": "stderr",
          "text": [
            "     10/100         4G      1.498       1.24      1.072         44        640: 100%|██████████| 4/4 [00:00<00:00,  4.41it/s]\n",
            "                 Class     Images  Instances      Box(P          R      mAP50  mAP50-95): 100%|██████████| 1/1 [00:00<00:00,  7.23it/s]"
          ]
        },
        {
          "output_type": "stream",
          "name": "stdout",
          "text": [
            "                   all         14        112      0.503      0.616      0.566      0.208\n"
          ]
        },
        {
          "output_type": "stream",
          "name": "stderr",
          "text": [
            "\n"
          ]
        },
        {
          "output_type": "stream",
          "name": "stdout",
          "text": [
            "\n",
            "      Epoch    GPU_mem   box_loss   cls_loss   dfl_loss  Instances       Size\n"
          ]
        },
        {
          "output_type": "stream",
          "name": "stderr",
          "text": [
            "     11/100      4.04G      1.537      1.154      1.162         35        640: 100%|██████████| 4/4 [00:00<00:00,  4.17it/s]\n",
            "                 Class     Images  Instances      Box(P          R      mAP50  mAP50-95): 100%|██████████| 1/1 [00:00<00:00,  7.68it/s]"
          ]
        },
        {
          "output_type": "stream",
          "name": "stdout",
          "text": [
            "                   all         14        112      0.771      0.542       0.71      0.404\n"
          ]
        },
        {
          "output_type": "stream",
          "name": "stderr",
          "text": [
            "\n"
          ]
        },
        {
          "output_type": "stream",
          "name": "stdout",
          "text": [
            "\n",
            "      Epoch    GPU_mem   box_loss   cls_loss   dfl_loss  Instances       Size\n"
          ]
        },
        {
          "output_type": "stream",
          "name": "stderr",
          "text": [
            "     12/100      4.07G      1.468      1.099      1.042         58        640: 100%|██████████| 4/4 [00:00<00:00,  4.35it/s]\n",
            "                 Class     Images  Instances      Box(P          R      mAP50  mAP50-95): 100%|██████████| 1/1 [00:00<00:00,  7.79it/s]"
          ]
        },
        {
          "output_type": "stream",
          "name": "stdout",
          "text": [
            "                   all         14        112      0.557      0.652      0.706      0.344\n"
          ]
        },
        {
          "output_type": "stream",
          "name": "stderr",
          "text": [
            "\n"
          ]
        },
        {
          "output_type": "stream",
          "name": "stdout",
          "text": [
            "\n",
            "      Epoch    GPU_mem   box_loss   cls_loss   dfl_loss  Instances       Size\n"
          ]
        },
        {
          "output_type": "stream",
          "name": "stderr",
          "text": [
            "     13/100      4.11G      1.485      1.152      1.083         20        640: 100%|██████████| 4/4 [00:00<00:00,  4.30it/s]\n",
            "                 Class     Images  Instances      Box(P          R      mAP50  mAP50-95): 100%|██████████| 1/1 [00:00<00:00,  7.87it/s]"
          ]
        },
        {
          "output_type": "stream",
          "name": "stdout",
          "text": [
            "                   all         14        112      0.585      0.688      0.645      0.345\n"
          ]
        },
        {
          "output_type": "stream",
          "name": "stderr",
          "text": [
            "\n"
          ]
        },
        {
          "output_type": "stream",
          "name": "stdout",
          "text": [
            "\n",
            "      Epoch    GPU_mem   box_loss   cls_loss   dfl_loss  Instances       Size\n"
          ]
        },
        {
          "output_type": "stream",
          "name": "stderr",
          "text": [
            "     14/100      4.22G      1.515      1.147      1.026         56        640: 100%|██████████| 4/4 [00:00<00:00,  4.27it/s]\n",
            "                 Class     Images  Instances      Box(P          R      mAP50  mAP50-95): 100%|██████████| 1/1 [00:00<00:00,  6.85it/s]"
          ]
        },
        {
          "output_type": "stream",
          "name": "stdout",
          "text": [
            "                   all         14        112      0.534      0.777      0.684      0.342\n"
          ]
        },
        {
          "output_type": "stream",
          "name": "stderr",
          "text": [
            "\n"
          ]
        },
        {
          "output_type": "stream",
          "name": "stdout",
          "text": [
            "\n",
            "      Epoch    GPU_mem   box_loss   cls_loss   dfl_loss  Instances       Size\n"
          ]
        },
        {
          "output_type": "stream",
          "name": "stderr",
          "text": [
            "     15/100      4.32G      1.471      1.059      1.027         35        640: 100%|██████████| 4/4 [00:01<00:00,  3.17it/s]\n",
            "                 Class     Images  Instances      Box(P          R      mAP50  mAP50-95): 100%|██████████| 1/1 [00:00<00:00,  3.77it/s]"
          ]
        },
        {
          "output_type": "stream",
          "name": "stdout",
          "text": [
            "                   all         14        112      0.661      0.527      0.635       0.34\n"
          ]
        },
        {
          "output_type": "stream",
          "name": "stderr",
          "text": [
            "\n"
          ]
        },
        {
          "output_type": "stream",
          "name": "stdout",
          "text": [
            "\n",
            "      Epoch    GPU_mem   box_loss   cls_loss   dfl_loss  Instances       Size\n"
          ]
        },
        {
          "output_type": "stream",
          "name": "stderr",
          "text": [
            "     16/100      4.35G      1.441      1.103      1.028         18        640: 100%|██████████| 4/4 [00:00<00:00,  4.50it/s]\n",
            "                 Class     Images  Instances      Box(P          R      mAP50  mAP50-95): 100%|██████████| 1/1 [00:00<00:00,  7.78it/s]"
          ]
        },
        {
          "output_type": "stream",
          "name": "stdout",
          "text": [
            "                   all         14        112      0.538      0.607      0.465      0.199\n"
          ]
        },
        {
          "output_type": "stream",
          "name": "stderr",
          "text": [
            "\n"
          ]
        },
        {
          "output_type": "stream",
          "name": "stdout",
          "text": [
            "\n",
            "      Epoch    GPU_mem   box_loss   cls_loss   dfl_loss  Instances       Size\n"
          ]
        },
        {
          "output_type": "stream",
          "name": "stderr",
          "text": [
            "     17/100      4.46G      1.486      1.026      1.005         54        640: 100%|██████████| 4/4 [00:00<00:00,  4.19it/s]\n",
            "                 Class     Images  Instances      Box(P          R      mAP50  mAP50-95): 100%|██████████| 1/1 [00:00<00:00,  6.86it/s]"
          ]
        },
        {
          "output_type": "stream",
          "name": "stdout",
          "text": [
            "                   all         14        112      0.526      0.625      0.567      0.254\n"
          ]
        },
        {
          "output_type": "stream",
          "name": "stderr",
          "text": [
            "\n"
          ]
        },
        {
          "output_type": "stream",
          "name": "stdout",
          "text": [
            "\n",
            "      Epoch    GPU_mem   box_loss   cls_loss   dfl_loss  Instances       Size\n"
          ]
        },
        {
          "output_type": "stream",
          "name": "stderr",
          "text": [
            "     18/100      4.49G      1.432      1.009      1.036         33        640: 100%|██████████| 4/4 [00:00<00:00,  4.19it/s]\n",
            "                 Class     Images  Instances      Box(P          R      mAP50  mAP50-95): 100%|██████████| 1/1 [00:00<00:00,  7.38it/s]"
          ]
        },
        {
          "output_type": "stream",
          "name": "stdout",
          "text": [
            "                   all         14        112      0.679      0.821      0.764      0.305\n"
          ]
        },
        {
          "output_type": "stream",
          "name": "stderr",
          "text": [
            "\n"
          ]
        },
        {
          "output_type": "stream",
          "name": "stdout",
          "text": [
            "\n",
            "      Epoch    GPU_mem   box_loss   cls_loss   dfl_loss  Instances       Size\n"
          ]
        },
        {
          "output_type": "stream",
          "name": "stderr",
          "text": [
            "     19/100      4.52G      1.426      1.085      1.017         31        640: 100%|██████████| 4/4 [00:01<00:00,  3.82it/s]\n",
            "                 Class     Images  Instances      Box(P          R      mAP50  mAP50-95): 100%|██████████| 1/1 [00:00<00:00,  4.53it/s]"
          ]
        },
        {
          "output_type": "stream",
          "name": "stdout",
          "text": [
            "                   all         14        112      0.791      0.845      0.845       0.38\n"
          ]
        },
        {
          "output_type": "stream",
          "name": "stderr",
          "text": [
            "\n"
          ]
        },
        {
          "output_type": "stream",
          "name": "stdout",
          "text": [
            "\n",
            "      Epoch    GPU_mem   box_loss   cls_loss   dfl_loss  Instances       Size\n"
          ]
        },
        {
          "output_type": "stream",
          "name": "stderr",
          "text": [
            "     20/100      4.56G      1.313     0.9759      1.007         50        640: 100%|██████████| 4/4 [00:01<00:00,  3.16it/s]\n",
            "                 Class     Images  Instances      Box(P          R      mAP50  mAP50-95): 100%|██████████| 1/1 [00:00<00:00,  3.63it/s]"
          ]
        },
        {
          "output_type": "stream",
          "name": "stdout",
          "text": [
            "                   all         14        112      0.849      0.696      0.834      0.401\n"
          ]
        },
        {
          "output_type": "stream",
          "name": "stderr",
          "text": [
            "\n"
          ]
        },
        {
          "output_type": "stream",
          "name": "stdout",
          "text": [
            "\n",
            "      Epoch    GPU_mem   box_loss   cls_loss   dfl_loss  Instances       Size\n"
          ]
        },
        {
          "output_type": "stream",
          "name": "stderr",
          "text": [
            "     21/100      4.67G      1.503      1.032      1.044         27        640: 100%|██████████| 4/4 [00:01<00:00,  2.58it/s]\n",
            "                 Class     Images  Instances      Box(P          R      mAP50  mAP50-95): 100%|██████████| 1/1 [00:00<00:00,  2.78it/s]"
          ]
        },
        {
          "output_type": "stream",
          "name": "stdout",
          "text": [
            "                   all         14        112      0.731      0.679      0.743        0.3\n"
          ]
        },
        {
          "output_type": "stream",
          "name": "stderr",
          "text": [
            "\n"
          ]
        },
        {
          "output_type": "stream",
          "name": "stdout",
          "text": [
            "\n",
            "      Epoch    GPU_mem   box_loss   cls_loss   dfl_loss  Instances       Size\n"
          ]
        },
        {
          "output_type": "stream",
          "name": "stderr",
          "text": [
            "     22/100       4.7G      1.457     0.9543      1.076         34        640: 100%|██████████| 4/4 [00:01<00:00,  2.66it/s]\n",
            "                 Class     Images  Instances      Box(P          R      mAP50  mAP50-95): 100%|██████████| 1/1 [00:00<00:00,  5.16it/s]"
          ]
        },
        {
          "output_type": "stream",
          "name": "stdout",
          "text": [
            "                   all         14        112      0.958      0.625      0.855      0.435\n"
          ]
        },
        {
          "output_type": "stream",
          "name": "stderr",
          "text": [
            "\n"
          ]
        },
        {
          "output_type": "stream",
          "name": "stdout",
          "text": [
            "\n",
            "      Epoch    GPU_mem   box_loss   cls_loss   dfl_loss  Instances       Size\n"
          ]
        },
        {
          "output_type": "stream",
          "name": "stderr",
          "text": [
            "     23/100       4.8G      1.377     0.9809      1.014         32        640: 100%|██████████| 4/4 [00:00<00:00,  4.33it/s]\n",
            "                 Class     Images  Instances      Box(P          R      mAP50  mAP50-95): 100%|██████████| 1/1 [00:00<00:00,  6.88it/s]"
          ]
        },
        {
          "output_type": "stream",
          "name": "stdout",
          "text": [
            "                   all         14        112      0.926      0.723      0.888      0.443\n"
          ]
        },
        {
          "output_type": "stream",
          "name": "stderr",
          "text": [
            "\n"
          ]
        },
        {
          "output_type": "stream",
          "name": "stdout",
          "text": [
            "\n",
            "      Epoch    GPU_mem   box_loss   cls_loss   dfl_loss  Instances       Size\n"
          ]
        },
        {
          "output_type": "stream",
          "name": "stderr",
          "text": [
            "     24/100      4.91G      1.374      1.005      1.068         18        640: 100%|██████████| 4/4 [00:00<00:00,  4.45it/s]\n",
            "                 Class     Images  Instances      Box(P          R      mAP50  mAP50-95): 100%|██████████| 1/1 [00:00<00:00,  7.94it/s]"
          ]
        },
        {
          "output_type": "stream",
          "name": "stdout",
          "text": [
            "                   all         14        112      0.663       0.83       0.86      0.378\n"
          ]
        },
        {
          "output_type": "stream",
          "name": "stderr",
          "text": [
            "\n"
          ]
        },
        {
          "output_type": "stream",
          "name": "stdout",
          "text": [
            "\n",
            "      Epoch    GPU_mem   box_loss   cls_loss   dfl_loss  Instances       Size\n"
          ]
        },
        {
          "output_type": "stream",
          "name": "stderr",
          "text": [
            "     25/100      4.94G      1.404     0.9781     0.9854         56        640: 100%|██████████| 4/4 [00:00<00:00,  4.49it/s]\n",
            "                 Class     Images  Instances      Box(P          R      mAP50  mAP50-95): 100%|██████████| 1/1 [00:00<00:00,  7.94it/s]"
          ]
        },
        {
          "output_type": "stream",
          "name": "stdout",
          "text": [
            "                   all         14        112      0.839      0.804      0.869      0.487\n"
          ]
        },
        {
          "output_type": "stream",
          "name": "stderr",
          "text": [
            "\n"
          ]
        },
        {
          "output_type": "stream",
          "name": "stdout",
          "text": [
            "\n",
            "      Epoch    GPU_mem   box_loss   cls_loss   dfl_loss  Instances       Size\n"
          ]
        },
        {
          "output_type": "stream",
          "name": "stderr",
          "text": [
            "     26/100      4.97G      1.388     0.9929      1.012         29        640: 100%|██████████| 4/4 [00:01<00:00,  3.60it/s]\n",
            "                 Class     Images  Instances      Box(P          R      mAP50  mAP50-95): 100%|██████████| 1/1 [00:00<00:00,  4.54it/s]"
          ]
        },
        {
          "output_type": "stream",
          "name": "stdout",
          "text": [
            "                   all         14        112      0.883      0.873      0.895      0.451\n"
          ]
        },
        {
          "output_type": "stream",
          "name": "stderr",
          "text": [
            "\n"
          ]
        },
        {
          "output_type": "stream",
          "name": "stdout",
          "text": [
            "\n",
            "      Epoch    GPU_mem   box_loss   cls_loss   dfl_loss  Instances       Size\n"
          ]
        },
        {
          "output_type": "stream",
          "name": "stderr",
          "text": [
            "     27/100      5.08G      1.402     0.9508       1.12         24        640: 100%|██████████| 4/4 [00:01<00:00,  3.32it/s]\n",
            "                 Class     Images  Instances      Box(P          R      mAP50  mAP50-95): 100%|██████████| 1/1 [00:00<00:00,  4.53it/s]"
          ]
        },
        {
          "output_type": "stream",
          "name": "stdout",
          "text": [
            "                   all         14        112      0.791      0.845      0.869      0.518\n"
          ]
        },
        {
          "output_type": "stream",
          "name": "stderr",
          "text": [
            "\n"
          ]
        },
        {
          "output_type": "stream",
          "name": "stdout",
          "text": [
            "\n",
            "      Epoch    GPU_mem   box_loss   cls_loss   dfl_loss  Instances       Size\n"
          ]
        },
        {
          "output_type": "stream",
          "name": "stderr",
          "text": [
            "     28/100      5.12G      1.337     0.9635      1.078         24        640: 100%|██████████| 4/4 [00:01<00:00,  3.65it/s]\n",
            "                 Class     Images  Instances      Box(P          R      mAP50  mAP50-95): 100%|██████████| 1/1 [00:00<00:00,  5.27it/s]"
          ]
        },
        {
          "output_type": "stream",
          "name": "stdout",
          "text": [
            "                   all         14        112      0.808      0.804      0.872      0.531\n"
          ]
        },
        {
          "output_type": "stream",
          "name": "stderr",
          "text": [
            "\n"
          ]
        },
        {
          "output_type": "stream",
          "name": "stdout",
          "text": [
            "\n",
            "      Epoch    GPU_mem   box_loss   cls_loss   dfl_loss  Instances       Size\n"
          ]
        },
        {
          "output_type": "stream",
          "name": "stderr",
          "text": [
            "     29/100      5.21G      1.385     0.9233     0.9869         43        640: 100%|██████████| 4/4 [00:01<00:00,  3.18it/s]\n",
            "                 Class     Images  Instances      Box(P          R      mAP50  mAP50-95): 100%|██████████| 1/1 [00:00<00:00,  7.21it/s]"
          ]
        },
        {
          "output_type": "stream",
          "name": "stdout",
          "text": [
            "                   all         14        112      0.737      0.812      0.837      0.514\n"
          ]
        },
        {
          "output_type": "stream",
          "name": "stderr",
          "text": [
            "\n"
          ]
        },
        {
          "output_type": "stream",
          "name": "stdout",
          "text": [
            "\n",
            "      Epoch    GPU_mem   box_loss   cls_loss   dfl_loss  Instances       Size\n"
          ]
        },
        {
          "output_type": "stream",
          "name": "stderr",
          "text": [
            "     30/100      5.25G      1.267      0.906      1.028         31        640: 100%|██████████| 4/4 [00:00<00:00,  4.26it/s]\n",
            "                 Class     Images  Instances      Box(P          R      mAP50  mAP50-95): 100%|██████████| 1/1 [00:00<00:00,  7.96it/s]"
          ]
        },
        {
          "output_type": "stream",
          "name": "stdout",
          "text": [
            "                   all         14        112      0.691      0.982      0.867      0.539\n"
          ]
        },
        {
          "output_type": "stream",
          "name": "stderr",
          "text": [
            "\n"
          ]
        },
        {
          "output_type": "stream",
          "name": "stdout",
          "text": [
            "\n",
            "      Epoch    GPU_mem   box_loss   cls_loss   dfl_loss  Instances       Size\n"
          ]
        },
        {
          "output_type": "stream",
          "name": "stderr",
          "text": [
            "     31/100      5.35G      1.309     0.9005     0.9789         40        640: 100%|██████████| 4/4 [00:00<00:00,  4.38it/s]\n",
            "                 Class     Images  Instances      Box(P          R      mAP50  mAP50-95): 100%|██████████| 1/1 [00:00<00:00,  7.74it/s]"
          ]
        },
        {
          "output_type": "stream",
          "name": "stdout",
          "text": [
            "                   all         14        112       0.67      0.741      0.782       0.48\n"
          ]
        },
        {
          "output_type": "stream",
          "name": "stderr",
          "text": [
            "\n"
          ]
        },
        {
          "output_type": "stream",
          "name": "stdout",
          "text": [
            "\n",
            "      Epoch    GPU_mem   box_loss   cls_loss   dfl_loss  Instances       Size\n"
          ]
        },
        {
          "output_type": "stream",
          "name": "stderr",
          "text": [
            "     32/100      5.39G      1.357     0.9164      1.049         23        640: 100%|██████████| 4/4 [00:00<00:00,  4.29it/s]\n",
            "                 Class     Images  Instances      Box(P          R      mAP50  mAP50-95): 100%|██████████| 1/1 [00:00<00:00,  7.09it/s]"
          ]
        },
        {
          "output_type": "stream",
          "name": "stdout",
          "text": [
            "                   all         14        112      0.535       0.75      0.684      0.391\n"
          ]
        },
        {
          "output_type": "stream",
          "name": "stderr",
          "text": [
            "\n"
          ]
        },
        {
          "output_type": "stream",
          "name": "stdout",
          "text": [
            "\n",
            "      Epoch    GPU_mem   box_loss   cls_loss   dfl_loss  Instances       Size\n"
          ]
        },
        {
          "output_type": "stream",
          "name": "stderr",
          "text": [
            "     33/100      5.42G      1.278     0.9198      0.997         20        640: 100%|██████████| 4/4 [00:00<00:00,  4.40it/s]\n",
            "                 Class     Images  Instances      Box(P          R      mAP50  mAP50-95): 100%|██████████| 1/1 [00:00<00:00,  7.90it/s]"
          ]
        },
        {
          "output_type": "stream",
          "name": "stdout",
          "text": [
            "                   all         14        112      0.486      0.929      0.674      0.428\n"
          ]
        },
        {
          "output_type": "stream",
          "name": "stderr",
          "text": [
            "\n"
          ]
        },
        {
          "output_type": "stream",
          "name": "stdout",
          "text": [
            "\n",
            "      Epoch    GPU_mem   box_loss   cls_loss   dfl_loss  Instances       Size\n"
          ]
        },
        {
          "output_type": "stream",
          "name": "stderr",
          "text": [
            "     34/100      5.52G      1.319     0.8977      1.019         29        640: 100%|██████████| 4/4 [00:00<00:00,  4.38it/s]\n",
            "                 Class     Images  Instances      Box(P          R      mAP50  mAP50-95): 100%|██████████| 1/1 [00:00<00:00,  7.32it/s]"
          ]
        },
        {
          "output_type": "stream",
          "name": "stdout",
          "text": [
            "                   all         14        112      0.685      0.884      0.855      0.563\n"
          ]
        },
        {
          "output_type": "stream",
          "name": "stderr",
          "text": [
            "\n"
          ]
        },
        {
          "output_type": "stream",
          "name": "stdout",
          "text": [
            "\n",
            "      Epoch    GPU_mem   box_loss   cls_loss   dfl_loss  Instances       Size\n"
          ]
        },
        {
          "output_type": "stream",
          "name": "stderr",
          "text": [
            "     35/100      5.56G      1.302     0.8897      1.001         29        640: 100%|██████████| 4/4 [00:00<00:00,  4.39it/s]\n",
            "                 Class     Images  Instances      Box(P          R      mAP50  mAP50-95): 100%|██████████| 1/1 [00:00<00:00,  7.74it/s]"
          ]
        },
        {
          "output_type": "stream",
          "name": "stdout",
          "text": [
            "                   all         14        112      0.869      0.973      0.978      0.617\n"
          ]
        },
        {
          "output_type": "stream",
          "name": "stderr",
          "text": [
            "\n"
          ]
        },
        {
          "output_type": "stream",
          "name": "stdout",
          "text": [
            "\n",
            "      Epoch    GPU_mem   box_loss   cls_loss   dfl_loss  Instances       Size\n"
          ]
        },
        {
          "output_type": "stream",
          "name": "stderr",
          "text": [
            "     36/100      5.66G      1.345     0.8992     0.9999         24        640: 100%|██████████| 4/4 [00:00<00:00,  4.13it/s]\n",
            "                 Class     Images  Instances      Box(P          R      mAP50  mAP50-95): 100%|██████████| 1/1 [00:00<00:00,  6.62it/s]"
          ]
        },
        {
          "output_type": "stream",
          "name": "stdout",
          "text": [
            "                   all         14        112      0.895      0.973      0.957      0.588\n"
          ]
        },
        {
          "output_type": "stream",
          "name": "stderr",
          "text": [
            "\n"
          ]
        },
        {
          "output_type": "stream",
          "name": "stdout",
          "text": [
            "\n",
            "      Epoch    GPU_mem   box_loss   cls_loss   dfl_loss  Instances       Size\n"
          ]
        },
        {
          "output_type": "stream",
          "name": "stderr",
          "text": [
            "     37/100       5.7G      1.246     0.9357     0.9974         34        640: 100%|██████████| 4/4 [00:01<00:00,  3.06it/s]\n",
            "                 Class     Images  Instances      Box(P          R      mAP50  mAP50-95): 100%|██████████| 1/1 [00:00<00:00,  6.34it/s]\n"
          ]
        },
        {
          "output_type": "stream",
          "name": "stdout",
          "text": [
            "                   all         14        112      0.876      0.964      0.953      0.561\n",
            "\n",
            "      Epoch    GPU_mem   box_loss   cls_loss   dfl_loss  Instances       Size\n"
          ]
        },
        {
          "output_type": "stream",
          "name": "stderr",
          "text": [
            "     38/100      5.73G      1.307     0.8851     0.9635         41        640: 100%|██████████| 4/4 [00:00<00:00,  4.37it/s]\n",
            "                 Class     Images  Instances      Box(P          R      mAP50  mAP50-95): 100%|██████████| 1/1 [00:00<00:00,  7.34it/s]"
          ]
        },
        {
          "output_type": "stream",
          "name": "stdout",
          "text": [
            "                   all         14        112      0.798      0.893      0.907      0.588\n"
          ]
        },
        {
          "output_type": "stream",
          "name": "stderr",
          "text": [
            "\n"
          ]
        },
        {
          "output_type": "stream",
          "name": "stdout",
          "text": [
            "\n",
            "      Epoch    GPU_mem   box_loss   cls_loss   dfl_loss  Instances       Size\n"
          ]
        },
        {
          "output_type": "stream",
          "name": "stderr",
          "text": [
            "     39/100      5.83G      1.269     0.8744     0.9892         46        640: 100%|██████████| 4/4 [00:00<00:00,  4.36it/s]\n",
            "                 Class     Images  Instances      Box(P          R      mAP50  mAP50-95): 100%|██████████| 1/1 [00:00<00:00,  7.93it/s]"
          ]
        },
        {
          "output_type": "stream",
          "name": "stdout",
          "text": [
            "                   all         14        112      0.819      0.875      0.913      0.602\n"
          ]
        },
        {
          "output_type": "stream",
          "name": "stderr",
          "text": [
            "\n"
          ]
        },
        {
          "output_type": "stream",
          "name": "stdout",
          "text": [
            "\n",
            "      Epoch    GPU_mem   box_loss   cls_loss   dfl_loss  Instances       Size\n"
          ]
        },
        {
          "output_type": "stream",
          "name": "stderr",
          "text": [
            "     40/100      5.87G      1.194     0.8663     0.9706         18        640: 100%|██████████| 4/4 [00:00<00:00,  4.39it/s]\n",
            "                 Class     Images  Instances      Box(P          R      mAP50  mAP50-95): 100%|██████████| 1/1 [00:00<00:00,  7.96it/s]"
          ]
        },
        {
          "output_type": "stream",
          "name": "stdout",
          "text": [
            "                   all         14        112      0.792      0.884      0.905      0.614\n"
          ]
        },
        {
          "output_type": "stream",
          "name": "stderr",
          "text": [
            "\n"
          ]
        },
        {
          "output_type": "stream",
          "name": "stdout",
          "text": [
            "\n",
            "      Epoch    GPU_mem   box_loss   cls_loss   dfl_loss  Instances       Size\n"
          ]
        },
        {
          "output_type": "stream",
          "name": "stderr",
          "text": [
            "     41/100      5.97G      1.225     0.8896       0.96         49        640: 100%|██████████| 4/4 [00:00<00:00,  4.48it/s]\n",
            "                 Class     Images  Instances      Box(P          R      mAP50  mAP50-95): 100%|██████████| 1/1 [00:00<00:00,  7.12it/s]"
          ]
        },
        {
          "output_type": "stream",
          "name": "stdout",
          "text": [
            "                   all         14        112      0.773      0.893      0.866      0.571\n"
          ]
        },
        {
          "output_type": "stream",
          "name": "stderr",
          "text": [
            "\n"
          ]
        },
        {
          "output_type": "stream",
          "name": "stdout",
          "text": [
            "\n",
            "      Epoch    GPU_mem   box_loss   cls_loss   dfl_loss  Instances       Size\n"
          ]
        },
        {
          "output_type": "stream",
          "name": "stderr",
          "text": [
            "     42/100      6.01G      1.277     0.9145     0.9775         30        640: 100%|██████████| 4/4 [00:00<00:00,  4.17it/s]\n",
            "                 Class     Images  Instances      Box(P          R      mAP50  mAP50-95): 100%|██████████| 1/1 [00:00<00:00,  7.93it/s]"
          ]
        },
        {
          "output_type": "stream",
          "name": "stdout",
          "text": [
            "                   all         14        112      0.793       0.92      0.877      0.524\n"
          ]
        },
        {
          "output_type": "stream",
          "name": "stderr",
          "text": [
            "\n"
          ]
        },
        {
          "output_type": "stream",
          "name": "stdout",
          "text": [
            "\n",
            "      Epoch    GPU_mem   box_loss   cls_loss   dfl_loss  Instances       Size\n"
          ]
        },
        {
          "output_type": "stream",
          "name": "stderr",
          "text": [
            "     43/100      6.11G      1.301       0.91     0.9951         38        640: 100%|██████████| 4/4 [00:00<00:00,  4.45it/s]\n",
            "                 Class     Images  Instances      Box(P          R      mAP50  mAP50-95): 100%|██████████| 1/1 [00:00<00:00,  7.88it/s]"
          ]
        },
        {
          "output_type": "stream",
          "name": "stdout",
          "text": [
            "                   all         14        112      0.831      0.812      0.883      0.538\n"
          ]
        },
        {
          "output_type": "stream",
          "name": "stderr",
          "text": [
            "\n"
          ]
        },
        {
          "output_type": "stream",
          "name": "stdout",
          "text": [
            "\n",
            "      Epoch    GPU_mem   box_loss   cls_loss   dfl_loss  Instances       Size\n"
          ]
        },
        {
          "output_type": "stream",
          "name": "stderr",
          "text": [
            "     44/100      6.14G      1.234     0.8879     0.9746         35        640: 100%|██████████| 4/4 [00:00<00:00,  4.34it/s]\n",
            "                 Class     Images  Instances      Box(P          R      mAP50  mAP50-95): 100%|██████████| 1/1 [00:00<00:00,  7.57it/s]"
          ]
        },
        {
          "output_type": "stream",
          "name": "stdout",
          "text": [
            "                   all         14        112      0.915       0.83      0.923      0.565\n"
          ]
        },
        {
          "output_type": "stream",
          "name": "stderr",
          "text": [
            "\n"
          ]
        },
        {
          "output_type": "stream",
          "name": "stdout",
          "text": [
            "\n",
            "      Epoch    GPU_mem   box_loss   cls_loss   dfl_loss  Instances       Size\n"
          ]
        },
        {
          "output_type": "stream",
          "name": "stderr",
          "text": [
            "     45/100      6.25G      1.227     0.8997     0.9679         21        640: 100%|██████████| 4/4 [00:01<00:00,  3.55it/s]\n",
            "                 Class     Images  Instances      Box(P          R      mAP50  mAP50-95): 100%|██████████| 1/1 [00:00<00:00,  3.79it/s]"
          ]
        },
        {
          "output_type": "stream",
          "name": "stdout",
          "text": [
            "                   all         14        112      0.869      0.866      0.871       0.51\n"
          ]
        },
        {
          "output_type": "stream",
          "name": "stderr",
          "text": [
            "\n"
          ]
        },
        {
          "output_type": "stream",
          "name": "stdout",
          "text": [
            "\n",
            "      Epoch    GPU_mem   box_loss   cls_loss   dfl_loss  Instances       Size\n"
          ]
        },
        {
          "output_type": "stream",
          "name": "stderr",
          "text": [
            "     46/100      6.29G      1.184     0.8517     0.9458         25        640: 100%|██████████| 4/4 [00:01<00:00,  3.67it/s]\n",
            "                 Class     Images  Instances      Box(P          R      mAP50  mAP50-95): 100%|██████████| 1/1 [00:00<00:00,  6.42it/s]"
          ]
        },
        {
          "output_type": "stream",
          "name": "stdout",
          "text": [
            "                   all         14        112      0.846      0.875      0.914      0.552\n"
          ]
        },
        {
          "output_type": "stream",
          "name": "stderr",
          "text": [
            "\n"
          ]
        },
        {
          "output_type": "stream",
          "name": "stdout",
          "text": [
            "\n",
            "      Epoch    GPU_mem   box_loss   cls_loss   dfl_loss  Instances       Size\n"
          ]
        },
        {
          "output_type": "stream",
          "name": "stderr",
          "text": [
            "     47/100      6.32G      1.265     0.8454     0.9502         40        640: 100%|██████████| 4/4 [00:00<00:00,  4.30it/s]\n",
            "                 Class     Images  Instances      Box(P          R      mAP50  mAP50-95): 100%|██████████| 1/1 [00:00<00:00,  7.89it/s]"
          ]
        },
        {
          "output_type": "stream",
          "name": "stdout",
          "text": [
            "                   all         14        112      0.679          1      0.907      0.595\n"
          ]
        },
        {
          "output_type": "stream",
          "name": "stderr",
          "text": [
            "\n"
          ]
        },
        {
          "output_type": "stream",
          "name": "stdout",
          "text": [
            "\n",
            "      Epoch    GPU_mem   box_loss   cls_loss   dfl_loss  Instances       Size\n"
          ]
        },
        {
          "output_type": "stream",
          "name": "stderr",
          "text": [
            "     48/100      6.42G      1.157     0.8988     0.9604         24        640: 100%|██████████| 4/4 [00:00<00:00,  4.44it/s]\n",
            "                 Class     Images  Instances      Box(P          R      mAP50  mAP50-95): 100%|██████████| 1/1 [00:00<00:00,  7.67it/s]"
          ]
        },
        {
          "output_type": "stream",
          "name": "stdout",
          "text": [
            "                   all         14        112      0.744          1      0.925      0.624\n"
          ]
        },
        {
          "output_type": "stream",
          "name": "stderr",
          "text": [
            "\n"
          ]
        },
        {
          "output_type": "stream",
          "name": "stdout",
          "text": [
            "\n",
            "      Epoch    GPU_mem   box_loss   cls_loss   dfl_loss  Instances       Size\n"
          ]
        },
        {
          "output_type": "stream",
          "name": "stderr",
          "text": [
            "     49/100      6.45G      1.151     0.8262     0.9388         54        640: 100%|██████████| 4/4 [00:00<00:00,  4.42it/s]\n",
            "                 Class     Images  Instances      Box(P          R      mAP50  mAP50-95): 100%|██████████| 1/1 [00:00<00:00,  3.28it/s]"
          ]
        },
        {
          "output_type": "stream",
          "name": "stdout",
          "text": [
            "                   all         14        112       0.98      0.741      0.933      0.623\n"
          ]
        },
        {
          "output_type": "stream",
          "name": "stderr",
          "text": [
            "\n"
          ]
        },
        {
          "output_type": "stream",
          "name": "stdout",
          "text": [
            "\n",
            "      Epoch    GPU_mem   box_loss   cls_loss   dfl_loss  Instances       Size\n"
          ]
        },
        {
          "output_type": "stream",
          "name": "stderr",
          "text": [
            "     50/100      6.55G       1.14     0.8687     0.9229         48        640: 100%|██████████| 4/4 [00:00<00:00,  4.30it/s]\n",
            "                 Class     Images  Instances      Box(P          R      mAP50  mAP50-95): 100%|██████████| 1/1 [00:00<00:00,  7.32it/s]"
          ]
        },
        {
          "output_type": "stream",
          "name": "stdout",
          "text": [
            "                   all         14        112      0.807          1      0.977      0.594\n"
          ]
        },
        {
          "output_type": "stream",
          "name": "stderr",
          "text": [
            "\n"
          ]
        },
        {
          "output_type": "stream",
          "name": "stdout",
          "text": [
            "\n",
            "      Epoch    GPU_mem   box_loss   cls_loss   dfl_loss  Instances       Size\n"
          ]
        },
        {
          "output_type": "stream",
          "name": "stderr",
          "text": [
            "     51/100      6.59G      1.194     0.8094     0.9267         41        640: 100%|██████████| 4/4 [00:00<00:00,  4.46it/s]\n",
            "                 Class     Images  Instances      Box(P          R      mAP50  mAP50-95): 100%|██████████| 1/1 [00:00<00:00,  7.95it/s]"
          ]
        },
        {
          "output_type": "stream",
          "name": "stdout",
          "text": [
            "                   all         14        112      0.871      0.991      0.964      0.636\n"
          ]
        },
        {
          "output_type": "stream",
          "name": "stderr",
          "text": [
            "\n"
          ]
        },
        {
          "output_type": "stream",
          "name": "stdout",
          "text": [
            "\n",
            "      Epoch    GPU_mem   box_loss   cls_loss   dfl_loss  Instances       Size\n"
          ]
        },
        {
          "output_type": "stream",
          "name": "stderr",
          "text": [
            "     52/100      6.69G      1.146     0.8107      0.941         48        640: 100%|██████████| 4/4 [00:00<00:00,  4.26it/s]\n",
            "                 Class     Images  Instances      Box(P          R      mAP50  mAP50-95): 100%|██████████| 1/1 [00:00<00:00,  7.34it/s]"
          ]
        },
        {
          "output_type": "stream",
          "name": "stdout",
          "text": [
            "                   all         14        112      0.828      0.944      0.955      0.663\n"
          ]
        },
        {
          "output_type": "stream",
          "name": "stderr",
          "text": [
            "\n"
          ]
        },
        {
          "output_type": "stream",
          "name": "stdout",
          "text": [
            "\n",
            "      Epoch    GPU_mem   box_loss   cls_loss   dfl_loss  Instances       Size\n"
          ]
        },
        {
          "output_type": "stream",
          "name": "stderr",
          "text": [
            "     53/100      6.73G      1.122     0.8109     0.9232         48        640: 100%|██████████| 4/4 [00:01<00:00,  3.76it/s]\n",
            "                 Class     Images  Instances      Box(P          R      mAP50  mAP50-95): 100%|██████████| 1/1 [00:00<00:00,  5.85it/s]\n"
          ]
        },
        {
          "output_type": "stream",
          "name": "stdout",
          "text": [
            "                   all         14        112      0.932      0.938      0.974      0.673\n",
            "\n",
            "      Epoch    GPU_mem   box_loss   cls_loss   dfl_loss  Instances       Size\n"
          ]
        },
        {
          "output_type": "stream",
          "name": "stderr",
          "text": [
            "     54/100      6.76G      1.106     0.7895     0.9249         44        640: 100%|██████████| 4/4 [00:01<00:00,  3.29it/s]\n",
            "                 Class     Images  Instances      Box(P          R      mAP50  mAP50-95): 100%|██████████| 1/1 [00:00<00:00,  6.07it/s]\n"
          ]
        },
        {
          "output_type": "stream",
          "name": "stdout",
          "text": [
            "                   all         14        112      0.907      0.938      0.973      0.664\n",
            "\n",
            "      Epoch    GPU_mem   box_loss   cls_loss   dfl_loss  Instances       Size\n"
          ]
        },
        {
          "output_type": "stream",
          "name": "stderr",
          "text": [
            "     55/100      6.86G      1.168     0.8229     0.9149         56        640: 100%|██████████| 4/4 [00:00<00:00,  4.43it/s]\n",
            "                 Class     Images  Instances      Box(P          R      mAP50  mAP50-95): 100%|██████████| 1/1 [00:00<00:00,  7.77it/s]"
          ]
        },
        {
          "output_type": "stream",
          "name": "stdout",
          "text": [
            "                   all         14        112      0.885      0.938      0.975       0.66\n"
          ]
        },
        {
          "output_type": "stream",
          "name": "stderr",
          "text": [
            "\n"
          ]
        },
        {
          "output_type": "stream",
          "name": "stdout",
          "text": [
            "\n",
            "      Epoch    GPU_mem   box_loss   cls_loss   dfl_loss  Instances       Size\n"
          ]
        },
        {
          "output_type": "stream",
          "name": "stderr",
          "text": [
            "     56/100       6.9G      1.207     0.8545     0.9424         27        640: 100%|██████████| 4/4 [00:00<00:00,  4.22it/s]\n",
            "                 Class     Images  Instances      Box(P          R      mAP50  mAP50-95): 100%|██████████| 1/1 [00:00<00:00,  7.97it/s]"
          ]
        },
        {
          "output_type": "stream",
          "name": "stdout",
          "text": [
            "                   all         14        112      0.893       0.97      0.978      0.624\n"
          ]
        },
        {
          "output_type": "stream",
          "name": "stderr",
          "text": [
            "\n"
          ]
        },
        {
          "output_type": "stream",
          "name": "stdout",
          "text": [
            "\n",
            "      Epoch    GPU_mem   box_loss   cls_loss   dfl_loss  Instances       Size\n"
          ]
        },
        {
          "output_type": "stream",
          "name": "stderr",
          "text": [
            "     57/100      6.94G      1.082      0.823     0.9175         37        640: 100%|██████████| 4/4 [00:00<00:00,  4.38it/s]\n",
            "                 Class     Images  Instances      Box(P          R      mAP50  mAP50-95): 100%|██████████| 1/1 [00:00<00:00,  7.77it/s]"
          ]
        },
        {
          "output_type": "stream",
          "name": "stdout",
          "text": [
            "                   all         14        112      0.886          1      0.987      0.657\n"
          ]
        },
        {
          "output_type": "stream",
          "name": "stderr",
          "text": [
            "\n"
          ]
        },
        {
          "output_type": "stream",
          "name": "stdout",
          "text": [
            "\n",
            "      Epoch    GPU_mem   box_loss   cls_loss   dfl_loss  Instances       Size\n"
          ]
        },
        {
          "output_type": "stream",
          "name": "stderr",
          "text": [
            "     58/100      7.03G      1.136     0.8237     0.9335         62        640: 100%|██████████| 4/4 [00:00<00:00,  4.31it/s]\n",
            "                 Class     Images  Instances      Box(P          R      mAP50  mAP50-95): 100%|██████████| 1/1 [00:00<00:00,  7.24it/s]"
          ]
        },
        {
          "output_type": "stream",
          "name": "stdout",
          "text": [
            "                   all         14        112      0.887          1      0.973      0.643\n"
          ]
        },
        {
          "output_type": "stream",
          "name": "stderr",
          "text": [
            "\n"
          ]
        },
        {
          "output_type": "stream",
          "name": "stdout",
          "text": [
            "\n",
            "      Epoch    GPU_mem   box_loss   cls_loss   dfl_loss  Instances       Size\n"
          ]
        },
        {
          "output_type": "stream",
          "name": "stderr",
          "text": [
            "     59/100      7.13G      1.176      0.852     0.9491         24        640: 100%|██████████| 4/4 [00:00<00:00,  4.40it/s]\n",
            "                 Class     Images  Instances      Box(P          R      mAP50  mAP50-95): 100%|██████████| 1/1 [00:00<00:00,  7.87it/s]"
          ]
        },
        {
          "output_type": "stream",
          "name": "stdout",
          "text": [
            "                   all         14        112      0.869          1      0.967       0.65\n"
          ]
        },
        {
          "output_type": "stream",
          "name": "stderr",
          "text": [
            "\n"
          ]
        },
        {
          "output_type": "stream",
          "name": "stdout",
          "text": [
            "\n",
            "      Epoch    GPU_mem   box_loss   cls_loss   dfl_loss  Instances       Size\n"
          ]
        },
        {
          "output_type": "stream",
          "name": "stderr",
          "text": [
            "     60/100      7.17G      1.147     0.8245     0.9214         27        640: 100%|██████████| 4/4 [00:00<00:00,  4.35it/s]\n",
            "                 Class     Images  Instances      Box(P          R      mAP50  mAP50-95): 100%|██████████| 1/1 [00:00<00:00,  7.62it/s]"
          ]
        },
        {
          "output_type": "stream",
          "name": "stdout",
          "text": [
            "                   all         14        112      0.916      0.881      0.977      0.641\n"
          ]
        },
        {
          "output_type": "stream",
          "name": "stderr",
          "text": [
            "\n"
          ]
        },
        {
          "output_type": "stream",
          "name": "stdout",
          "text": [
            "\n",
            "      Epoch    GPU_mem   box_loss   cls_loss   dfl_loss  Instances       Size\n"
          ]
        },
        {
          "output_type": "stream",
          "name": "stderr",
          "text": [
            "     61/100      7.27G      1.262     0.9017     0.9467         39        640: 100%|██████████| 4/4 [00:00<00:00,  4.38it/s]\n",
            "                 Class     Images  Instances      Box(P          R      mAP50  mAP50-95): 100%|██████████| 1/1 [00:00<00:00,  7.73it/s]"
          ]
        },
        {
          "output_type": "stream",
          "name": "stdout",
          "text": [
            "                   all         14        112      0.902      0.884      0.981      0.655\n"
          ]
        },
        {
          "output_type": "stream",
          "name": "stderr",
          "text": [
            "\n"
          ]
        },
        {
          "output_type": "stream",
          "name": "stdout",
          "text": [
            "\n",
            "      Epoch    GPU_mem   box_loss   cls_loss   dfl_loss  Instances       Size\n"
          ]
        },
        {
          "output_type": "stream",
          "name": "stderr",
          "text": [
            "     62/100       7.3G      1.115     0.8371     0.9016         42        640: 100%|██████████| 4/4 [00:01<00:00,  3.40it/s]\n",
            "                 Class     Images  Instances      Box(P          R      mAP50  mAP50-95): 100%|██████████| 1/1 [00:00<00:00,  3.34it/s]"
          ]
        },
        {
          "output_type": "stream",
          "name": "stdout",
          "text": [
            "                   all         14        112      0.933       0.99      0.986      0.659\n"
          ]
        },
        {
          "output_type": "stream",
          "name": "stderr",
          "text": [
            "\n"
          ]
        },
        {
          "output_type": "stream",
          "name": "stdout",
          "text": [
            "\n",
            "      Epoch    GPU_mem   box_loss   cls_loss   dfl_loss  Instances       Size\n"
          ]
        },
        {
          "output_type": "stream",
          "name": "stderr",
          "text": [
            "     63/100      7.34G      1.116     0.8236     0.9277         29        640: 100%|██████████| 4/4 [00:00<00:00,  4.28it/s]\n",
            "                 Class     Images  Instances      Box(P          R      mAP50  mAP50-95): 100%|██████████| 1/1 [00:00<00:00,  7.48it/s]"
          ]
        },
        {
          "output_type": "stream",
          "name": "stdout",
          "text": [
            "                   all         14        112      0.917      0.938      0.971      0.645\n"
          ]
        },
        {
          "output_type": "stream",
          "name": "stderr",
          "text": [
            "\n"
          ]
        },
        {
          "output_type": "stream",
          "name": "stdout",
          "text": [
            "\n",
            "      Epoch    GPU_mem   box_loss   cls_loss   dfl_loss  Instances       Size\n"
          ]
        },
        {
          "output_type": "stream",
          "name": "stderr",
          "text": [
            "     64/100      7.44G      1.165      0.903      0.962         27        640: 100%|██████████| 4/4 [00:00<00:00,  4.01it/s]\n",
            "                 Class     Images  Instances      Box(P          R      mAP50  mAP50-95): 100%|██████████| 1/1 [00:00<00:00,  3.80it/s]"
          ]
        },
        {
          "output_type": "stream",
          "name": "stdout",
          "text": [
            "                   all         14        112       0.88      0.884      0.969      0.661\n"
          ]
        },
        {
          "output_type": "stream",
          "name": "stderr",
          "text": [
            "\n"
          ]
        },
        {
          "output_type": "stream",
          "name": "stdout",
          "text": [
            "\n",
            "      Epoch    GPU_mem   box_loss   cls_loss   dfl_loss  Instances       Size\n"
          ]
        },
        {
          "output_type": "stream",
          "name": "stderr",
          "text": [
            "     65/100      4.08G      1.103     0.8344     0.9568         28        640: 100%|██████████| 4/4 [00:01<00:00,  3.54it/s]\n",
            "                 Class     Images  Instances      Box(P          R      mAP50  mAP50-95): 100%|██████████| 1/1 [00:00<00:00,  7.63it/s]"
          ]
        },
        {
          "output_type": "stream",
          "name": "stdout",
          "text": [
            "                   all         14        112      0.829          1      0.976       0.68\n"
          ]
        },
        {
          "output_type": "stream",
          "name": "stderr",
          "text": [
            "\n"
          ]
        },
        {
          "output_type": "stream",
          "name": "stdout",
          "text": [
            "\n",
            "      Epoch    GPU_mem   box_loss   cls_loss   dfl_loss  Instances       Size\n"
          ]
        },
        {
          "output_type": "stream",
          "name": "stderr",
          "text": [
            "     66/100      4.08G      1.047     0.8041     0.9182         27        640: 100%|██████████| 4/4 [00:00<00:00,  4.20it/s]\n",
            "                 Class     Images  Instances      Box(P          R      mAP50  mAP50-95): 100%|██████████| 1/1 [00:00<00:00,  6.64it/s]"
          ]
        },
        {
          "output_type": "stream",
          "name": "stdout",
          "text": [
            "                   all         14        112      0.839          1      0.974      0.684\n"
          ]
        },
        {
          "output_type": "stream",
          "name": "stderr",
          "text": [
            "\n"
          ]
        },
        {
          "output_type": "stream",
          "name": "stdout",
          "text": [
            "\n",
            "      Epoch    GPU_mem   box_loss   cls_loss   dfl_loss  Instances       Size\n"
          ]
        },
        {
          "output_type": "stream",
          "name": "stderr",
          "text": [
            "     67/100      4.08G      1.106     0.8068      0.904         18        640: 100%|██████████| 4/4 [00:00<00:00,  4.25it/s]\n",
            "                 Class     Images  Instances      Box(P          R      mAP50  mAP50-95): 100%|██████████| 1/1 [00:00<00:00,  7.94it/s]"
          ]
        },
        {
          "output_type": "stream",
          "name": "stdout",
          "text": [
            "                   all         14        112      0.864          1      0.992      0.669\n"
          ]
        },
        {
          "output_type": "stream",
          "name": "stderr",
          "text": [
            "\n"
          ]
        },
        {
          "output_type": "stream",
          "name": "stdout",
          "text": [
            "\n",
            "      Epoch    GPU_mem   box_loss   cls_loss   dfl_loss  Instances       Size\n"
          ]
        },
        {
          "output_type": "stream",
          "name": "stderr",
          "text": [
            "     68/100      4.08G      1.164     0.8188     0.9268         45        640: 100%|██████████| 4/4 [00:00<00:00,  4.38it/s]\n",
            "                 Class     Images  Instances      Box(P          R      mAP50  mAP50-95): 100%|██████████| 1/1 [00:00<00:00,  7.38it/s]"
          ]
        },
        {
          "output_type": "stream",
          "name": "stdout",
          "text": [
            "                   all         14        112      0.849          1      0.968      0.683\n"
          ]
        },
        {
          "output_type": "stream",
          "name": "stderr",
          "text": [
            "\n"
          ]
        },
        {
          "output_type": "stream",
          "name": "stdout",
          "text": [
            "\n",
            "      Epoch    GPU_mem   box_loss   cls_loss   dfl_loss  Instances       Size\n"
          ]
        },
        {
          "output_type": "stream",
          "name": "stderr",
          "text": [
            "     69/100      4.08G      1.148      0.802     0.9451         22        640: 100%|██████████| 4/4 [00:01<00:00,  3.21it/s]\n",
            "                 Class     Images  Instances      Box(P          R      mAP50  mAP50-95): 100%|██████████| 1/1 [00:00<00:00,  3.86it/s]"
          ]
        },
        {
          "output_type": "stream",
          "name": "stdout",
          "text": [
            "                   all         14        112      0.727          1      0.945      0.692\n"
          ]
        },
        {
          "output_type": "stream",
          "name": "stderr",
          "text": [
            "\n"
          ]
        },
        {
          "output_type": "stream",
          "name": "stdout",
          "text": [
            "\n",
            "      Epoch    GPU_mem   box_loss   cls_loss   dfl_loss  Instances       Size\n"
          ]
        },
        {
          "output_type": "stream",
          "name": "stderr",
          "text": [
            "     70/100      4.08G      1.122     0.8535     0.9055         21        640: 100%|██████████| 4/4 [00:00<00:00,  4.32it/s]\n",
            "                 Class     Images  Instances      Box(P          R      mAP50  mAP50-95): 100%|██████████| 1/1 [00:00<00:00,  7.68it/s]"
          ]
        },
        {
          "output_type": "stream",
          "name": "stdout",
          "text": [
            "                   all         14        112      0.741          1      0.944      0.666\n"
          ]
        },
        {
          "output_type": "stream",
          "name": "stderr",
          "text": [
            "\n"
          ]
        },
        {
          "output_type": "stream",
          "name": "stdout",
          "text": [
            "\n",
            "      Epoch    GPU_mem   box_loss   cls_loss   dfl_loss  Instances       Size\n"
          ]
        },
        {
          "output_type": "stream",
          "name": "stderr",
          "text": [
            "     71/100      4.08G       1.07     0.7844     0.9219         39        640: 100%|██████████| 4/4 [00:00<00:00,  4.26it/s]\n",
            "                 Class     Images  Instances      Box(P          R      mAP50  mAP50-95): 100%|██████████| 1/1 [00:00<00:00,  7.88it/s]"
          ]
        },
        {
          "output_type": "stream",
          "name": "stdout",
          "text": [
            "                   all         14        112      0.863       0.84      0.951      0.659\n"
          ]
        },
        {
          "output_type": "stream",
          "name": "stderr",
          "text": [
            "\n"
          ]
        },
        {
          "output_type": "stream",
          "name": "stdout",
          "text": [
            "\n",
            "      Epoch    GPU_mem   box_loss   cls_loss   dfl_loss  Instances       Size\n"
          ]
        },
        {
          "output_type": "stream",
          "name": "stderr",
          "text": [
            "     72/100      4.08G      1.149     0.8333     0.9533         29        640: 100%|██████████| 4/4 [00:00<00:00,  4.36it/s]\n",
            "                 Class     Images  Instances      Box(P          R      mAP50  mAP50-95): 100%|██████████| 1/1 [00:00<00:00,  7.85it/s]"
          ]
        },
        {
          "output_type": "stream",
          "name": "stdout",
          "text": [
            "                   all         14        112      0.896      0.812      0.953      0.663\n"
          ]
        },
        {
          "output_type": "stream",
          "name": "stderr",
          "text": [
            "\n"
          ]
        },
        {
          "output_type": "stream",
          "name": "stdout",
          "text": [
            "\n",
            "      Epoch    GPU_mem   box_loss   cls_loss   dfl_loss  Instances       Size\n"
          ]
        },
        {
          "output_type": "stream",
          "name": "stderr",
          "text": [
            "     73/100      4.11G       1.07     0.7982     0.9195         21        640: 100%|██████████| 4/4 [00:00<00:00,  4.38it/s]\n",
            "                 Class     Images  Instances      Box(P          R      mAP50  mAP50-95): 100%|██████████| 1/1 [00:00<00:00,  7.27it/s]"
          ]
        },
        {
          "output_type": "stream",
          "name": "stdout",
          "text": [
            "                   all         14        112      0.816          1       0.97      0.693\n"
          ]
        },
        {
          "output_type": "stream",
          "name": "stderr",
          "text": [
            "\n"
          ]
        },
        {
          "output_type": "stream",
          "name": "stdout",
          "text": [
            "\n",
            "      Epoch    GPU_mem   box_loss   cls_loss   dfl_loss  Instances       Size\n"
          ]
        },
        {
          "output_type": "stream",
          "name": "stderr",
          "text": [
            "     74/100      4.14G       1.05     0.7963     0.8871         51        640: 100%|██████████| 4/4 [00:00<00:00,  4.24it/s]\n",
            "                 Class     Images  Instances      Box(P          R      mAP50  mAP50-95): 100%|██████████| 1/1 [00:00<00:00,  7.19it/s]"
          ]
        },
        {
          "output_type": "stream",
          "name": "stdout",
          "text": [
            "                   all         14        112      0.905      0.938      0.958      0.696\n"
          ]
        },
        {
          "output_type": "stream",
          "name": "stderr",
          "text": [
            "\n"
          ]
        },
        {
          "output_type": "stream",
          "name": "stdout",
          "text": [
            "\n",
            "      Epoch    GPU_mem   box_loss   cls_loss   dfl_loss  Instances       Size\n"
          ]
        },
        {
          "output_type": "stream",
          "name": "stderr",
          "text": [
            "     75/100      4.18G      1.092     0.7978     0.9001         37        640: 100%|██████████| 4/4 [00:00<00:00,  4.36it/s]\n",
            "                 Class     Images  Instances      Box(P          R      mAP50  mAP50-95): 100%|██████████| 1/1 [00:00<00:00,  7.94it/s]"
          ]
        },
        {
          "output_type": "stream",
          "name": "stdout",
          "text": [
            "                   all         14        112      0.931      0.938      0.959      0.694\n"
          ]
        },
        {
          "output_type": "stream",
          "name": "stderr",
          "text": [
            "\n"
          ]
        },
        {
          "output_type": "stream",
          "name": "stdout",
          "text": [
            "\n",
            "      Epoch    GPU_mem   box_loss   cls_loss   dfl_loss  Instances       Size\n"
          ]
        },
        {
          "output_type": "stream",
          "name": "stderr",
          "text": [
            "     76/100      4.21G      1.051     0.7645      0.911         45        640: 100%|██████████| 4/4 [00:00<00:00,  4.39it/s]\n",
            "                 Class     Images  Instances      Box(P          R      mAP50  mAP50-95): 100%|██████████| 1/1 [00:00<00:00,  7.94it/s]"
          ]
        },
        {
          "output_type": "stream",
          "name": "stdout",
          "text": [
            "                   all         14        112      0.877      0.891      0.959        0.7\n"
          ]
        },
        {
          "output_type": "stream",
          "name": "stderr",
          "text": [
            "\n"
          ]
        },
        {
          "output_type": "stream",
          "name": "stdout",
          "text": [
            "\n",
            "      Epoch    GPU_mem   box_loss   cls_loss   dfl_loss  Instances       Size\n"
          ]
        },
        {
          "output_type": "stream",
          "name": "stderr",
          "text": [
            "     77/100      4.25G      1.047     0.7648     0.9023         32        640: 100%|██████████| 4/4 [00:01<00:00,  3.76it/s]\n",
            "                 Class     Images  Instances      Box(P          R      mAP50  mAP50-95): 100%|██████████| 1/1 [00:00<00:00,  7.90it/s]"
          ]
        },
        {
          "output_type": "stream",
          "name": "stdout",
          "text": [
            "                   all         14        112      0.818      0.946      0.958        0.7\n"
          ]
        },
        {
          "output_type": "stream",
          "name": "stderr",
          "text": [
            "\n"
          ]
        },
        {
          "output_type": "stream",
          "name": "stdout",
          "text": [
            "\n",
            "      Epoch    GPU_mem   box_loss   cls_loss   dfl_loss  Instances       Size\n"
          ]
        },
        {
          "output_type": "stream",
          "name": "stderr",
          "text": [
            "     78/100      4.29G      1.018     0.7789     0.9099         43        640: 100%|██████████| 4/4 [00:00<00:00,  4.32it/s]\n",
            "                 Class     Images  Instances      Box(P          R      mAP50  mAP50-95): 100%|██████████| 1/1 [00:00<00:00,  7.88it/s]"
          ]
        },
        {
          "output_type": "stream",
          "name": "stdout",
          "text": [
            "                   all         14        112      0.798          1      0.963      0.695\n"
          ]
        },
        {
          "output_type": "stream",
          "name": "stderr",
          "text": [
            "\n"
          ]
        },
        {
          "output_type": "stream",
          "name": "stdout",
          "text": [
            "\n",
            "      Epoch    GPU_mem   box_loss   cls_loss   dfl_loss  Instances       Size\n"
          ]
        },
        {
          "output_type": "stream",
          "name": "stderr",
          "text": [
            "     79/100      4.32G      1.088     0.7864     0.9045         47        640: 100%|██████████| 4/4 [00:00<00:00,  4.44it/s]\n",
            "                 Class     Images  Instances      Box(P          R      mAP50  mAP50-95): 100%|██████████| 1/1 [00:00<00:00,  7.14it/s]"
          ]
        },
        {
          "output_type": "stream",
          "name": "stdout",
          "text": [
            "                   all         14        112      0.877      0.887      0.979      0.676\n"
          ]
        },
        {
          "output_type": "stream",
          "name": "stderr",
          "text": [
            "\n"
          ]
        },
        {
          "output_type": "stream",
          "name": "stdout",
          "text": [
            "\n",
            "      Epoch    GPU_mem   box_loss   cls_loss   dfl_loss  Instances       Size\n"
          ]
        },
        {
          "output_type": "stream",
          "name": "stderr",
          "text": [
            "     80/100      4.42G      1.017     0.7429     0.8934         43        640: 100%|██████████| 4/4 [00:00<00:00,  4.15it/s]\n",
            "                 Class     Images  Instances      Box(P          R      mAP50  mAP50-95): 100%|██████████| 1/1 [00:00<00:00,  7.70it/s]"
          ]
        },
        {
          "output_type": "stream",
          "name": "stdout",
          "text": [
            "                   all         14        112      0.865      0.875      0.975      0.694\n"
          ]
        },
        {
          "output_type": "stream",
          "name": "stderr",
          "text": [
            "\n"
          ]
        },
        {
          "output_type": "stream",
          "name": "stdout",
          "text": [
            "\n",
            "      Epoch    GPU_mem   box_loss   cls_loss   dfl_loss  Instances       Size\n"
          ]
        },
        {
          "output_type": "stream",
          "name": "stderr",
          "text": [
            "     81/100      4.46G      1.102     0.7837     0.9173         68        640: 100%|██████████| 4/4 [00:00<00:00,  4.34it/s]\n",
            "                 Class     Images  Instances      Box(P          R      mAP50  mAP50-95): 100%|██████████| 1/1 [00:00<00:00,  6.98it/s]"
          ]
        },
        {
          "output_type": "stream",
          "name": "stdout",
          "text": [
            "                   all         14        112      0.846      0.875      0.972      0.687\n"
          ]
        },
        {
          "output_type": "stream",
          "name": "stderr",
          "text": [
            "\n"
          ]
        },
        {
          "output_type": "stream",
          "name": "stdout",
          "text": [
            "\n",
            "      Epoch    GPU_mem   box_loss   cls_loss   dfl_loss  Instances       Size\n"
          ]
        },
        {
          "output_type": "stream",
          "name": "stderr",
          "text": [
            "     82/100      4.56G      1.014     0.7777     0.8851         23        640: 100%|██████████| 4/4 [00:00<00:00,  4.38it/s]\n",
            "                 Class     Images  Instances      Box(P          R      mAP50  mAP50-95): 100%|██████████| 1/1 [00:00<00:00,  7.69it/s]"
          ]
        },
        {
          "output_type": "stream",
          "name": "stdout",
          "text": [
            "                   all         14        112      0.951      0.875      0.972      0.666\n"
          ]
        },
        {
          "output_type": "stream",
          "name": "stderr",
          "text": [
            "\n"
          ]
        },
        {
          "output_type": "stream",
          "name": "stdout",
          "text": [
            "\n",
            "      Epoch    GPU_mem   box_loss   cls_loss   dfl_loss  Instances       Size\n"
          ]
        },
        {
          "output_type": "stream",
          "name": "stderr",
          "text": [
            "     83/100       4.6G      1.005     0.7957      0.871         24        640: 100%|██████████| 4/4 [00:00<00:00,  4.26it/s]\n",
            "                 Class     Images  Instances      Box(P          R      mAP50  mAP50-95): 100%|██████████| 1/1 [00:00<00:00,  7.05it/s]"
          ]
        },
        {
          "output_type": "stream",
          "name": "stdout",
          "text": [
            "                   all         14        112       0.93      0.875      0.976      0.657\n"
          ]
        },
        {
          "output_type": "stream",
          "name": "stderr",
          "text": [
            "\n"
          ]
        },
        {
          "output_type": "stream",
          "name": "stdout",
          "text": [
            "\n",
            "      Epoch    GPU_mem   box_loss   cls_loss   dfl_loss  Instances       Size\n"
          ]
        },
        {
          "output_type": "stream",
          "name": "stderr",
          "text": [
            "     84/100       4.7G      1.063     0.7881     0.8943         56        640: 100%|██████████| 4/4 [00:01<00:00,  3.72it/s]\n",
            "                 Class     Images  Instances      Box(P          R      mAP50  mAP50-95): 100%|██████████| 1/1 [00:00<00:00,  5.59it/s]"
          ]
        },
        {
          "output_type": "stream",
          "name": "stdout",
          "text": [
            "                   all         14        112      0.954      0.875      0.976      0.645\n"
          ]
        },
        {
          "output_type": "stream",
          "name": "stderr",
          "text": [
            "\n"
          ]
        },
        {
          "output_type": "stream",
          "name": "stdout",
          "text": [
            "\n",
            "      Epoch    GPU_mem   box_loss   cls_loss   dfl_loss  Instances       Size\n"
          ]
        },
        {
          "output_type": "stream",
          "name": "stderr",
          "text": [
            "     85/100      4.73G      1.061     0.7844     0.8989         39        640: 100%|██████████| 4/4 [00:01<00:00,  3.35it/s]\n",
            "                 Class     Images  Instances      Box(P          R      mAP50  mAP50-95): 100%|██████████| 1/1 [00:00<00:00,  5.25it/s]"
          ]
        },
        {
          "output_type": "stream",
          "name": "stdout",
          "text": [
            "                   all         14        112      0.994      0.875      0.977       0.66\n"
          ]
        },
        {
          "output_type": "stream",
          "name": "stderr",
          "text": [
            "\n"
          ]
        },
        {
          "output_type": "stream",
          "name": "stdout",
          "text": [
            "\n",
            "      Epoch    GPU_mem   box_loss   cls_loss   dfl_loss  Instances       Size\n"
          ]
        },
        {
          "output_type": "stream",
          "name": "stderr",
          "text": [
            "     86/100      4.77G      1.084      0.779     0.8936         52        640: 100%|██████████| 4/4 [00:00<00:00,  4.20it/s]\n",
            "                 Class     Images  Instances      Box(P          R      mAP50  mAP50-95): 100%|██████████| 1/1 [00:00<00:00,  7.23it/s]"
          ]
        },
        {
          "output_type": "stream",
          "name": "stdout",
          "text": [
            "                   all         14        112      0.912      0.812      0.956      0.663\n"
          ]
        },
        {
          "output_type": "stream",
          "name": "stderr",
          "text": [
            "\n"
          ]
        },
        {
          "output_type": "stream",
          "name": "stdout",
          "text": [
            "\n",
            "      Epoch    GPU_mem   box_loss   cls_loss   dfl_loss  Instances       Size\n"
          ]
        },
        {
          "output_type": "stream",
          "name": "stderr",
          "text": [
            "     87/100       4.8G      1.036     0.7616      0.921         29        640: 100%|██████████| 4/4 [00:00<00:00,  4.17it/s]\n",
            "                 Class     Images  Instances      Box(P          R      mAP50  mAP50-95): 100%|██████████| 1/1 [00:00<00:00,  7.54it/s]"
          ]
        },
        {
          "output_type": "stream",
          "name": "stdout",
          "text": [
            "                   all         14        112      0.729          1      0.944      0.657\n"
          ]
        },
        {
          "output_type": "stream",
          "name": "stderr",
          "text": [
            "\n"
          ]
        },
        {
          "output_type": "stream",
          "name": "stdout",
          "text": [
            "\n",
            "      Epoch    GPU_mem   box_loss   cls_loss   dfl_loss  Instances       Size\n"
          ]
        },
        {
          "output_type": "stream",
          "name": "stderr",
          "text": [
            "     88/100       4.9G     0.9951     0.7259     0.9044         30        640: 100%|██████████| 4/4 [00:01<00:00,  3.86it/s]\n",
            "                 Class     Images  Instances      Box(P          R      mAP50  mAP50-95): 100%|██████████| 1/1 [00:00<00:00,  7.62it/s]"
          ]
        },
        {
          "output_type": "stream",
          "name": "stdout",
          "text": [
            "                   all         14        112      0.737          1      0.948      0.654\n"
          ]
        },
        {
          "output_type": "stream",
          "name": "stderr",
          "text": [
            "\n"
          ]
        },
        {
          "output_type": "stream",
          "name": "stdout",
          "text": [
            "\n",
            "      Epoch    GPU_mem   box_loss   cls_loss   dfl_loss  Instances       Size\n"
          ]
        },
        {
          "output_type": "stream",
          "name": "stderr",
          "text": [
            "     89/100      5.01G      1.054     0.7521     0.9055         22        640: 100%|██████████| 4/4 [00:00<00:00,  4.27it/s]\n",
            "                 Class     Images  Instances      Box(P          R      mAP50  mAP50-95): 100%|██████████| 1/1 [00:00<00:00,  7.58it/s]"
          ]
        },
        {
          "output_type": "stream",
          "name": "stdout",
          "text": [
            "                   all         14        112      0.754      0.988      0.949      0.651\n"
          ]
        },
        {
          "output_type": "stream",
          "name": "stderr",
          "text": [
            "\n"
          ]
        },
        {
          "output_type": "stream",
          "name": "stdout",
          "text": [
            "\n",
            "      Epoch    GPU_mem   box_loss   cls_loss   dfl_loss  Instances       Size\n"
          ]
        },
        {
          "output_type": "stream",
          "name": "stderr",
          "text": [
            "     90/100      5.04G      1.078     0.7446     0.9051         32        640: 100%|██████████| 4/4 [00:00<00:00,  4.04it/s]\n",
            "                 Class     Images  Instances      Box(P          R      mAP50  mAP50-95): 100%|██████████| 1/1 [00:00<00:00,  7.61it/s]"
          ]
        },
        {
          "output_type": "stream",
          "name": "stdout",
          "text": [
            "                   all         14        112      0.894      0.832      0.956      0.655\n"
          ]
        },
        {
          "output_type": "stream",
          "name": "stderr",
          "text": [
            "\n"
          ]
        },
        {
          "output_type": "stream",
          "name": "stdout",
          "text": [
            "Closing dataloader mosaic\n",
            "\u001b[34m\u001b[1malbumentations: \u001b[0mBlur(p=0.01, blur_limit=(3, 7)), MedianBlur(p=0.01, blur_limit=(3, 7)), ToGray(p=0.01, method='weighted_average', num_output_channels=3), CLAHE(p=0.01, clip_limit=(1.0, 4.0), tile_grid_size=(8, 8))\n",
            "\n",
            "      Epoch    GPU_mem   box_loss   cls_loss   dfl_loss  Instances       Size\n"
          ]
        },
        {
          "output_type": "stream",
          "name": "stderr",
          "text": [
            "     91/100      5.08G     0.9795     0.7539     0.8898         24        640: 100%|██████████| 4/4 [00:01<00:00,  2.22it/s]\n",
            "                 Class     Images  Instances      Box(P          R      mAP50  mAP50-95): 100%|██████████| 1/1 [00:00<00:00,  2.72it/s]"
          ]
        },
        {
          "output_type": "stream",
          "name": "stdout",
          "text": [
            "                   all         14        112      0.911      0.821      0.957       0.67\n"
          ]
        },
        {
          "output_type": "stream",
          "name": "stderr",
          "text": [
            "\n"
          ]
        },
        {
          "output_type": "stream",
          "name": "stdout",
          "text": [
            "\n",
            "      Epoch    GPU_mem   box_loss   cls_loss   dfl_loss  Instances       Size\n"
          ]
        },
        {
          "output_type": "stream",
          "name": "stderr",
          "text": [
            "     92/100      5.12G     0.9953      0.752     0.9144         24        640: 100%|██████████| 4/4 [00:01<00:00,  3.28it/s]\n",
            "                 Class     Images  Instances      Box(P          R      mAP50  mAP50-95): 100%|██████████| 1/1 [00:00<00:00,  3.10it/s]"
          ]
        },
        {
          "output_type": "stream",
          "name": "stdout",
          "text": [
            "                   all         14        112       0.92       0.82      0.965      0.679\n"
          ]
        },
        {
          "output_type": "stream",
          "name": "stderr",
          "text": [
            "\n"
          ]
        },
        {
          "output_type": "stream",
          "name": "stdout",
          "text": [
            "\n",
            "      Epoch    GPU_mem   box_loss   cls_loss   dfl_loss  Instances       Size\n"
          ]
        },
        {
          "output_type": "stream",
          "name": "stderr",
          "text": [
            "     93/100      5.15G     0.9778     0.7778     0.8978         24        640: 100%|██████████| 4/4 [00:00<00:00,  4.53it/s]\n",
            "                 Class     Images  Instances      Box(P          R      mAP50  mAP50-95): 100%|██████████| 1/1 [00:00<00:00,  7.58it/s]"
          ]
        },
        {
          "output_type": "stream",
          "name": "stdout",
          "text": [
            "                   all         14        112       0.92      0.819      0.967      0.669\n"
          ]
        },
        {
          "output_type": "stream",
          "name": "stderr",
          "text": [
            "\n"
          ]
        },
        {
          "output_type": "stream",
          "name": "stdout",
          "text": [
            "\n",
            "      Epoch    GPU_mem   box_loss   cls_loss   dfl_loss  Instances       Size\n"
          ]
        },
        {
          "output_type": "stream",
          "name": "stderr",
          "text": [
            "     94/100      5.22G     0.9188     0.7654     0.9047         24        640: 100%|██████████| 4/4 [00:00<00:00,  4.39it/s]\n",
            "                 Class     Images  Instances      Box(P          R      mAP50  mAP50-95): 100%|██████████| 1/1 [00:00<00:00,  7.29it/s]"
          ]
        },
        {
          "output_type": "stream",
          "name": "stdout",
          "text": [
            "                   all         14        112      0.915      0.821      0.965       0.67\n"
          ]
        },
        {
          "output_type": "stream",
          "name": "stderr",
          "text": [
            "\n"
          ]
        },
        {
          "output_type": "stream",
          "name": "stdout",
          "text": [
            "\n",
            "      Epoch    GPU_mem   box_loss   cls_loss   dfl_loss  Instances       Size\n"
          ]
        },
        {
          "output_type": "stream",
          "name": "stderr",
          "text": [
            "     95/100      5.29G     0.9431     0.6975     0.8943         24        640: 100%|██████████| 4/4 [00:00<00:00,  4.48it/s]\n",
            "                 Class     Images  Instances      Box(P          R      mAP50  mAP50-95): 100%|██████████| 1/1 [00:00<00:00,  7.65it/s]"
          ]
        },
        {
          "output_type": "stream",
          "name": "stdout",
          "text": [
            "                   all         14        112      0.899      0.812      0.961      0.662\n"
          ]
        },
        {
          "output_type": "stream",
          "name": "stderr",
          "text": [
            "\n"
          ]
        },
        {
          "output_type": "stream",
          "name": "stdout",
          "text": [
            "\n",
            "      Epoch    GPU_mem   box_loss   cls_loss   dfl_loss  Instances       Size\n"
          ]
        },
        {
          "output_type": "stream",
          "name": "stderr",
          "text": [
            "     96/100      5.33G     0.9414     0.7287     0.9028         24        640: 100%|██████████| 4/4 [00:00<00:00,  4.36it/s]\n",
            "                 Class     Images  Instances      Box(P          R      mAP50  mAP50-95): 100%|██████████| 1/1 [00:00<00:00,  7.39it/s]"
          ]
        },
        {
          "output_type": "stream",
          "name": "stdout",
          "text": [
            "                   all         14        112      0.906      0.812       0.96       0.66\n"
          ]
        },
        {
          "output_type": "stream",
          "name": "stderr",
          "text": [
            "\n"
          ]
        },
        {
          "output_type": "stream",
          "name": "stdout",
          "text": [
            "\n",
            "      Epoch    GPU_mem   box_loss   cls_loss   dfl_loss  Instances       Size\n"
          ]
        },
        {
          "output_type": "stream",
          "name": "stderr",
          "text": [
            "     97/100       5.4G     0.9562     0.7582      0.894         24        640: 100%|██████████| 4/4 [00:00<00:00,  4.39it/s]\n",
            "                 Class     Images  Instances      Box(P          R      mAP50  mAP50-95): 100%|██████████| 1/1 [00:00<00:00,  6.90it/s]"
          ]
        },
        {
          "output_type": "stream",
          "name": "stdout",
          "text": [
            "                   all         14        112      0.884      0.812      0.959      0.666\n"
          ]
        },
        {
          "output_type": "stream",
          "name": "stderr",
          "text": [
            "\n"
          ]
        },
        {
          "output_type": "stream",
          "name": "stdout",
          "text": [
            "\n",
            "      Epoch    GPU_mem   box_loss   cls_loss   dfl_loss  Instances       Size\n"
          ]
        },
        {
          "output_type": "stream",
          "name": "stderr",
          "text": [
            "     98/100      5.47G     0.9525      0.749     0.9022         24        640: 100%|██████████| 4/4 [00:00<00:00,  4.11it/s]\n",
            "                 Class     Images  Instances      Box(P          R      mAP50  mAP50-95): 100%|██████████| 1/1 [00:00<00:00,  7.80it/s]"
          ]
        },
        {
          "output_type": "stream",
          "name": "stdout",
          "text": [
            "                   all         14        112      0.884      0.816      0.959       0.68\n"
          ]
        },
        {
          "output_type": "stream",
          "name": "stderr",
          "text": [
            "\n"
          ]
        },
        {
          "output_type": "stream",
          "name": "stdout",
          "text": [
            "\n",
            "      Epoch    GPU_mem   box_loss   cls_loss   dfl_loss  Instances       Size\n"
          ]
        },
        {
          "output_type": "stream",
          "name": "stderr",
          "text": [
            "     99/100      5.54G     0.9529     0.7216     0.8924         24        640: 100%|██████████| 4/4 [00:01<00:00,  2.78it/s]\n",
            "                 Class     Images  Instances      Box(P          R      mAP50  mAP50-95): 100%|██████████| 1/1 [00:00<00:00,  5.49it/s]"
          ]
        },
        {
          "output_type": "stream",
          "name": "stdout",
          "text": [
            "                   all         14        112      0.736          1      0.956      0.686\n"
          ]
        },
        {
          "output_type": "stream",
          "name": "stderr",
          "text": [
            "\n"
          ]
        },
        {
          "output_type": "stream",
          "name": "stdout",
          "text": [
            "\n",
            "      Epoch    GPU_mem   box_loss   cls_loss   dfl_loss  Instances       Size\n"
          ]
        },
        {
          "output_type": "stream",
          "name": "stderr",
          "text": [
            "    100/100      5.61G     0.9617     0.7376     0.9025         24        640: 100%|██████████| 4/4 [00:01<00:00,  2.28it/s]\n",
            "                 Class     Images  Instances      Box(P          R      mAP50  mAP50-95): 100%|██████████| 1/1 [00:00<00:00,  5.11it/s]"
          ]
        },
        {
          "output_type": "stream",
          "name": "stdout",
          "text": [
            "                   all         14        112      0.745          1      0.954      0.685\n"
          ]
        },
        {
          "output_type": "stream",
          "name": "stderr",
          "text": [
            "\n"
          ]
        },
        {
          "output_type": "stream",
          "name": "stdout",
          "text": [
            "\n",
            "100 epochs completed in 0.047 hours.\n",
            "Optimizer stripped from runs/detect/train/weights/last.pt, 22.5MB\n",
            "Optimizer stripped from runs/detect/train/weights/best.pt, 22.5MB\n",
            "\n",
            "Validating runs/detect/train/weights/best.pt...\n",
            "Ultralytics 8.3.143 🚀 Python-3.11.12 torch-2.6.0+cu124 CUDA:0 (Tesla T4, 15095MiB)\n",
            "Model summary (fused): 72 layers, 11,125,971 parameters, 0 gradients, 28.4 GFLOPs\n"
          ]
        },
        {
          "output_type": "stream",
          "name": "stderr",
          "text": [
            "                 Class     Images  Instances      Box(P          R      mAP50  mAP50-95): 100%|██████████| 1/1 [00:00<00:00,  5.90it/s]\n"
          ]
        },
        {
          "output_type": "stream",
          "name": "stdout",
          "text": [
            "                   all         14        112      0.828      0.946      0.958      0.699\n",
            "Speed: 0.2ms preprocess, 5.9ms inference, 0.0ms loss, 1.2ms postprocess per image\n",
            "Results saved to \u001b[1mruns/detect/train\u001b[0m\n"
          ]
        },
        {
          "output_type": "execute_result",
          "data": {
            "text/plain": [
              "ultralytics.utils.metrics.DetMetrics object with attributes:\n",
              "\n",
              "ap_class_index: array([0])\n",
              "box: ultralytics.utils.metrics.Metric object\n",
              "confusion_matrix: <ultralytics.utils.metrics.ConfusionMatrix object at 0x7cb8d936e350>\n",
              "curves: ['Precision-Recall(B)', 'F1-Confidence(B)', 'Precision-Confidence(B)', 'Recall-Confidence(B)']\n",
              "curves_results: [[array([          0,    0.001001,    0.002002,    0.003003,    0.004004,    0.005005,    0.006006,    0.007007,    0.008008,    0.009009,     0.01001,    0.011011,    0.012012,    0.013013,    0.014014,    0.015015,    0.016016,    0.017017,    0.018018,    0.019019,     0.02002,    0.021021,    0.022022,    0.023023,\n",
              "          0.024024,    0.025025,    0.026026,    0.027027,    0.028028,    0.029029,     0.03003,    0.031031,    0.032032,    0.033033,    0.034034,    0.035035,    0.036036,    0.037037,    0.038038,    0.039039,     0.04004,    0.041041,    0.042042,    0.043043,    0.044044,    0.045045,    0.046046,    0.047047,\n",
              "          0.048048,    0.049049,     0.05005,    0.051051,    0.052052,    0.053053,    0.054054,    0.055055,    0.056056,    0.057057,    0.058058,    0.059059,     0.06006,    0.061061,    0.062062,    0.063063,    0.064064,    0.065065,    0.066066,    0.067067,    0.068068,    0.069069,     0.07007,    0.071071,\n",
              "          0.072072,    0.073073,    0.074074,    0.075075,    0.076076,    0.077077,    0.078078,    0.079079,     0.08008,    0.081081,    0.082082,    0.083083,    0.084084,    0.085085,    0.086086,    0.087087,    0.088088,    0.089089,     0.09009,    0.091091,    0.092092,    0.093093,    0.094094,    0.095095,\n",
              "          0.096096,    0.097097,    0.098098,    0.099099,      0.1001,      0.1011,      0.1021,      0.1031,      0.1041,     0.10511,     0.10611,     0.10711,     0.10811,     0.10911,     0.11011,     0.11111,     0.11211,     0.11311,     0.11411,     0.11512,     0.11612,     0.11712,     0.11812,     0.11912,\n",
              "           0.12012,     0.12112,     0.12212,     0.12312,     0.12412,     0.12513,     0.12613,     0.12713,     0.12813,     0.12913,     0.13013,     0.13113,     0.13213,     0.13313,     0.13413,     0.13514,     0.13614,     0.13714,     0.13814,     0.13914,     0.14014,     0.14114,     0.14214,     0.14314,\n",
              "           0.14414,     0.14515,     0.14615,     0.14715,     0.14815,     0.14915,     0.15015,     0.15115,     0.15215,     0.15315,     0.15415,     0.15516,     0.15616,     0.15716,     0.15816,     0.15916,     0.16016,     0.16116,     0.16216,     0.16316,     0.16416,     0.16517,     0.16617,     0.16717,\n",
              "           0.16817,     0.16917,     0.17017,     0.17117,     0.17217,     0.17317,     0.17417,     0.17518,     0.17618,     0.17718,     0.17818,     0.17918,     0.18018,     0.18118,     0.18218,     0.18318,     0.18418,     0.18519,     0.18619,     0.18719,     0.18819,     0.18919,     0.19019,     0.19119,\n",
              "           0.19219,     0.19319,     0.19419,      0.1952,      0.1962,      0.1972,      0.1982,      0.1992,      0.2002,      0.2012,      0.2022,      0.2032,      0.2042,     0.20521,     0.20621,     0.20721,     0.20821,     0.20921,     0.21021,     0.21121,     0.21221,     0.21321,     0.21421,     0.21522,\n",
              "           0.21622,     0.21722,     0.21822,     0.21922,     0.22022,     0.22122,     0.22222,     0.22322,     0.22422,     0.22523,     0.22623,     0.22723,     0.22823,     0.22923,     0.23023,     0.23123,     0.23223,     0.23323,     0.23423,     0.23524,     0.23624,     0.23724,     0.23824,     0.23924,\n",
              "           0.24024,     0.24124,     0.24224,     0.24324,     0.24424,     0.24525,     0.24625,     0.24725,     0.24825,     0.24925,     0.25025,     0.25125,     0.25225,     0.25325,     0.25425,     0.25526,     0.25626,     0.25726,     0.25826,     0.25926,     0.26026,     0.26126,     0.26226,     0.26326,\n",
              "           0.26426,     0.26527,     0.26627,     0.26727,     0.26827,     0.26927,     0.27027,     0.27127,     0.27227,     0.27327,     0.27427,     0.27528,     0.27628,     0.27728,     0.27828,     0.27928,     0.28028,     0.28128,     0.28228,     0.28328,     0.28428,     0.28529,     0.28629,     0.28729,\n",
              "           0.28829,     0.28929,     0.29029,     0.29129,     0.29229,     0.29329,     0.29429,      0.2953,      0.2963,      0.2973,      0.2983,      0.2993,      0.3003,      0.3013,      0.3023,      0.3033,      0.3043,     0.30531,     0.30631,     0.30731,     0.30831,     0.30931,     0.31031,     0.31131,\n",
              "           0.31231,     0.31331,     0.31431,     0.31532,     0.31632,     0.31732,     0.31832,     0.31932,     0.32032,     0.32132,     0.32232,     0.32332,     0.32432,     0.32533,     0.32633,     0.32733,     0.32833,     0.32933,     0.33033,     0.33133,     0.33233,     0.33333,     0.33433,     0.33534,\n",
              "           0.33634,     0.33734,     0.33834,     0.33934,     0.34034,     0.34134,     0.34234,     0.34334,     0.34434,     0.34535,     0.34635,     0.34735,     0.34835,     0.34935,     0.35035,     0.35135,     0.35235,     0.35335,     0.35435,     0.35536,     0.35636,     0.35736,     0.35836,     0.35936,\n",
              "           0.36036,     0.36136,     0.36236,     0.36336,     0.36436,     0.36537,     0.36637,     0.36737,     0.36837,     0.36937,     0.37037,     0.37137,     0.37237,     0.37337,     0.37437,     0.37538,     0.37638,     0.37738,     0.37838,     0.37938,     0.38038,     0.38138,     0.38238,     0.38338,\n",
              "           0.38438,     0.38539,     0.38639,     0.38739,     0.38839,     0.38939,     0.39039,     0.39139,     0.39239,     0.39339,     0.39439,      0.3954,      0.3964,      0.3974,      0.3984,      0.3994,      0.4004,      0.4014,      0.4024,      0.4034,      0.4044,     0.40541,     0.40641,     0.40741,\n",
              "           0.40841,     0.40941,     0.41041,     0.41141,     0.41241,     0.41341,     0.41441,     0.41542,     0.41642,     0.41742,     0.41842,     0.41942,     0.42042,     0.42142,     0.42242,     0.42342,     0.42442,     0.42543,     0.42643,     0.42743,     0.42843,     0.42943,     0.43043,     0.43143,\n",
              "           0.43243,     0.43343,     0.43443,     0.43544,     0.43644,     0.43744,     0.43844,     0.43944,     0.44044,     0.44144,     0.44244,     0.44344,     0.44444,     0.44545,     0.44645,     0.44745,     0.44845,     0.44945,     0.45045,     0.45145,     0.45245,     0.45345,     0.45445,     0.45546,\n",
              "           0.45646,     0.45746,     0.45846,     0.45946,     0.46046,     0.46146,     0.46246,     0.46346,     0.46446,     0.46547,     0.46647,     0.46747,     0.46847,     0.46947,     0.47047,     0.47147,     0.47247,     0.47347,     0.47447,     0.47548,     0.47648,     0.47748,     0.47848,     0.47948,\n",
              "           0.48048,     0.48148,     0.48248,     0.48348,     0.48448,     0.48549,     0.48649,     0.48749,     0.48849,     0.48949,     0.49049,     0.49149,     0.49249,     0.49349,     0.49449,      0.4955,      0.4965,      0.4975,      0.4985,      0.4995,      0.5005,      0.5015,      0.5025,      0.5035,\n",
              "            0.5045,     0.50551,     0.50651,     0.50751,     0.50851,     0.50951,     0.51051,     0.51151,     0.51251,     0.51351,     0.51451,     0.51552,     0.51652,     0.51752,     0.51852,     0.51952,     0.52052,     0.52152,     0.52252,     0.52352,     0.52452,     0.52553,     0.52653,     0.52753,\n",
              "           0.52853,     0.52953,     0.53053,     0.53153,     0.53253,     0.53353,     0.53453,     0.53554,     0.53654,     0.53754,     0.53854,     0.53954,     0.54054,     0.54154,     0.54254,     0.54354,     0.54454,     0.54555,     0.54655,     0.54755,     0.54855,     0.54955,     0.55055,     0.55155,\n",
              "           0.55255,     0.55355,     0.55455,     0.55556,     0.55656,     0.55756,     0.55856,     0.55956,     0.56056,     0.56156,     0.56256,     0.56356,     0.56456,     0.56557,     0.56657,     0.56757,     0.56857,     0.56957,     0.57057,     0.57157,     0.57257,     0.57357,     0.57457,     0.57558,\n",
              "           0.57658,     0.57758,     0.57858,     0.57958,     0.58058,     0.58158,     0.58258,     0.58358,     0.58458,     0.58559,     0.58659,     0.58759,     0.58859,     0.58959,     0.59059,     0.59159,     0.59259,     0.59359,     0.59459,      0.5956,      0.5966,      0.5976,      0.5986,      0.5996,\n",
              "            0.6006,      0.6016,      0.6026,      0.6036,      0.6046,     0.60561,     0.60661,     0.60761,     0.60861,     0.60961,     0.61061,     0.61161,     0.61261,     0.61361,     0.61461,     0.61562,     0.61662,     0.61762,     0.61862,     0.61962,     0.62062,     0.62162,     0.62262,     0.62362,\n",
              "           0.62462,     0.62563,     0.62663,     0.62763,     0.62863,     0.62963,     0.63063,     0.63163,     0.63263,     0.63363,     0.63463,     0.63564,     0.63664,     0.63764,     0.63864,     0.63964,     0.64064,     0.64164,     0.64264,     0.64364,     0.64464,     0.64565,     0.64665,     0.64765,\n",
              "           0.64865,     0.64965,     0.65065,     0.65165,     0.65265,     0.65365,     0.65465,     0.65566,     0.65666,     0.65766,     0.65866,     0.65966,     0.66066,     0.66166,     0.66266,     0.66366,     0.66466,     0.66567,     0.66667,     0.66767,     0.66867,     0.66967,     0.67067,     0.67167,\n",
              "           0.67267,     0.67367,     0.67467,     0.67568,     0.67668,     0.67768,     0.67868,     0.67968,     0.68068,     0.68168,     0.68268,     0.68368,     0.68468,     0.68569,     0.68669,     0.68769,     0.68869,     0.68969,     0.69069,     0.69169,     0.69269,     0.69369,     0.69469,      0.6957,\n",
              "            0.6967,      0.6977,      0.6987,      0.6997,      0.7007,      0.7017,      0.7027,      0.7037,      0.7047,     0.70571,     0.70671,     0.70771,     0.70871,     0.70971,     0.71071,     0.71171,     0.71271,     0.71371,     0.71471,     0.71572,     0.71672,     0.71772,     0.71872,     0.71972,\n",
              "           0.72072,     0.72172,     0.72272,     0.72372,     0.72472,     0.72573,     0.72673,     0.72773,     0.72873,     0.72973,     0.73073,     0.73173,     0.73273,     0.73373,     0.73473,     0.73574,     0.73674,     0.73774,     0.73874,     0.73974,     0.74074,     0.74174,     0.74274,     0.74374,\n",
              "           0.74474,     0.74575,     0.74675,     0.74775,     0.74875,     0.74975,     0.75075,     0.75175,     0.75275,     0.75375,     0.75475,     0.75576,     0.75676,     0.75776,     0.75876,     0.75976,     0.76076,     0.76176,     0.76276,     0.76376,     0.76476,     0.76577,     0.76677,     0.76777,\n",
              "           0.76877,     0.76977,     0.77077,     0.77177,     0.77277,     0.77377,     0.77477,     0.77578,     0.77678,     0.77778,     0.77878,     0.77978,     0.78078,     0.78178,     0.78278,     0.78378,     0.78478,     0.78579,     0.78679,     0.78779,     0.78879,     0.78979,     0.79079,     0.79179,\n",
              "           0.79279,     0.79379,     0.79479,      0.7958,      0.7968,      0.7978,      0.7988,      0.7998,      0.8008,      0.8018,      0.8028,      0.8038,      0.8048,     0.80581,     0.80681,     0.80781,     0.80881,     0.80981,     0.81081,     0.81181,     0.81281,     0.81381,     0.81481,     0.81582,\n",
              "           0.81682,     0.81782,     0.81882,     0.81982,     0.82082,     0.82182,     0.82282,     0.82382,     0.82482,     0.82583,     0.82683,     0.82783,     0.82883,     0.82983,     0.83083,     0.83183,     0.83283,     0.83383,     0.83483,     0.83584,     0.83684,     0.83784,     0.83884,     0.83984,\n",
              "           0.84084,     0.84184,     0.84284,     0.84384,     0.84484,     0.84585,     0.84685,     0.84785,     0.84885,     0.84985,     0.85085,     0.85185,     0.85285,     0.85385,     0.85485,     0.85586,     0.85686,     0.85786,     0.85886,     0.85986,     0.86086,     0.86186,     0.86286,     0.86386,\n",
              "           0.86486,     0.86587,     0.86687,     0.86787,     0.86887,     0.86987,     0.87087,     0.87187,     0.87287,     0.87387,     0.87487,     0.87588,     0.87688,     0.87788,     0.87888,     0.87988,     0.88088,     0.88188,     0.88288,     0.88388,     0.88488,     0.88589,     0.88689,     0.88789,\n",
              "           0.88889,     0.88989,     0.89089,     0.89189,     0.89289,     0.89389,     0.89489,      0.8959,      0.8969,      0.8979,      0.8989,      0.8999,      0.9009,      0.9019,      0.9029,      0.9039,      0.9049,     0.90591,     0.90691,     0.90791,     0.90891,     0.90991,     0.91091,     0.91191,\n",
              "           0.91291,     0.91391,     0.91491,     0.91592,     0.91692,     0.91792,     0.91892,     0.91992,     0.92092,     0.92192,     0.92292,     0.92392,     0.92492,     0.92593,     0.92693,     0.92793,     0.92893,     0.92993,     0.93093,     0.93193,     0.93293,     0.93393,     0.93493,     0.93594,\n",
              "           0.93694,     0.93794,     0.93894,     0.93994,     0.94094,     0.94194,     0.94294,     0.94394,     0.94494,     0.94595,     0.94695,     0.94795,     0.94895,     0.94995,     0.95095,     0.95195,     0.95295,     0.95395,     0.95495,     0.95596,     0.95696,     0.95796,     0.95896,     0.95996,\n",
              "           0.96096,     0.96196,     0.96296,     0.96396,     0.96496,     0.96597,     0.96697,     0.96797,     0.96897,     0.96997,     0.97097,     0.97197,     0.97297,     0.97397,     0.97497,     0.97598,     0.97698,     0.97798,     0.97898,     0.97998,     0.98098,     0.98198,     0.98298,     0.98398,\n",
              "           0.98498,     0.98599,     0.98699,     0.98799,     0.98899,     0.98999,     0.99099,     0.99199,     0.99299,     0.99399,     0.99499,       0.996,       0.997,       0.998,       0.999,           1]), array([[          1,           1,           1,           1,           1,           1,           1,           1,           1,           1,           1,           1,           1,           1,           1,           1,           1,           1,           1,           1,           1,           1,           1,\n",
              "                  1,           1,           1,           1,           1,           1,           1,           1,           1,           1,           1,           1,           1,           1,           1,           1,           1,           1,           1,           1,           1,           1,           1,\n",
              "                  1,           1,           1,           1,           1,           1,           1,           1,           1,           1,           1,           1,           1,           1,           1,           1,           1,           1,           1,           1,           1,           1,           1,\n",
              "                  1,           1,           1,           1,           1,           1,           1,           1,           1,           1,           1,           1,           1,           1,           1,           1,           1,           1,           1,           1,           1,           1,           1,\n",
              "                  1,           1,           1,           1,           1,           1,           1,           1,           1,           1,           1,           1,           1,           1,           1,           1,           1,           1,           1,           1,           1,           1,           1,\n",
              "                  1,           1,           1,           1,           1,           1,           1,           1,           1,           1,           1,           1,           1,           1,           1,           1,           1,           1,           1,           1,           1,           1,           1,\n",
              "                  1,           1,           1,           1,           1,           1,           1,           1,           1,           1,           1,           1,           1,           1,           1,           1,           1,           1,           1,           1,           1,           1,           1,\n",
              "                  1,           1,           1,           1,           1,           1,           1,           1,           1,           1,           1,           1,           1,           1,           1,           1,           1,           1,           1,           1,           1,           1,           1,\n",
              "                  1,           1,           1,           1,           1,           1,           1,           1,           1,           1,           1,           1,           1,           1,           1,           1,           1,           1,           1,           1,           1,           1,           1,\n",
              "                  1,           1,           1,           1,           1,           1,           1,           1,           1,           1,           1,           1,           1,           1,           1,           1,           1,           1,           1,           1,           1,           1,           1,\n",
              "                  1,           1,           1,           1,           1,           1,           1,           1,           1,           1,           1,           1,           1,           1,           1,           1,           1,           1,           1,           1,           1,           1,           1,\n",
              "                  1,           1,           1,           1,           1,           1,           1,           1,           1,           1,           1,           1,           1,           1,           1,           1,           1,           1,           1,           1,           1,           1,           1,\n",
              "                  1,           1,           1,           1,           1,           1,           1,           1,           1,           1,           1,           1,           1,           1,           1,           1,           1,           1,           1,           1,           1,           1,           1,\n",
              "                  1,           1,           1,           1,           1,           1,           1,           1,           1,           1,           1,           1,           1,           1,           1,           1,           1,           1,           1,           1,           1,           1,           1,\n",
              "                  1,           1,           1,           1,           1,           1,           1,           1,           1,           1,           1,           1,           1,           1,           1,           1,           1,           1,           1,           1,           1,           1,           1,\n",
              "                  1,           1,           1,           1,           1,           1,           1,           1,           1,           1,           1,           1,           1,           1,           1,           1,           1,           1,           1,           1,           1,           1,           1,\n",
              "                  1,           1,           1,           1,           1,           1,           1,           1,           1,           1,           1,           1,           1,           1,           1,           1,           1,           1,           1,           1,           1,           1,           1,\n",
              "                  1,           1,           1,           1,           1,           1,           1,           1,           1,           1,           1,           1,           1,           1,           1,           1,           1,           1,           1,           1,           1,           1,           1,\n",
              "                  1,           1,           1,           1,           1,           1,           1,           1,           1,           1,           1,           1,           1,           1,           1,           1,           1,           1,           1,           1,           1,           1,           1,\n",
              "                  1,           1,           1,           1,           1,           1,           1,           1,           1,           1,           1,           1,           1,           1,           1,           1,           1,           1,           1,           1,           1,           1,           1,\n",
              "                  1,           1,           1,           1,           1,           1,           1,           1,           1,           1,           1,           1,           1,           1,           1,           1,           1,           1,           1,           1,           1,           1,           1,\n",
              "                  1,           1,           1,           1,           1,           1,           1,           1,           1,           1,           1,           1,           1,           1,           1,           1,           1,           1,           1,           1,           1,           1,           1,\n",
              "                  1,           1,           1,           1,           1,           1,           1,           1,           1,           1,           1,           1,           1,           1,           1,           1,           1,           1,           1,           1,           1,           1,           1,\n",
              "                  1,           1,           1,           1,           1,           1,           1,           1,           1,           1,           1,           1,           1,           1,           1,           1,           1,           1,           1,           1,           1,           1,           1,\n",
              "                  1,           1,           1,           1,           1,           1,           1,           1,           1,           1,           1,           1,           1,           1,           1,           1,           1,           1,           1,           1,           1,           1,           1,\n",
              "                  1,           1,           1,           1,           1,           1,           1,           1,           1,           1,           1,           1,           1,           1,           1,           1,           1,           1,           1,           1,           1,           1,           1,\n",
              "                  1,           1,           1,           1,           1,           1,           1,           1,           1,           1,           1,           1,           1,           1,           1,           1,           1,           1,           1,           1,           1,           1,           1,\n",
              "                  1,           1,           1,           1,           1,           1,           1,           1,           1,           1,           1,           1,           1,     0.97297,     0.97297,     0.97297,     0.97297,     0.97297,     0.97297,     0.97297,     0.97297,     0.97297,      0.9375,\n",
              "             0.9375,      0.9375,      0.9375,      0.9375,      0.9375,      0.9375,      0.9375,      0.9375,      0.9375,      0.9375,      0.9375,      0.9375,      0.9375,      0.9375,      0.9375,      0.9375,      0.9375,      0.9375,      0.9375,      0.9375,      0.9375,      0.9375,      0.9375,\n",
              "             0.9375,      0.9375,     0.92857,     0.92857,     0.92857,     0.92857,     0.92857,     0.92857,     0.92857,     0.92857,     0.92857,     0.92857,     0.92857,     0.92857,     0.92857,     0.92857,     0.92857,     0.92857,     0.92857,     0.92857,     0.92857,     0.92857,     0.92857,\n",
              "            0.92857,     0.92857,     0.92857,     0.92857,     0.92857,     0.92857,     0.92857,     0.92857,     0.92857,     0.92857,     0.92857,     0.92857,     0.92857,     0.92857,     0.92857,     0.92857,     0.92857,     0.92857,     0.92857,     0.92857,     0.92857,     0.92857,     0.92857,\n",
              "            0.92857,     0.92857,     0.92857,     0.92857,     0.92857,     0.92857,     0.92857,     0.92857,     0.92857,     0.92857,     0.92857,     0.92857,     0.92857,     0.92857,     0.92857,     0.92857,     0.92857,     0.92857,     0.92857,     0.92857,     0.92857,     0.92857,     0.92857,\n",
              "            0.92857,     0.92857,     0.92857,     0.92857,     0.92857,     0.92857,     0.92857,     0.92857,     0.92857,     0.92857,     0.92857,     0.92857,     0.92857,     0.92857,     0.92857,     0.92857,     0.92857,     0.92857,     0.92857,     0.92857,     0.92857,     0.92857,     0.92857,\n",
              "            0.92857,     0.92857,     0.92857,     0.92857,     0.92857,     0.92857,     0.92857,     0.92857,     0.92857,     0.92857,     0.92857,     0.92857,     0.92857,     0.92857,     0.92857,     0.92857,     0.92857,     0.92857,     0.92857,     0.92857,     0.92857,     0.92857,     0.92857,\n",
              "            0.92857,     0.92857,     0.92857,     0.92857,     0.92857,     0.92857,     0.92857,     0.92857,     0.92857,     0.92857,     0.92857,     0.92857,     0.92857,     0.92857,     0.92857,     0.92857,     0.92857,     0.92857,     0.92857,     0.92857,     0.92857,     0.92857,     0.92857,\n",
              "            0.92857,     0.92857,     0.92857,     0.92857,     0.92857,     0.92857,     0.92857,     0.92157,     0.92157,     0.92157,     0.92157,     0.92157,     0.92157,     0.92157,     0.92157,     0.92157,     0.92157,     0.92157,     0.92157,     0.92157,     0.92157,     0.92157,     0.92157,\n",
              "            0.92157,     0.92157,     0.92157,     0.92157,     0.92157,     0.92157,     0.92157,     0.92157,     0.92157,     0.92157,     0.92157,     0.90566,     0.90566,     0.90566,     0.90566,     0.90566,     0.90566,     0.90566,     0.90566,     0.90566,     0.90566,     0.90566,     0.90566,\n",
              "            0.90566,     0.90566,     0.90566,     0.90566,     0.90566,     0.90566,     0.89815,     0.89815,     0.89815,     0.89815,     0.89815,     0.89815,     0.89815,     0.89815,     0.89815,     0.88288,     0.88288,     0.88288,     0.88288,     0.88288,     0.88288,     0.88288,     0.88288,\n",
              "            0.88288,     0.87719,     0.87719,     0.87719,     0.87719,     0.87719,     0.87719,     0.87719,     0.87719,     0.87719,     0.87719,     0.87719,     0.87719,     0.87719,     0.87719,     0.87719,     0.87719,     0.87719,     0.87069,     0.87069,     0.87069,     0.87069,     0.87069,\n",
              "            0.87069,     0.87069,     0.87069,     0.87069,      0.8595,      0.8595,      0.8595,      0.8595,      0.8595,      0.8595,      0.8595,      0.8595,      0.8595,      0.8595,      0.8595,      0.8595,      0.8595,      0.8595,      0.8595,      0.8595,      0.8595,      0.8595,      0.8595,\n",
              "             0.8595,      0.8595,      0.8595,      0.8595,      0.8595,      0.8595,      0.8595,      0.8595,     0.85366,     0.85366,     0.85366,     0.85366,     0.85366,     0.85366,     0.85366,     0.85366,     0.85366,     0.82812,     0.82812,     0.82812,     0.82812,     0.82812,     0.82812,\n",
              "            0.82812,     0.82812,     0.82812,     0.82308,     0.82308,     0.82308,     0.82308,     0.82308,     0.82308,     0.82308,     0.82308,     0.82308,     0.81752,     0.81752,     0.81752,     0.81752,     0.81752,     0.81752,     0.81752,     0.81752,     0.81752,     0.81752,     0.81752,\n",
              "            0.81752,     0.81752,     0.81752,     0.81752,     0.81752,     0.81752,     0.81752,     0.81752,     0.81752,     0.81752,     0.81752,     0.81752,     0.81752,     0.81752,     0.81752,     0.81752,     0.81752,     0.81752,     0.81752,     0.81752,     0.81752,     0.81752,     0.81752,\n",
              "            0.81752,     0.81752,     0.81752,     0.81752,     0.81752,     0.81752,     0.81752,     0.81752,     0.81752,     0.81752,           0]]), 'Recall', 'Precision'], [array([          0,    0.001001,    0.002002,    0.003003,    0.004004,    0.005005,    0.006006,    0.007007,    0.008008,    0.009009,     0.01001,    0.011011,    0.012012,    0.013013,    0.014014,    0.015015,    0.016016,    0.017017,    0.018018,    0.019019,     0.02002,    0.021021,    0.022022,    0.023023,\n",
              "          0.024024,    0.025025,    0.026026,    0.027027,    0.028028,    0.029029,     0.03003,    0.031031,    0.032032,    0.033033,    0.034034,    0.035035,    0.036036,    0.037037,    0.038038,    0.039039,     0.04004,    0.041041,    0.042042,    0.043043,    0.044044,    0.045045,    0.046046,    0.047047,\n",
              "          0.048048,    0.049049,     0.05005,    0.051051,    0.052052,    0.053053,    0.054054,    0.055055,    0.056056,    0.057057,    0.058058,    0.059059,     0.06006,    0.061061,    0.062062,    0.063063,    0.064064,    0.065065,    0.066066,    0.067067,    0.068068,    0.069069,     0.07007,    0.071071,\n",
              "          0.072072,    0.073073,    0.074074,    0.075075,    0.076076,    0.077077,    0.078078,    0.079079,     0.08008,    0.081081,    0.082082,    0.083083,    0.084084,    0.085085,    0.086086,    0.087087,    0.088088,    0.089089,     0.09009,    0.091091,    0.092092,    0.093093,    0.094094,    0.095095,\n",
              "          0.096096,    0.097097,    0.098098,    0.099099,      0.1001,      0.1011,      0.1021,      0.1031,      0.1041,     0.10511,     0.10611,     0.10711,     0.10811,     0.10911,     0.11011,     0.11111,     0.11211,     0.11311,     0.11411,     0.11512,     0.11612,     0.11712,     0.11812,     0.11912,\n",
              "           0.12012,     0.12112,     0.12212,     0.12312,     0.12412,     0.12513,     0.12613,     0.12713,     0.12813,     0.12913,     0.13013,     0.13113,     0.13213,     0.13313,     0.13413,     0.13514,     0.13614,     0.13714,     0.13814,     0.13914,     0.14014,     0.14114,     0.14214,     0.14314,\n",
              "           0.14414,     0.14515,     0.14615,     0.14715,     0.14815,     0.14915,     0.15015,     0.15115,     0.15215,     0.15315,     0.15415,     0.15516,     0.15616,     0.15716,     0.15816,     0.15916,     0.16016,     0.16116,     0.16216,     0.16316,     0.16416,     0.16517,     0.16617,     0.16717,\n",
              "           0.16817,     0.16917,     0.17017,     0.17117,     0.17217,     0.17317,     0.17417,     0.17518,     0.17618,     0.17718,     0.17818,     0.17918,     0.18018,     0.18118,     0.18218,     0.18318,     0.18418,     0.18519,     0.18619,     0.18719,     0.18819,     0.18919,     0.19019,     0.19119,\n",
              "           0.19219,     0.19319,     0.19419,      0.1952,      0.1962,      0.1972,      0.1982,      0.1992,      0.2002,      0.2012,      0.2022,      0.2032,      0.2042,     0.20521,     0.20621,     0.20721,     0.20821,     0.20921,     0.21021,     0.21121,     0.21221,     0.21321,     0.21421,     0.21522,\n",
              "           0.21622,     0.21722,     0.21822,     0.21922,     0.22022,     0.22122,     0.22222,     0.22322,     0.22422,     0.22523,     0.22623,     0.22723,     0.22823,     0.22923,     0.23023,     0.23123,     0.23223,     0.23323,     0.23423,     0.23524,     0.23624,     0.23724,     0.23824,     0.23924,\n",
              "           0.24024,     0.24124,     0.24224,     0.24324,     0.24424,     0.24525,     0.24625,     0.24725,     0.24825,     0.24925,     0.25025,     0.25125,     0.25225,     0.25325,     0.25425,     0.25526,     0.25626,     0.25726,     0.25826,     0.25926,     0.26026,     0.26126,     0.26226,     0.26326,\n",
              "           0.26426,     0.26527,     0.26627,     0.26727,     0.26827,     0.26927,     0.27027,     0.27127,     0.27227,     0.27327,     0.27427,     0.27528,     0.27628,     0.27728,     0.27828,     0.27928,     0.28028,     0.28128,     0.28228,     0.28328,     0.28428,     0.28529,     0.28629,     0.28729,\n",
              "           0.28829,     0.28929,     0.29029,     0.29129,     0.29229,     0.29329,     0.29429,      0.2953,      0.2963,      0.2973,      0.2983,      0.2993,      0.3003,      0.3013,      0.3023,      0.3033,      0.3043,     0.30531,     0.30631,     0.30731,     0.30831,     0.30931,     0.31031,     0.31131,\n",
              "           0.31231,     0.31331,     0.31431,     0.31532,     0.31632,     0.31732,     0.31832,     0.31932,     0.32032,     0.32132,     0.32232,     0.32332,     0.32432,     0.32533,     0.32633,     0.32733,     0.32833,     0.32933,     0.33033,     0.33133,     0.33233,     0.33333,     0.33433,     0.33534,\n",
              "           0.33634,     0.33734,     0.33834,     0.33934,     0.34034,     0.34134,     0.34234,     0.34334,     0.34434,     0.34535,     0.34635,     0.34735,     0.34835,     0.34935,     0.35035,     0.35135,     0.35235,     0.35335,     0.35435,     0.35536,     0.35636,     0.35736,     0.35836,     0.35936,\n",
              "           0.36036,     0.36136,     0.36236,     0.36336,     0.36436,     0.36537,     0.36637,     0.36737,     0.36837,     0.36937,     0.37037,     0.37137,     0.37237,     0.37337,     0.37437,     0.37538,     0.37638,     0.37738,     0.37838,     0.37938,     0.38038,     0.38138,     0.38238,     0.38338,\n",
              "           0.38438,     0.38539,     0.38639,     0.38739,     0.38839,     0.38939,     0.39039,     0.39139,     0.39239,     0.39339,     0.39439,      0.3954,      0.3964,      0.3974,      0.3984,      0.3994,      0.4004,      0.4014,      0.4024,      0.4034,      0.4044,     0.40541,     0.40641,     0.40741,\n",
              "           0.40841,     0.40941,     0.41041,     0.41141,     0.41241,     0.41341,     0.41441,     0.41542,     0.41642,     0.41742,     0.41842,     0.41942,     0.42042,     0.42142,     0.42242,     0.42342,     0.42442,     0.42543,     0.42643,     0.42743,     0.42843,     0.42943,     0.43043,     0.43143,\n",
              "           0.43243,     0.43343,     0.43443,     0.43544,     0.43644,     0.43744,     0.43844,     0.43944,     0.44044,     0.44144,     0.44244,     0.44344,     0.44444,     0.44545,     0.44645,     0.44745,     0.44845,     0.44945,     0.45045,     0.45145,     0.45245,     0.45345,     0.45445,     0.45546,\n",
              "           0.45646,     0.45746,     0.45846,     0.45946,     0.46046,     0.46146,     0.46246,     0.46346,     0.46446,     0.46547,     0.46647,     0.46747,     0.46847,     0.46947,     0.47047,     0.47147,     0.47247,     0.47347,     0.47447,     0.47548,     0.47648,     0.47748,     0.47848,     0.47948,\n",
              "           0.48048,     0.48148,     0.48248,     0.48348,     0.48448,     0.48549,     0.48649,     0.48749,     0.48849,     0.48949,     0.49049,     0.49149,     0.49249,     0.49349,     0.49449,      0.4955,      0.4965,      0.4975,      0.4985,      0.4995,      0.5005,      0.5015,      0.5025,      0.5035,\n",
              "            0.5045,     0.50551,     0.50651,     0.50751,     0.50851,     0.50951,     0.51051,     0.51151,     0.51251,     0.51351,     0.51451,     0.51552,     0.51652,     0.51752,     0.51852,     0.51952,     0.52052,     0.52152,     0.52252,     0.52352,     0.52452,     0.52553,     0.52653,     0.52753,\n",
              "           0.52853,     0.52953,     0.53053,     0.53153,     0.53253,     0.53353,     0.53453,     0.53554,     0.53654,     0.53754,     0.53854,     0.53954,     0.54054,     0.54154,     0.54254,     0.54354,     0.54454,     0.54555,     0.54655,     0.54755,     0.54855,     0.54955,     0.55055,     0.55155,\n",
              "           0.55255,     0.55355,     0.55455,     0.55556,     0.55656,     0.55756,     0.55856,     0.55956,     0.56056,     0.56156,     0.56256,     0.56356,     0.56456,     0.56557,     0.56657,     0.56757,     0.56857,     0.56957,     0.57057,     0.57157,     0.57257,     0.57357,     0.57457,     0.57558,\n",
              "           0.57658,     0.57758,     0.57858,     0.57958,     0.58058,     0.58158,     0.58258,     0.58358,     0.58458,     0.58559,     0.58659,     0.58759,     0.58859,     0.58959,     0.59059,     0.59159,     0.59259,     0.59359,     0.59459,      0.5956,      0.5966,      0.5976,      0.5986,      0.5996,\n",
              "            0.6006,      0.6016,      0.6026,      0.6036,      0.6046,     0.60561,     0.60661,     0.60761,     0.60861,     0.60961,     0.61061,     0.61161,     0.61261,     0.61361,     0.61461,     0.61562,     0.61662,     0.61762,     0.61862,     0.61962,     0.62062,     0.62162,     0.62262,     0.62362,\n",
              "           0.62462,     0.62563,     0.62663,     0.62763,     0.62863,     0.62963,     0.63063,     0.63163,     0.63263,     0.63363,     0.63463,     0.63564,     0.63664,     0.63764,     0.63864,     0.63964,     0.64064,     0.64164,     0.64264,     0.64364,     0.64464,     0.64565,     0.64665,     0.64765,\n",
              "           0.64865,     0.64965,     0.65065,     0.65165,     0.65265,     0.65365,     0.65465,     0.65566,     0.65666,     0.65766,     0.65866,     0.65966,     0.66066,     0.66166,     0.66266,     0.66366,     0.66466,     0.66567,     0.66667,     0.66767,     0.66867,     0.66967,     0.67067,     0.67167,\n",
              "           0.67267,     0.67367,     0.67467,     0.67568,     0.67668,     0.67768,     0.67868,     0.67968,     0.68068,     0.68168,     0.68268,     0.68368,     0.68468,     0.68569,     0.68669,     0.68769,     0.68869,     0.68969,     0.69069,     0.69169,     0.69269,     0.69369,     0.69469,      0.6957,\n",
              "            0.6967,      0.6977,      0.6987,      0.6997,      0.7007,      0.7017,      0.7027,      0.7037,      0.7047,     0.70571,     0.70671,     0.70771,     0.70871,     0.70971,     0.71071,     0.71171,     0.71271,     0.71371,     0.71471,     0.71572,     0.71672,     0.71772,     0.71872,     0.71972,\n",
              "           0.72072,     0.72172,     0.72272,     0.72372,     0.72472,     0.72573,     0.72673,     0.72773,     0.72873,     0.72973,     0.73073,     0.73173,     0.73273,     0.73373,     0.73473,     0.73574,     0.73674,     0.73774,     0.73874,     0.73974,     0.74074,     0.74174,     0.74274,     0.74374,\n",
              "           0.74474,     0.74575,     0.74675,     0.74775,     0.74875,     0.74975,     0.75075,     0.75175,     0.75275,     0.75375,     0.75475,     0.75576,     0.75676,     0.75776,     0.75876,     0.75976,     0.76076,     0.76176,     0.76276,     0.76376,     0.76476,     0.76577,     0.76677,     0.76777,\n",
              "           0.76877,     0.76977,     0.77077,     0.77177,     0.77277,     0.77377,     0.77477,     0.77578,     0.77678,     0.77778,     0.77878,     0.77978,     0.78078,     0.78178,     0.78278,     0.78378,     0.78478,     0.78579,     0.78679,     0.78779,     0.78879,     0.78979,     0.79079,     0.79179,\n",
              "           0.79279,     0.79379,     0.79479,      0.7958,      0.7968,      0.7978,      0.7988,      0.7998,      0.8008,      0.8018,      0.8028,      0.8038,      0.8048,     0.80581,     0.80681,     0.80781,     0.80881,     0.80981,     0.81081,     0.81181,     0.81281,     0.81381,     0.81481,     0.81582,\n",
              "           0.81682,     0.81782,     0.81882,     0.81982,     0.82082,     0.82182,     0.82282,     0.82382,     0.82482,     0.82583,     0.82683,     0.82783,     0.82883,     0.82983,     0.83083,     0.83183,     0.83283,     0.83383,     0.83483,     0.83584,     0.83684,     0.83784,     0.83884,     0.83984,\n",
              "           0.84084,     0.84184,     0.84284,     0.84384,     0.84484,     0.84585,     0.84685,     0.84785,     0.84885,     0.84985,     0.85085,     0.85185,     0.85285,     0.85385,     0.85485,     0.85586,     0.85686,     0.85786,     0.85886,     0.85986,     0.86086,     0.86186,     0.86286,     0.86386,\n",
              "           0.86486,     0.86587,     0.86687,     0.86787,     0.86887,     0.86987,     0.87087,     0.87187,     0.87287,     0.87387,     0.87487,     0.87588,     0.87688,     0.87788,     0.87888,     0.87988,     0.88088,     0.88188,     0.88288,     0.88388,     0.88488,     0.88589,     0.88689,     0.88789,\n",
              "           0.88889,     0.88989,     0.89089,     0.89189,     0.89289,     0.89389,     0.89489,      0.8959,      0.8969,      0.8979,      0.8989,      0.8999,      0.9009,      0.9019,      0.9029,      0.9039,      0.9049,     0.90591,     0.90691,     0.90791,     0.90891,     0.90991,     0.91091,     0.91191,\n",
              "           0.91291,     0.91391,     0.91491,     0.91592,     0.91692,     0.91792,     0.91892,     0.91992,     0.92092,     0.92192,     0.92292,     0.92392,     0.92492,     0.92593,     0.92693,     0.92793,     0.92893,     0.92993,     0.93093,     0.93193,     0.93293,     0.93393,     0.93493,     0.93594,\n",
              "           0.93694,     0.93794,     0.93894,     0.93994,     0.94094,     0.94194,     0.94294,     0.94394,     0.94494,     0.94595,     0.94695,     0.94795,     0.94895,     0.94995,     0.95095,     0.95195,     0.95295,     0.95395,     0.95495,     0.95596,     0.95696,     0.95796,     0.95896,     0.95996,\n",
              "           0.96096,     0.96196,     0.96296,     0.96396,     0.96496,     0.96597,     0.96697,     0.96797,     0.96897,     0.96997,     0.97097,     0.97197,     0.97297,     0.97397,     0.97497,     0.97598,     0.97698,     0.97798,     0.97898,     0.97998,     0.98098,     0.98198,     0.98298,     0.98398,\n",
              "           0.98498,     0.98599,     0.98699,     0.98799,     0.98899,     0.98999,     0.99099,     0.99199,     0.99299,     0.99399,     0.99499,       0.996,       0.997,       0.998,       0.999,           1]), array([[    0.41252,     0.41252,     0.55024,     0.60082,     0.64567,     0.66417,     0.68242,     0.68488,     0.69081,     0.69209,     0.69307,     0.69798,     0.70422,     0.70608,     0.70872,     0.71282,     0.72035,     0.72118,       0.722,     0.72304,     0.72457,     0.72527,     0.72573,\n",
              "            0.72619,     0.72665,     0.72711,     0.73115,     0.73307,     0.73554,     0.73955,     0.74078,     0.74591,     0.74689,     0.74712,     0.74736,     0.74759,     0.74782,     0.74806,     0.74829,     0.74853,     0.74876,     0.74899,     0.74934,     0.75001,     0.75068,     0.75135,\n",
              "            0.75215,     0.75306,     0.75397,     0.75424,     0.75429,     0.75433,     0.75437,     0.75442,     0.75446,      0.7545,     0.75455,     0.75459,     0.75464,     0.75468,     0.75472,     0.75477,     0.75481,     0.75486,      0.7549,     0.75494,     0.75499,     0.75503,     0.75508,\n",
              "            0.75512,     0.75516,     0.75521,     0.75525,     0.75529,     0.75534,     0.75538,     0.75543,     0.75547,     0.75551,     0.75556,      0.7556,     0.75564,     0.75569,     0.75573,     0.75578,     0.75582,     0.75586,     0.75591,     0.75595,       0.756,     0.75604,     0.75608,\n",
              "            0.75613,     0.75617,     0.75621,     0.75626,      0.7563,     0.75635,     0.75639,     0.75643,     0.75648,     0.75652,     0.75656,     0.75661,     0.75665,      0.7567,     0.75674,     0.75947,     0.75973,     0.75998,     0.76023,     0.76048,     0.76074,     0.76099,     0.76124,\n",
              "            0.76149,     0.76174,     0.76308,      0.7648,     0.76534,     0.76587,      0.7664,     0.76692,     0.76958,     0.77066,     0.77161,     0.77513,     0.77683,     0.78068,     0.78316,     0.78491,     0.78696,     0.78949,     0.79182,     0.79336,     0.79575,     0.79928,     0.80323,\n",
              "            0.80391,     0.80459,     0.80526,     0.80792,     0.80916,     0.80971,     0.81025,      0.8108,     0.81134,     0.81465,     0.81668,     0.81796,      0.8187,     0.81945,     0.82019,     0.82121,     0.82245,      0.8236,     0.82413,     0.82466,     0.82519,     0.82572,     0.82625,\n",
              "            0.82685,     0.82757,     0.82829,       0.829,     0.82965,     0.82981,     0.82997,     0.83013,      0.8303,     0.83046,     0.83062,     0.83078,     0.83094,      0.8311,     0.83126,     0.83142,     0.83158,     0.83175,     0.83191,     0.83207,     0.83223,     0.83239,     0.83255,\n",
              "            0.83271,     0.83283,     0.83294,     0.83306,     0.83317,     0.83328,      0.8334,     0.83351,     0.83363,     0.83374,     0.83386,     0.83397,     0.83408,      0.8342,     0.83431,     0.83443,     0.83454,     0.83466,     0.83477,     0.83488,       0.835,     0.83511,     0.83523,\n",
              "            0.83534,     0.83545,     0.83557,     0.83568,      0.8358,     0.83909,     0.83928,     0.83946,     0.83964,     0.83982,        0.84,     0.84018,     0.84036,     0.84054,     0.84072,      0.8409,     0.84108,     0.84127,     0.84145,     0.84163,     0.84181,     0.84199,     0.84214,\n",
              "            0.84222,     0.84231,     0.84239,     0.84248,     0.84257,     0.84265,     0.84274,     0.84282,     0.84291,       0.843,     0.84308,     0.84317,     0.84326,     0.84334,     0.84343,     0.84351,      0.8436,     0.84369,     0.84377,     0.84386,     0.84394,     0.84403,     0.84412,\n",
              "             0.8442,     0.84429,     0.84437,     0.84446,     0.84454,     0.84463,     0.84472,      0.8448,     0.84489,     0.84497,     0.84506,     0.84515,     0.84523,     0.84549,     0.84602,     0.84654,     0.84707,     0.84759,     0.84812,     0.84888,     0.85021,     0.85153,     0.85362,\n",
              "            0.85573,     0.85764,      0.8598,     0.86162,       0.862,     0.86238,     0.86276,     0.86314,     0.86352,      0.8639,     0.86428,     0.86466,      0.8651,     0.86563,     0.86616,     0.86669,     0.86722,     0.86774,     0.86825,      0.8686,     0.86895,     0.86929,     0.86964,\n",
              "            0.86999,     0.87033,     0.87068,     0.87102,     0.87137,     0.87194,     0.87294,     0.87394,     0.87493,     0.87527,     0.87557,     0.87586,     0.87616,     0.87645,     0.87674,     0.87704,     0.87733,     0.87762,     0.87791,     0.87821,     0.87861,      0.8794,     0.88019,\n",
              "            0.88098,     0.88176,      0.8836,     0.88549,     0.88634,     0.88718,     0.88803,     0.88888,     0.89244,     0.89349,     0.89453,     0.89558,     0.89725,     0.89936,     0.89814,     0.89648,     0.89392,     0.88851,     0.88387,     0.87962,     0.88216,     0.88294,     0.88276,\n",
              "            0.88675,     0.89138,      0.8911,     0.88932,      0.8844,      0.8823,      0.8812,     0.88009,     0.87898,     0.87876,     0.88019,     0.88162,     0.88405,     0.88117,     0.88246,     0.88391,     0.88486,     0.88452,     0.88419,     0.88385,     0.88351,     0.88317,     0.88283,\n",
              "             0.8825,     0.88216,     0.88182,     0.88148,     0.88114,      0.8808,     0.88046,     0.88012,      0.8794,     0.87847,     0.87754,     0.87661,     0.87568,     0.87537,     0.87672,     0.87806,     0.87789,     0.87493,     0.87475,      0.8761,     0.87745,     0.88076,     0.88068,\n",
              "             0.8754,     0.87819,     0.86747,     0.86272,     0.86426,     0.86579,     0.86431,     0.85873,     0.85309,     0.84645,      0.8368,     0.83388,     0.82854,     0.82593,     0.82394,     0.82196,     0.82108,      0.8203,     0.81953,     0.81876,     0.81798,      0.8172,     0.81643,\n",
              "            0.81308,     0.80811,     0.80504,     0.80333,      0.8023,     0.80127,     0.80024,     0.79921,     0.79817,     0.79723,      0.7963,     0.79538,     0.79445,     0.79352,     0.79259,     0.79186,     0.79178,     0.79169,     0.79161,     0.79153,     0.79144,     0.79136,     0.79128,\n",
              "            0.79119,     0.79111,     0.79103,     0.79094,     0.79086,     0.79078,     0.79069,     0.79061,     0.79052,     0.79044,     0.79036,     0.79027,     0.79019,     0.79011,     0.79002,     0.78994,     0.78986,     0.78977,     0.78969,     0.78961,     0.78952,     0.78944,     0.78935,\n",
              "            0.78927,     0.78919,      0.7891,     0.78902,     0.78894,     0.78885,     0.78877,     0.78869,      0.7886,     0.78852,     0.78843,     0.78835,     0.78827,     0.78818,      0.7881,     0.78802,     0.78793,     0.78785,     0.78776,     0.78768,      0.7876,     0.78751,     0.78743,\n",
              "            0.78735,     0.78726,     0.78718,     0.78709,     0.78701,     0.78693,     0.78684,     0.78676,     0.78667,     0.78659,     0.78651,     0.78642,     0.78634,     0.78625,     0.78617,     0.78609,       0.786,     0.78592,     0.78583,     0.78575,     0.78389,      0.7807,     0.77882,\n",
              "            0.77775,     0.77668,      0.7756,     0.77452,     0.77345,     0.77636,      0.7783,     0.77969,     0.78107,     0.77559,     0.77193,     0.76862,     0.76634,     0.76411,     0.76192,     0.76296,       0.764,     0.76504,     0.76619,      0.7683,     0.77073,     0.76836,     0.77264,\n",
              "            0.77594,     0.77586,     0.77578,      0.7757,     0.77562,     0.77554,     0.77546,     0.77539,     0.77531,     0.77523,     0.77515,     0.77507,     0.77499,     0.77491,     0.77483,     0.77475,     0.77468,      0.7746,     0.77452,     0.77444,     0.77436,     0.77428,      0.7742,\n",
              "            0.77412,     0.77404,     0.77396,     0.77389,     0.77381,     0.77373,     0.77365,     0.77357,     0.77349,     0.77341,     0.77333,     0.77325,     0.77317,     0.77309,     0.77302,     0.77294,     0.77286,     0.77278,      0.7727,     0.77262,     0.77254,     0.77246,     0.77238,\n",
              "             0.7723,     0.77222,     0.77214,     0.77206,     0.77198,     0.77191,     0.77183,     0.77175,     0.77167,     0.77159,     0.77151,     0.77143,     0.77135,     0.77127,     0.77119,     0.77111,     0.77103,     0.77095,     0.77087,     0.77079,     0.77071,     0.77063,     0.77056,\n",
              "            0.77048,      0.7704,     0.77032,     0.77024,     0.77016,     0.77008,        0.77,     0.76992,     0.76984,     0.76976,     0.76968,      0.7696,     0.76952,     0.76944,     0.76936,     0.76928,     0.76852,     0.76654,     0.76455,     0.76255,     0.75579,     0.75212,     0.74152,\n",
              "            0.73788,     0.73399,     0.72662,     0.71831,     0.71106,     0.70852,     0.70597,     0.69982,      0.6958,      0.6932,     0.69059,     0.67982,     0.67662,     0.67452,     0.67442,     0.67432,     0.67421,     0.67411,     0.67401,     0.67391,     0.67381,     0.67371,      0.6736,\n",
              "             0.6735,      0.6734,      0.6733,      0.6732,     0.67309,     0.67299,     0.67289,     0.67279,     0.67269,     0.67258,     0.67248,     0.67238,     0.67228,     0.67218,     0.67207,     0.67197,     0.67187,     0.67177,     0.67166,     0.67156,     0.67146,     0.67136,     0.67126,\n",
              "            0.67115,     0.67105,     0.67095,     0.67085,     0.67074,     0.67064,     0.67054,     0.67044,     0.67033,     0.67023,     0.67013,     0.67003,     0.66992,     0.66982,     0.66972,     0.66962,     0.66951,     0.66941,     0.66931,     0.66921,      0.6691,       0.669,      0.6689,\n",
              "             0.6688,     0.66869,     0.66859,     0.66849,     0.66839,     0.66828,     0.66818,     0.66808,     0.66797,     0.66787,     0.66777,     0.66767,     0.66756,     0.66746,     0.66736,     0.66725,     0.66715,     0.66705,     0.66695,     0.66684,     0.66674,     0.66512,     0.65966,\n",
              "            0.65529,     0.65114,       0.633,     0.63168,     0.63037,     0.62904,     0.62772,     0.62639,     0.62424,     0.62135,     0.61844,     0.58937,     0.58633,     0.58327,     0.57812,     0.57226,     0.56758,     0.56387,     0.56297,     0.56207,     0.56117,     0.56026,     0.55936,\n",
              "            0.55845,     0.55755,     0.55664,     0.55573,     0.55483,     0.55459,     0.55435,     0.55411,     0.55387,     0.55362,     0.55338,     0.55314,      0.5529,     0.55265,     0.55241,     0.55217,     0.55193,     0.55168,     0.55144,      0.5512,     0.55095,     0.55071,     0.55047,\n",
              "            0.55022,     0.54998,     0.54974,     0.54949,     0.54925,       0.549,     0.54876,     0.54852,     0.54827,     0.54803,     0.54778,     0.54754,     0.54729,     0.54705,     0.54681,     0.54656,     0.54632,     0.54607,     0.54583,     0.54558,     0.54479,      0.5434,     0.54201,\n",
              "            0.54062,     0.53923,     0.53783,     0.53643,     0.52951,     0.52181,     0.51629,     0.51503,     0.51376,      0.5125,     0.51123,     0.50996,     0.50869,     0.50742,     0.50499,     0.50089,     0.49677,     0.49262,     0.48845,     0.47241,     0.46502,     0.45477,     0.45038,\n",
              "            0.44598,     0.43062,      0.4261,      0.4209,     0.41326,     0.41062,     0.40966,      0.4087,     0.40773,     0.40676,     0.40579,     0.40482,     0.40385,     0.40288,     0.40191,     0.40093,     0.39988,     0.39728,     0.39466,     0.39204,      0.3894,     0.38068,     0.37134,\n",
              "            0.35026,     0.29987,     0.27333,     0.26091,     0.25163,      0.2442,     0.23712,     0.23476,     0.23308,     0.23139,     0.22971,     0.22802,     0.22633,     0.22463,     0.22293,     0.21377,     0.20443,     0.19851,     0.17632,     0.16098,     0.14537,     0.12949,     0.11335,\n",
              "             0.1005,    0.096366,    0.092211,    0.088038,    0.078962,    0.065451,    0.056851,    0.031832,    0.024716,           0,           0,           0,           0,           0,           0,           0,           0,           0,           0,           0,           0,           0,           0,\n",
              "                  0,           0,           0,           0,           0,           0,           0,           0,           0,           0,           0,           0,           0,           0,           0,           0,           0,           0,           0,           0,           0,           0,           0,\n",
              "                  0,           0,           0,           0,           0,           0,           0,           0,           0,           0,           0,           0,           0,           0,           0,           0,           0,           0,           0,           0,           0,           0,           0,\n",
              "                  0,           0,           0,           0,           0,           0,           0,           0,           0,           0,           0,           0,           0,           0,           0,           0,           0,           0,           0,           0,           0,           0,           0,\n",
              "                  0,           0,           0,           0,           0,           0,           0,           0,           0,           0,           0,           0,           0,           0,           0,           0,           0,           0,           0,           0,           0,           0,           0,\n",
              "                  0,           0,           0,           0,           0,           0,           0,           0,           0,           0,           0,           0,           0,           0,           0,           0,           0,           0,           0,           0,           0,           0,           0,\n",
              "                  0,           0,           0,           0,           0,           0,           0,           0,           0,           0,           0]]), 'Confidence', 'F1'], [array([          0,    0.001001,    0.002002,    0.003003,    0.004004,    0.005005,    0.006006,    0.007007,    0.008008,    0.009009,     0.01001,    0.011011,    0.012012,    0.013013,    0.014014,    0.015015,    0.016016,    0.017017,    0.018018,    0.019019,     0.02002,    0.021021,    0.022022,    0.023023,\n",
              "          0.024024,    0.025025,    0.026026,    0.027027,    0.028028,    0.029029,     0.03003,    0.031031,    0.032032,    0.033033,    0.034034,    0.035035,    0.036036,    0.037037,    0.038038,    0.039039,     0.04004,    0.041041,    0.042042,    0.043043,    0.044044,    0.045045,    0.046046,    0.047047,\n",
              "          0.048048,    0.049049,     0.05005,    0.051051,    0.052052,    0.053053,    0.054054,    0.055055,    0.056056,    0.057057,    0.058058,    0.059059,     0.06006,    0.061061,    0.062062,    0.063063,    0.064064,    0.065065,    0.066066,    0.067067,    0.068068,    0.069069,     0.07007,    0.071071,\n",
              "          0.072072,    0.073073,    0.074074,    0.075075,    0.076076,    0.077077,    0.078078,    0.079079,     0.08008,    0.081081,    0.082082,    0.083083,    0.084084,    0.085085,    0.086086,    0.087087,    0.088088,    0.089089,     0.09009,    0.091091,    0.092092,    0.093093,    0.094094,    0.095095,\n",
              "          0.096096,    0.097097,    0.098098,    0.099099,      0.1001,      0.1011,      0.1021,      0.1031,      0.1041,     0.10511,     0.10611,     0.10711,     0.10811,     0.10911,     0.11011,     0.11111,     0.11211,     0.11311,     0.11411,     0.11512,     0.11612,     0.11712,     0.11812,     0.11912,\n",
              "           0.12012,     0.12112,     0.12212,     0.12312,     0.12412,     0.12513,     0.12613,     0.12713,     0.12813,     0.12913,     0.13013,     0.13113,     0.13213,     0.13313,     0.13413,     0.13514,     0.13614,     0.13714,     0.13814,     0.13914,     0.14014,     0.14114,     0.14214,     0.14314,\n",
              "           0.14414,     0.14515,     0.14615,     0.14715,     0.14815,     0.14915,     0.15015,     0.15115,     0.15215,     0.15315,     0.15415,     0.15516,     0.15616,     0.15716,     0.15816,     0.15916,     0.16016,     0.16116,     0.16216,     0.16316,     0.16416,     0.16517,     0.16617,     0.16717,\n",
              "           0.16817,     0.16917,     0.17017,     0.17117,     0.17217,     0.17317,     0.17417,     0.17518,     0.17618,     0.17718,     0.17818,     0.17918,     0.18018,     0.18118,     0.18218,     0.18318,     0.18418,     0.18519,     0.18619,     0.18719,     0.18819,     0.18919,     0.19019,     0.19119,\n",
              "           0.19219,     0.19319,     0.19419,      0.1952,      0.1962,      0.1972,      0.1982,      0.1992,      0.2002,      0.2012,      0.2022,      0.2032,      0.2042,     0.20521,     0.20621,     0.20721,     0.20821,     0.20921,     0.21021,     0.21121,     0.21221,     0.21321,     0.21421,     0.21522,\n",
              "           0.21622,     0.21722,     0.21822,     0.21922,     0.22022,     0.22122,     0.22222,     0.22322,     0.22422,     0.22523,     0.22623,     0.22723,     0.22823,     0.22923,     0.23023,     0.23123,     0.23223,     0.23323,     0.23423,     0.23524,     0.23624,     0.23724,     0.23824,     0.23924,\n",
              "           0.24024,     0.24124,     0.24224,     0.24324,     0.24424,     0.24525,     0.24625,     0.24725,     0.24825,     0.24925,     0.25025,     0.25125,     0.25225,     0.25325,     0.25425,     0.25526,     0.25626,     0.25726,     0.25826,     0.25926,     0.26026,     0.26126,     0.26226,     0.26326,\n",
              "           0.26426,     0.26527,     0.26627,     0.26727,     0.26827,     0.26927,     0.27027,     0.27127,     0.27227,     0.27327,     0.27427,     0.27528,     0.27628,     0.27728,     0.27828,     0.27928,     0.28028,     0.28128,     0.28228,     0.28328,     0.28428,     0.28529,     0.28629,     0.28729,\n",
              "           0.28829,     0.28929,     0.29029,     0.29129,     0.29229,     0.29329,     0.29429,      0.2953,      0.2963,      0.2973,      0.2983,      0.2993,      0.3003,      0.3013,      0.3023,      0.3033,      0.3043,     0.30531,     0.30631,     0.30731,     0.30831,     0.30931,     0.31031,     0.31131,\n",
              "           0.31231,     0.31331,     0.31431,     0.31532,     0.31632,     0.31732,     0.31832,     0.31932,     0.32032,     0.32132,     0.32232,     0.32332,     0.32432,     0.32533,     0.32633,     0.32733,     0.32833,     0.32933,     0.33033,     0.33133,     0.33233,     0.33333,     0.33433,     0.33534,\n",
              "           0.33634,     0.33734,     0.33834,     0.33934,     0.34034,     0.34134,     0.34234,     0.34334,     0.34434,     0.34535,     0.34635,     0.34735,     0.34835,     0.34935,     0.35035,     0.35135,     0.35235,     0.35335,     0.35435,     0.35536,     0.35636,     0.35736,     0.35836,     0.35936,\n",
              "           0.36036,     0.36136,     0.36236,     0.36336,     0.36436,     0.36537,     0.36637,     0.36737,     0.36837,     0.36937,     0.37037,     0.37137,     0.37237,     0.37337,     0.37437,     0.37538,     0.37638,     0.37738,     0.37838,     0.37938,     0.38038,     0.38138,     0.38238,     0.38338,\n",
              "           0.38438,     0.38539,     0.38639,     0.38739,     0.38839,     0.38939,     0.39039,     0.39139,     0.39239,     0.39339,     0.39439,      0.3954,      0.3964,      0.3974,      0.3984,      0.3994,      0.4004,      0.4014,      0.4024,      0.4034,      0.4044,     0.40541,     0.40641,     0.40741,\n",
              "           0.40841,     0.40941,     0.41041,     0.41141,     0.41241,     0.41341,     0.41441,     0.41542,     0.41642,     0.41742,     0.41842,     0.41942,     0.42042,     0.42142,     0.42242,     0.42342,     0.42442,     0.42543,     0.42643,     0.42743,     0.42843,     0.42943,     0.43043,     0.43143,\n",
              "           0.43243,     0.43343,     0.43443,     0.43544,     0.43644,     0.43744,     0.43844,     0.43944,     0.44044,     0.44144,     0.44244,     0.44344,     0.44444,     0.44545,     0.44645,     0.44745,     0.44845,     0.44945,     0.45045,     0.45145,     0.45245,     0.45345,     0.45445,     0.45546,\n",
              "           0.45646,     0.45746,     0.45846,     0.45946,     0.46046,     0.46146,     0.46246,     0.46346,     0.46446,     0.46547,     0.46647,     0.46747,     0.46847,     0.46947,     0.47047,     0.47147,     0.47247,     0.47347,     0.47447,     0.47548,     0.47648,     0.47748,     0.47848,     0.47948,\n",
              "           0.48048,     0.48148,     0.48248,     0.48348,     0.48448,     0.48549,     0.48649,     0.48749,     0.48849,     0.48949,     0.49049,     0.49149,     0.49249,     0.49349,     0.49449,      0.4955,      0.4965,      0.4975,      0.4985,      0.4995,      0.5005,      0.5015,      0.5025,      0.5035,\n",
              "            0.5045,     0.50551,     0.50651,     0.50751,     0.50851,     0.50951,     0.51051,     0.51151,     0.51251,     0.51351,     0.51451,     0.51552,     0.51652,     0.51752,     0.51852,     0.51952,     0.52052,     0.52152,     0.52252,     0.52352,     0.52452,     0.52553,     0.52653,     0.52753,\n",
              "           0.52853,     0.52953,     0.53053,     0.53153,     0.53253,     0.53353,     0.53453,     0.53554,     0.53654,     0.53754,     0.53854,     0.53954,     0.54054,     0.54154,     0.54254,     0.54354,     0.54454,     0.54555,     0.54655,     0.54755,     0.54855,     0.54955,     0.55055,     0.55155,\n",
              "           0.55255,     0.55355,     0.55455,     0.55556,     0.55656,     0.55756,     0.55856,     0.55956,     0.56056,     0.56156,     0.56256,     0.56356,     0.56456,     0.56557,     0.56657,     0.56757,     0.56857,     0.56957,     0.57057,     0.57157,     0.57257,     0.57357,     0.57457,     0.57558,\n",
              "           0.57658,     0.57758,     0.57858,     0.57958,     0.58058,     0.58158,     0.58258,     0.58358,     0.58458,     0.58559,     0.58659,     0.58759,     0.58859,     0.58959,     0.59059,     0.59159,     0.59259,     0.59359,     0.59459,      0.5956,      0.5966,      0.5976,      0.5986,      0.5996,\n",
              "            0.6006,      0.6016,      0.6026,      0.6036,      0.6046,     0.60561,     0.60661,     0.60761,     0.60861,     0.60961,     0.61061,     0.61161,     0.61261,     0.61361,     0.61461,     0.61562,     0.61662,     0.61762,     0.61862,     0.61962,     0.62062,     0.62162,     0.62262,     0.62362,\n",
              "           0.62462,     0.62563,     0.62663,     0.62763,     0.62863,     0.62963,     0.63063,     0.63163,     0.63263,     0.63363,     0.63463,     0.63564,     0.63664,     0.63764,     0.63864,     0.63964,     0.64064,     0.64164,     0.64264,     0.64364,     0.64464,     0.64565,     0.64665,     0.64765,\n",
              "           0.64865,     0.64965,     0.65065,     0.65165,     0.65265,     0.65365,     0.65465,     0.65566,     0.65666,     0.65766,     0.65866,     0.65966,     0.66066,     0.66166,     0.66266,     0.66366,     0.66466,     0.66567,     0.66667,     0.66767,     0.66867,     0.66967,     0.67067,     0.67167,\n",
              "           0.67267,     0.67367,     0.67467,     0.67568,     0.67668,     0.67768,     0.67868,     0.67968,     0.68068,     0.68168,     0.68268,     0.68368,     0.68468,     0.68569,     0.68669,     0.68769,     0.68869,     0.68969,     0.69069,     0.69169,     0.69269,     0.69369,     0.69469,      0.6957,\n",
              "            0.6967,      0.6977,      0.6987,      0.6997,      0.7007,      0.7017,      0.7027,      0.7037,      0.7047,     0.70571,     0.70671,     0.70771,     0.70871,     0.70971,     0.71071,     0.71171,     0.71271,     0.71371,     0.71471,     0.71572,     0.71672,     0.71772,     0.71872,     0.71972,\n",
              "           0.72072,     0.72172,     0.72272,     0.72372,     0.72472,     0.72573,     0.72673,     0.72773,     0.72873,     0.72973,     0.73073,     0.73173,     0.73273,     0.73373,     0.73473,     0.73574,     0.73674,     0.73774,     0.73874,     0.73974,     0.74074,     0.74174,     0.74274,     0.74374,\n",
              "           0.74474,     0.74575,     0.74675,     0.74775,     0.74875,     0.74975,     0.75075,     0.75175,     0.75275,     0.75375,     0.75475,     0.75576,     0.75676,     0.75776,     0.75876,     0.75976,     0.76076,     0.76176,     0.76276,     0.76376,     0.76476,     0.76577,     0.76677,     0.76777,\n",
              "           0.76877,     0.76977,     0.77077,     0.77177,     0.77277,     0.77377,     0.77477,     0.77578,     0.77678,     0.77778,     0.77878,     0.77978,     0.78078,     0.78178,     0.78278,     0.78378,     0.78478,     0.78579,     0.78679,     0.78779,     0.78879,     0.78979,     0.79079,     0.79179,\n",
              "           0.79279,     0.79379,     0.79479,      0.7958,      0.7968,      0.7978,      0.7988,      0.7998,      0.8008,      0.8018,      0.8028,      0.8038,      0.8048,     0.80581,     0.80681,     0.80781,     0.80881,     0.80981,     0.81081,     0.81181,     0.81281,     0.81381,     0.81481,     0.81582,\n",
              "           0.81682,     0.81782,     0.81882,     0.81982,     0.82082,     0.82182,     0.82282,     0.82382,     0.82482,     0.82583,     0.82683,     0.82783,     0.82883,     0.82983,     0.83083,     0.83183,     0.83283,     0.83383,     0.83483,     0.83584,     0.83684,     0.83784,     0.83884,     0.83984,\n",
              "           0.84084,     0.84184,     0.84284,     0.84384,     0.84484,     0.84585,     0.84685,     0.84785,     0.84885,     0.84985,     0.85085,     0.85185,     0.85285,     0.85385,     0.85485,     0.85586,     0.85686,     0.85786,     0.85886,     0.85986,     0.86086,     0.86186,     0.86286,     0.86386,\n",
              "           0.86486,     0.86587,     0.86687,     0.86787,     0.86887,     0.86987,     0.87087,     0.87187,     0.87287,     0.87387,     0.87487,     0.87588,     0.87688,     0.87788,     0.87888,     0.87988,     0.88088,     0.88188,     0.88288,     0.88388,     0.88488,     0.88589,     0.88689,     0.88789,\n",
              "           0.88889,     0.88989,     0.89089,     0.89189,     0.89289,     0.89389,     0.89489,      0.8959,      0.8969,      0.8979,      0.8989,      0.8999,      0.9009,      0.9019,      0.9029,      0.9039,      0.9049,     0.90591,     0.90691,     0.90791,     0.90891,     0.90991,     0.91091,     0.91191,\n",
              "           0.91291,     0.91391,     0.91491,     0.91592,     0.91692,     0.91792,     0.91892,     0.91992,     0.92092,     0.92192,     0.92292,     0.92392,     0.92492,     0.92593,     0.92693,     0.92793,     0.92893,     0.92993,     0.93093,     0.93193,     0.93293,     0.93393,     0.93493,     0.93594,\n",
              "           0.93694,     0.93794,     0.93894,     0.93994,     0.94094,     0.94194,     0.94294,     0.94394,     0.94494,     0.94595,     0.94695,     0.94795,     0.94895,     0.94995,     0.95095,     0.95195,     0.95295,     0.95395,     0.95495,     0.95596,     0.95696,     0.95796,     0.95896,     0.95996,\n",
              "           0.96096,     0.96196,     0.96296,     0.96396,     0.96496,     0.96597,     0.96697,     0.96797,     0.96897,     0.96997,     0.97097,     0.97197,     0.97297,     0.97397,     0.97497,     0.97598,     0.97698,     0.97798,     0.97898,     0.97998,     0.98098,     0.98198,     0.98298,     0.98398,\n",
              "           0.98498,     0.98599,     0.98699,     0.98799,     0.98899,     0.98999,     0.99099,     0.99199,     0.99299,     0.99399,     0.99499,       0.996,       0.997,       0.998,       0.999,           1]), array([[    0.25986,     0.25986,     0.37954,     0.42941,     0.47674,      0.4972,     0.51793,     0.52078,     0.52767,     0.52916,      0.5303,     0.53607,     0.54347,     0.54568,     0.54885,     0.55379,     0.56293,     0.56394,     0.56495,     0.56621,      0.5681,     0.56897,     0.56953,\n",
              "             0.5701,     0.57066,     0.57123,     0.57623,     0.57862,     0.58171,     0.58673,     0.58829,     0.59478,     0.59603,     0.59633,     0.59662,     0.59692,     0.59722,     0.59752,     0.59782,     0.59811,     0.59841,     0.59871,     0.59916,     0.60002,     0.60087,     0.60173,\n",
              "            0.60275,     0.60393,      0.6051,     0.60545,      0.6055,     0.60556,     0.60562,     0.60567,     0.60573,     0.60579,     0.60584,      0.6059,     0.60596,     0.60601,     0.60607,     0.60613,     0.60618,     0.60624,      0.6063,     0.60635,     0.60641,     0.60647,     0.60652,\n",
              "            0.60658,     0.60664,     0.60669,     0.60675,     0.60681,     0.60686,     0.60692,     0.60698,     0.60703,     0.60709,     0.60715,      0.6072,     0.60726,     0.60731,     0.60737,     0.60743,     0.60748,     0.60754,      0.6076,     0.60765,     0.60771,     0.60777,     0.60782,\n",
              "            0.60788,     0.60794,     0.60799,     0.60805,     0.60811,     0.60816,     0.60822,     0.60828,     0.60833,     0.60839,     0.60845,      0.6085,     0.60856,     0.60862,     0.60867,     0.61222,     0.61255,     0.61288,      0.6132,     0.61353,     0.61386,     0.61419,     0.61452,\n",
              "            0.61485,     0.61517,     0.61691,     0.61918,     0.61987,     0.62057,     0.62127,     0.62196,     0.62546,     0.62689,     0.62815,     0.63283,      0.6351,     0.64026,     0.64361,     0.64598,     0.64875,     0.65219,     0.65539,     0.65749,     0.66079,     0.66567,     0.67117,\n",
              "            0.67212,     0.67306,     0.67401,     0.67774,     0.67949,     0.68026,     0.68103,      0.6818,     0.68257,     0.68727,     0.69017,     0.69199,     0.69305,     0.69412,     0.69519,     0.69666,     0.69844,      0.7001,     0.70086,     0.70163,      0.7024,     0.70317,     0.70394,\n",
              "            0.70481,     0.70586,      0.7069,     0.70795,     0.70889,     0.70913,     0.70936,      0.7096,     0.70983,     0.71007,     0.71031,     0.71054,     0.71078,     0.71101,     0.71125,     0.71148,     0.71172,     0.71196,     0.71219,     0.71243,     0.71266,      0.7129,     0.71314,\n",
              "            0.71337,     0.71354,     0.71371,     0.71388,     0.71405,     0.71421,     0.71438,     0.71455,     0.71472,     0.71489,     0.71505,     0.71522,     0.71539,     0.71556,     0.71573,     0.71589,     0.71606,     0.71623,      0.7164,     0.71657,     0.71674,      0.7169,     0.71707,\n",
              "            0.71724,     0.71741,     0.71758,     0.71774,     0.71791,     0.72279,     0.72306,     0.72333,      0.7236,     0.72387,     0.72414,     0.72441,     0.72468,     0.72494,     0.72521,     0.72548,     0.72575,     0.72602,     0.72629,     0.72656,     0.72683,      0.7271,     0.72732,\n",
              "            0.72745,     0.72757,      0.7277,     0.72783,     0.72796,     0.72809,     0.72822,     0.72835,     0.72848,      0.7286,     0.72873,     0.72886,     0.72899,     0.72912,     0.72925,     0.72938,      0.7295,     0.72963,     0.72976,     0.72989,     0.73002,     0.73015,     0.73028,\n",
              "             0.7304,     0.73053,     0.73066,     0.73079,     0.73092,     0.73105,     0.73118,     0.73131,     0.73143,     0.73156,     0.73169,     0.73182,     0.73195,     0.73234,     0.73313,     0.73392,     0.73471,      0.7355,     0.73629,     0.73744,     0.73944,     0.74144,     0.74463,\n",
              "            0.74783,     0.75077,     0.75407,     0.75689,     0.75748,     0.75806,     0.75865,     0.75923,     0.75982,     0.76041,     0.76099,     0.76158,     0.76227,     0.76309,     0.76392,     0.76474,     0.76556,     0.76639,     0.76718,     0.76772,     0.76826,     0.76881,     0.76935,\n",
              "            0.76989,     0.77043,     0.77098,     0.77152,     0.77206,     0.77296,     0.77453,      0.7761,     0.77767,     0.77821,     0.77868,     0.77914,     0.77961,     0.78007,     0.78053,       0.781,     0.78146,     0.78193,     0.78239,     0.78286,      0.7835,     0.78476,     0.78602,\n",
              "            0.78727,     0.78853,     0.79148,      0.7945,     0.79587,     0.79724,     0.79861,     0.79998,     0.80577,     0.80748,     0.80919,      0.8109,     0.81365,     0.81712,     0.81708,     0.81657,      0.8158,     0.81415,     0.81272,     0.81501,     0.82244,     0.82801,     0.83406,\n",
              "            0.84121,     0.84959,     0.85653,     0.85867,     0.85746,     0.85694,     0.85666,     0.85639,     0.85611,     0.85689,     0.85961,     0.86234,     0.87025,     0.86959,     0.87229,     0.87514,     0.87717,      0.8771,     0.87702,     0.87695,     0.87688,      0.8768,     0.87673,\n",
              "            0.87665,     0.87658,      0.8765,     0.87643,     0.87636,     0.87628,     0.87621,     0.87613,     0.87597,     0.87577,     0.87556,     0.87536,     0.87515,     0.87575,     0.87844,     0.88113,     0.88266,     0.88204,      0.8836,     0.88636,     0.88913,     0.89596,     0.90565,\n",
              "            0.90473,     0.92152,     0.91993,     0.91957,     0.92306,     0.92656,     0.92825,     0.92749,     0.92671,     0.92578,     0.92441,     0.92399,     0.92321,     0.92283,     0.92254,     0.92225,     0.92212,       0.922,     0.92189,     0.92177,     0.92165,     0.92154,     0.92142,\n",
              "            0.92092,     0.92016,      0.9197,     0.91943,     0.91927,     0.91911,     0.91895,     0.91879,     0.91863,     0.91849,     0.91834,      0.9182,     0.91805,      0.9179,     0.91776,     0.91764,     0.91763,     0.91762,      0.9176,     0.91759,     0.91758,     0.91756,     0.91755,\n",
              "            0.91754,     0.91752,     0.91751,      0.9175,     0.91748,     0.91747,     0.91746,     0.91744,     0.91743,     0.91742,      0.9174,     0.91739,     0.91738,     0.91736,     0.91735,     0.91734,     0.91732,     0.91731,      0.9173,     0.91728,     0.91727,     0.91726,     0.91724,\n",
              "            0.91723,     0.91722,      0.9172,     0.91719,     0.91718,     0.91716,     0.91715,     0.91714,     0.91712,     0.91711,      0.9171,     0.91708,     0.91707,     0.91706,     0.91705,     0.91703,     0.91702,     0.91701,     0.91699,     0.91698,     0.91697,     0.91695,     0.91694,\n",
              "            0.91693,     0.91691,      0.9169,     0.91689,     0.91687,     0.91686,     0.91685,     0.91683,     0.91682,     0.91681,     0.91679,     0.91678,     0.91677,     0.91675,     0.91674,     0.91673,     0.91671,      0.9167,     0.91669,     0.91667,     0.91637,     0.91586,     0.91555,\n",
              "            0.91538,      0.9152,     0.91503,     0.91485,     0.91467,     0.92353,     0.92906,     0.93302,     0.93697,      0.9368,     0.93634,     0.93592,     0.93563,     0.93535,      0.9351,     0.93826,     0.94141,     0.94456,     0.94808,     0.95456,     0.96212,     0.97514,     0.98907,\n",
              "                  1,           1,           1,           1,           1,           1,           1,           1,           1,           1,           1,           1,           1,           1,           1,           1,           1,           1,           1,           1,           1,           1,           1,\n",
              "                  1,           1,           1,           1,           1,           1,           1,           1,           1,           1,           1,           1,           1,           1,           1,           1,           1,           1,           1,           1,           1,           1,           1,\n",
              "                  1,           1,           1,           1,           1,           1,           1,           1,           1,           1,           1,           1,           1,           1,           1,           1,           1,           1,           1,           1,           1,           1,           1,\n",
              "                  1,           1,           1,           1,           1,           1,           1,           1,           1,           1,           1,           1,           1,           1,           1,           1,           1,           1,           1,           1,           1,           1,           1,\n",
              "                  1,           1,           1,           1,           1,           1,           1,           1,           1,           1,           1,           1,           1,           1,           1,           1,           1,           1,           1,           1,           1,           1,           1,\n",
              "                  1,           1,           1,           1,           1,           1,           1,           1,           1,           1,           1,           1,           1,           1,           1,           1,           1,           1,           1,           1,           1,           1,           1,\n",
              "                  1,           1,           1,           1,           1,           1,           1,           1,           1,           1,           1,           1,           1,           1,           1,           1,           1,           1,           1,           1,           1,           1,           1,\n",
              "                  1,           1,           1,           1,           1,           1,           1,           1,           1,           1,           1,           1,           1,           1,           1,           1,           1,           1,           1,           1,           1,           1,           1,\n",
              "                  1,           1,           1,           1,           1,           1,           1,           1,           1,           1,           1,           1,           1,           1,           1,           1,           1,           1,           1,           1,           1,           1,           1,\n",
              "                  1,           1,           1,           1,           1,           1,           1,           1,           1,           1,           1,           1,           1,           1,           1,           1,           1,           1,           1,           1,           1,           1,           1,\n",
              "                  1,           1,           1,           1,           1,           1,           1,           1,           1,           1,           1,           1,           1,           1,           1,           1,           1,           1,           1,           1,           1,           1,           1,\n",
              "                  1,           1,           1,           1,           1,           1,           1,           1,           1,           1,           1,           1,           1,           1,           1,           1,           1,           1,           1,           1,           1,           1,           1,\n",
              "                  1,           1,           1,           1,           1,           1,           1,           1,           1,           1,           1,           1,           1,           1,           1,           1,           1,           1,           1,           1,           1,           1,           1,\n",
              "                  1,           1,           1,           1,           1,           1,           1,           1,           1,           1,           1,           1,           1,           1,           1,           1,           1,           1,           1,           1,           1,           1,           1,\n",
              "                  1,           1,           1,           1,           1,           1,           1,           1,           1,           1,           1,           1,           1,           1,           1,           1,           1,           1,           1,           1,           1,           1,           1,\n",
              "                  1,           1,           1,           1,           1,           1,           1,           1,           1,           1,           1,           1,           1,           1,           1,           1,           1,           1,           1,           1,           1,           1,           1,\n",
              "                  1,           1,           1,           1,           1,           1,           1,           1,           1,           1,           1,           1,           1,           1,           1,           1,           1,           1,           1,           1,           1,           1,           1,\n",
              "                  1,           1,           1,           1,           1,           1,           1,           1,           1,           1,           1,           1,           1,           1,           1,           1,           1,           1,           1,           1,           1,           1,           1,\n",
              "                  1,           1,           1,           1,           1,           1,           1,           1,           1,           1,           1,           1,           1,           1,           1,           1,           1,           1,           1,           1,           1,           1,           1,\n",
              "                  1,           1,           1,           1,           1,           1,           1,           1,           1,           1,           1,           1,           1,           1,           1,           1,           1,           1,           1,           1,           1,           1,           1,\n",
              "                  1,           1,           1,           1,           1,           1,           1,           1,           1,           1,           1]]), 'Confidence', 'Precision'], [array([          0,    0.001001,    0.002002,    0.003003,    0.004004,    0.005005,    0.006006,    0.007007,    0.008008,    0.009009,     0.01001,    0.011011,    0.012012,    0.013013,    0.014014,    0.015015,    0.016016,    0.017017,    0.018018,    0.019019,     0.02002,    0.021021,    0.022022,    0.023023,\n",
              "          0.024024,    0.025025,    0.026026,    0.027027,    0.028028,    0.029029,     0.03003,    0.031031,    0.032032,    0.033033,    0.034034,    0.035035,    0.036036,    0.037037,    0.038038,    0.039039,     0.04004,    0.041041,    0.042042,    0.043043,    0.044044,    0.045045,    0.046046,    0.047047,\n",
              "          0.048048,    0.049049,     0.05005,    0.051051,    0.052052,    0.053053,    0.054054,    0.055055,    0.056056,    0.057057,    0.058058,    0.059059,     0.06006,    0.061061,    0.062062,    0.063063,    0.064064,    0.065065,    0.066066,    0.067067,    0.068068,    0.069069,     0.07007,    0.071071,\n",
              "          0.072072,    0.073073,    0.074074,    0.075075,    0.076076,    0.077077,    0.078078,    0.079079,     0.08008,    0.081081,    0.082082,    0.083083,    0.084084,    0.085085,    0.086086,    0.087087,    0.088088,    0.089089,     0.09009,    0.091091,    0.092092,    0.093093,    0.094094,    0.095095,\n",
              "          0.096096,    0.097097,    0.098098,    0.099099,      0.1001,      0.1011,      0.1021,      0.1031,      0.1041,     0.10511,     0.10611,     0.10711,     0.10811,     0.10911,     0.11011,     0.11111,     0.11211,     0.11311,     0.11411,     0.11512,     0.11612,     0.11712,     0.11812,     0.11912,\n",
              "           0.12012,     0.12112,     0.12212,     0.12312,     0.12412,     0.12513,     0.12613,     0.12713,     0.12813,     0.12913,     0.13013,     0.13113,     0.13213,     0.13313,     0.13413,     0.13514,     0.13614,     0.13714,     0.13814,     0.13914,     0.14014,     0.14114,     0.14214,     0.14314,\n",
              "           0.14414,     0.14515,     0.14615,     0.14715,     0.14815,     0.14915,     0.15015,     0.15115,     0.15215,     0.15315,     0.15415,     0.15516,     0.15616,     0.15716,     0.15816,     0.15916,     0.16016,     0.16116,     0.16216,     0.16316,     0.16416,     0.16517,     0.16617,     0.16717,\n",
              "           0.16817,     0.16917,     0.17017,     0.17117,     0.17217,     0.17317,     0.17417,     0.17518,     0.17618,     0.17718,     0.17818,     0.17918,     0.18018,     0.18118,     0.18218,     0.18318,     0.18418,     0.18519,     0.18619,     0.18719,     0.18819,     0.18919,     0.19019,     0.19119,\n",
              "           0.19219,     0.19319,     0.19419,      0.1952,      0.1962,      0.1972,      0.1982,      0.1992,      0.2002,      0.2012,      0.2022,      0.2032,      0.2042,     0.20521,     0.20621,     0.20721,     0.20821,     0.20921,     0.21021,     0.21121,     0.21221,     0.21321,     0.21421,     0.21522,\n",
              "           0.21622,     0.21722,     0.21822,     0.21922,     0.22022,     0.22122,     0.22222,     0.22322,     0.22422,     0.22523,     0.22623,     0.22723,     0.22823,     0.22923,     0.23023,     0.23123,     0.23223,     0.23323,     0.23423,     0.23524,     0.23624,     0.23724,     0.23824,     0.23924,\n",
              "           0.24024,     0.24124,     0.24224,     0.24324,     0.24424,     0.24525,     0.24625,     0.24725,     0.24825,     0.24925,     0.25025,     0.25125,     0.25225,     0.25325,     0.25425,     0.25526,     0.25626,     0.25726,     0.25826,     0.25926,     0.26026,     0.26126,     0.26226,     0.26326,\n",
              "           0.26426,     0.26527,     0.26627,     0.26727,     0.26827,     0.26927,     0.27027,     0.27127,     0.27227,     0.27327,     0.27427,     0.27528,     0.27628,     0.27728,     0.27828,     0.27928,     0.28028,     0.28128,     0.28228,     0.28328,     0.28428,     0.28529,     0.28629,     0.28729,\n",
              "           0.28829,     0.28929,     0.29029,     0.29129,     0.29229,     0.29329,     0.29429,      0.2953,      0.2963,      0.2973,      0.2983,      0.2993,      0.3003,      0.3013,      0.3023,      0.3033,      0.3043,     0.30531,     0.30631,     0.30731,     0.30831,     0.30931,     0.31031,     0.31131,\n",
              "           0.31231,     0.31331,     0.31431,     0.31532,     0.31632,     0.31732,     0.31832,     0.31932,     0.32032,     0.32132,     0.32232,     0.32332,     0.32432,     0.32533,     0.32633,     0.32733,     0.32833,     0.32933,     0.33033,     0.33133,     0.33233,     0.33333,     0.33433,     0.33534,\n",
              "           0.33634,     0.33734,     0.33834,     0.33934,     0.34034,     0.34134,     0.34234,     0.34334,     0.34434,     0.34535,     0.34635,     0.34735,     0.34835,     0.34935,     0.35035,     0.35135,     0.35235,     0.35335,     0.35435,     0.35536,     0.35636,     0.35736,     0.35836,     0.35936,\n",
              "           0.36036,     0.36136,     0.36236,     0.36336,     0.36436,     0.36537,     0.36637,     0.36737,     0.36837,     0.36937,     0.37037,     0.37137,     0.37237,     0.37337,     0.37437,     0.37538,     0.37638,     0.37738,     0.37838,     0.37938,     0.38038,     0.38138,     0.38238,     0.38338,\n",
              "           0.38438,     0.38539,     0.38639,     0.38739,     0.38839,     0.38939,     0.39039,     0.39139,     0.39239,     0.39339,     0.39439,      0.3954,      0.3964,      0.3974,      0.3984,      0.3994,      0.4004,      0.4014,      0.4024,      0.4034,      0.4044,     0.40541,     0.40641,     0.40741,\n",
              "           0.40841,     0.40941,     0.41041,     0.41141,     0.41241,     0.41341,     0.41441,     0.41542,     0.41642,     0.41742,     0.41842,     0.41942,     0.42042,     0.42142,     0.42242,     0.42342,     0.42442,     0.42543,     0.42643,     0.42743,     0.42843,     0.42943,     0.43043,     0.43143,\n",
              "           0.43243,     0.43343,     0.43443,     0.43544,     0.43644,     0.43744,     0.43844,     0.43944,     0.44044,     0.44144,     0.44244,     0.44344,     0.44444,     0.44545,     0.44645,     0.44745,     0.44845,     0.44945,     0.45045,     0.45145,     0.45245,     0.45345,     0.45445,     0.45546,\n",
              "           0.45646,     0.45746,     0.45846,     0.45946,     0.46046,     0.46146,     0.46246,     0.46346,     0.46446,     0.46547,     0.46647,     0.46747,     0.46847,     0.46947,     0.47047,     0.47147,     0.47247,     0.47347,     0.47447,     0.47548,     0.47648,     0.47748,     0.47848,     0.47948,\n",
              "           0.48048,     0.48148,     0.48248,     0.48348,     0.48448,     0.48549,     0.48649,     0.48749,     0.48849,     0.48949,     0.49049,     0.49149,     0.49249,     0.49349,     0.49449,      0.4955,      0.4965,      0.4975,      0.4985,      0.4995,      0.5005,      0.5015,      0.5025,      0.5035,\n",
              "            0.5045,     0.50551,     0.50651,     0.50751,     0.50851,     0.50951,     0.51051,     0.51151,     0.51251,     0.51351,     0.51451,     0.51552,     0.51652,     0.51752,     0.51852,     0.51952,     0.52052,     0.52152,     0.52252,     0.52352,     0.52452,     0.52553,     0.52653,     0.52753,\n",
              "           0.52853,     0.52953,     0.53053,     0.53153,     0.53253,     0.53353,     0.53453,     0.53554,     0.53654,     0.53754,     0.53854,     0.53954,     0.54054,     0.54154,     0.54254,     0.54354,     0.54454,     0.54555,     0.54655,     0.54755,     0.54855,     0.54955,     0.55055,     0.55155,\n",
              "           0.55255,     0.55355,     0.55455,     0.55556,     0.55656,     0.55756,     0.55856,     0.55956,     0.56056,     0.56156,     0.56256,     0.56356,     0.56456,     0.56557,     0.56657,     0.56757,     0.56857,     0.56957,     0.57057,     0.57157,     0.57257,     0.57357,     0.57457,     0.57558,\n",
              "           0.57658,     0.57758,     0.57858,     0.57958,     0.58058,     0.58158,     0.58258,     0.58358,     0.58458,     0.58559,     0.58659,     0.58759,     0.58859,     0.58959,     0.59059,     0.59159,     0.59259,     0.59359,     0.59459,      0.5956,      0.5966,      0.5976,      0.5986,      0.5996,\n",
              "            0.6006,      0.6016,      0.6026,      0.6036,      0.6046,     0.60561,     0.60661,     0.60761,     0.60861,     0.60961,     0.61061,     0.61161,     0.61261,     0.61361,     0.61461,     0.61562,     0.61662,     0.61762,     0.61862,     0.61962,     0.62062,     0.62162,     0.62262,     0.62362,\n",
              "           0.62462,     0.62563,     0.62663,     0.62763,     0.62863,     0.62963,     0.63063,     0.63163,     0.63263,     0.63363,     0.63463,     0.63564,     0.63664,     0.63764,     0.63864,     0.63964,     0.64064,     0.64164,     0.64264,     0.64364,     0.64464,     0.64565,     0.64665,     0.64765,\n",
              "           0.64865,     0.64965,     0.65065,     0.65165,     0.65265,     0.65365,     0.65465,     0.65566,     0.65666,     0.65766,     0.65866,     0.65966,     0.66066,     0.66166,     0.66266,     0.66366,     0.66466,     0.66567,     0.66667,     0.66767,     0.66867,     0.66967,     0.67067,     0.67167,\n",
              "           0.67267,     0.67367,     0.67467,     0.67568,     0.67668,     0.67768,     0.67868,     0.67968,     0.68068,     0.68168,     0.68268,     0.68368,     0.68468,     0.68569,     0.68669,     0.68769,     0.68869,     0.68969,     0.69069,     0.69169,     0.69269,     0.69369,     0.69469,      0.6957,\n",
              "            0.6967,      0.6977,      0.6987,      0.6997,      0.7007,      0.7017,      0.7027,      0.7037,      0.7047,     0.70571,     0.70671,     0.70771,     0.70871,     0.70971,     0.71071,     0.71171,     0.71271,     0.71371,     0.71471,     0.71572,     0.71672,     0.71772,     0.71872,     0.71972,\n",
              "           0.72072,     0.72172,     0.72272,     0.72372,     0.72472,     0.72573,     0.72673,     0.72773,     0.72873,     0.72973,     0.73073,     0.73173,     0.73273,     0.73373,     0.73473,     0.73574,     0.73674,     0.73774,     0.73874,     0.73974,     0.74074,     0.74174,     0.74274,     0.74374,\n",
              "           0.74474,     0.74575,     0.74675,     0.74775,     0.74875,     0.74975,     0.75075,     0.75175,     0.75275,     0.75375,     0.75475,     0.75576,     0.75676,     0.75776,     0.75876,     0.75976,     0.76076,     0.76176,     0.76276,     0.76376,     0.76476,     0.76577,     0.76677,     0.76777,\n",
              "           0.76877,     0.76977,     0.77077,     0.77177,     0.77277,     0.77377,     0.77477,     0.77578,     0.77678,     0.77778,     0.77878,     0.77978,     0.78078,     0.78178,     0.78278,     0.78378,     0.78478,     0.78579,     0.78679,     0.78779,     0.78879,     0.78979,     0.79079,     0.79179,\n",
              "           0.79279,     0.79379,     0.79479,      0.7958,      0.7968,      0.7978,      0.7988,      0.7998,      0.8008,      0.8018,      0.8028,      0.8038,      0.8048,     0.80581,     0.80681,     0.80781,     0.80881,     0.80981,     0.81081,     0.81181,     0.81281,     0.81381,     0.81481,     0.81582,\n",
              "           0.81682,     0.81782,     0.81882,     0.81982,     0.82082,     0.82182,     0.82282,     0.82382,     0.82482,     0.82583,     0.82683,     0.82783,     0.82883,     0.82983,     0.83083,     0.83183,     0.83283,     0.83383,     0.83483,     0.83584,     0.83684,     0.83784,     0.83884,     0.83984,\n",
              "           0.84084,     0.84184,     0.84284,     0.84384,     0.84484,     0.84585,     0.84685,     0.84785,     0.84885,     0.84985,     0.85085,     0.85185,     0.85285,     0.85385,     0.85485,     0.85586,     0.85686,     0.85786,     0.85886,     0.85986,     0.86086,     0.86186,     0.86286,     0.86386,\n",
              "           0.86486,     0.86587,     0.86687,     0.86787,     0.86887,     0.86987,     0.87087,     0.87187,     0.87287,     0.87387,     0.87487,     0.87588,     0.87688,     0.87788,     0.87888,     0.87988,     0.88088,     0.88188,     0.88288,     0.88388,     0.88488,     0.88589,     0.88689,     0.88789,\n",
              "           0.88889,     0.88989,     0.89089,     0.89189,     0.89289,     0.89389,     0.89489,      0.8959,      0.8969,      0.8979,      0.8989,      0.8999,      0.9009,      0.9019,      0.9029,      0.9039,      0.9049,     0.90591,     0.90691,     0.90791,     0.90891,     0.90991,     0.91091,     0.91191,\n",
              "           0.91291,     0.91391,     0.91491,     0.91592,     0.91692,     0.91792,     0.91892,     0.91992,     0.92092,     0.92192,     0.92292,     0.92392,     0.92492,     0.92593,     0.92693,     0.92793,     0.92893,     0.92993,     0.93093,     0.93193,     0.93293,     0.93393,     0.93493,     0.93594,\n",
              "           0.93694,     0.93794,     0.93894,     0.93994,     0.94094,     0.94194,     0.94294,     0.94394,     0.94494,     0.94595,     0.94695,     0.94795,     0.94895,     0.94995,     0.95095,     0.95195,     0.95295,     0.95395,     0.95495,     0.95596,     0.95696,     0.95796,     0.95896,     0.95996,\n",
              "           0.96096,     0.96196,     0.96296,     0.96396,     0.96496,     0.96597,     0.96697,     0.96797,     0.96897,     0.96997,     0.97097,     0.97197,     0.97297,     0.97397,     0.97497,     0.97598,     0.97698,     0.97798,     0.97898,     0.97998,     0.98098,     0.98198,     0.98298,     0.98398,\n",
              "           0.98498,     0.98599,     0.98699,     0.98799,     0.98899,     0.98999,     0.99099,     0.99199,     0.99299,     0.99399,     0.99499,       0.996,       0.997,       0.998,       0.999,           1]), array([[          1,           1,           1,           1,           1,           1,           1,           1,           1,           1,           1,           1,           1,           1,           1,           1,           1,           1,           1,           1,           1,           1,           1,\n",
              "                  1,           1,           1,           1,           1,           1,           1,           1,           1,           1,           1,           1,           1,           1,           1,           1,           1,           1,           1,           1,           1,           1,           1,\n",
              "                  1,           1,           1,           1,           1,           1,           1,           1,           1,           1,           1,           1,           1,           1,           1,           1,           1,           1,           1,           1,           1,           1,           1,\n",
              "                  1,           1,           1,           1,           1,           1,           1,           1,           1,           1,           1,           1,           1,           1,           1,           1,           1,           1,           1,           1,           1,           1,           1,\n",
              "                  1,           1,           1,           1,           1,           1,           1,           1,           1,           1,           1,           1,           1,           1,           1,           1,           1,           1,           1,           1,           1,           1,           1,\n",
              "                  1,           1,           1,           1,           1,           1,           1,           1,           1,           1,           1,           1,           1,           1,           1,           1,           1,           1,           1,           1,           1,           1,           1,\n",
              "                  1,           1,           1,           1,           1,           1,           1,           1,           1,           1,           1,           1,           1,           1,           1,           1,           1,           1,           1,           1,           1,           1,           1,\n",
              "                  1,           1,           1,           1,           1,           1,           1,           1,           1,           1,           1,           1,           1,           1,           1,           1,           1,           1,           1,           1,           1,           1,           1,\n",
              "                  1,           1,           1,           1,           1,           1,           1,           1,           1,           1,           1,           1,           1,           1,           1,           1,           1,           1,           1,           1,           1,           1,           1,\n",
              "                  1,           1,           1,           1,           1,           1,           1,           1,           1,           1,           1,           1,           1,           1,           1,           1,           1,           1,           1,           1,           1,           1,           1,\n",
              "                  1,           1,           1,           1,           1,           1,           1,           1,           1,           1,           1,           1,           1,           1,           1,           1,           1,           1,           1,           1,           1,           1,           1,\n",
              "                  1,           1,           1,           1,           1,           1,           1,           1,           1,           1,           1,           1,           1,           1,           1,           1,           1,           1,           1,           1,           1,           1,           1,\n",
              "                  1,           1,           1,           1,           1,           1,           1,           1,           1,           1,           1,           1,           1,           1,           1,           1,           1,           1,           1,           1,           1,           1,           1,\n",
              "                  1,           1,           1,           1,           1,           1,           1,           1,           1,           1,           1,           1,           1,           1,           1,           1,           1,           1,           1,           1,           1,           1,           1,\n",
              "                  1,           1,           1,           1,           1,           1,           1,           1,           1,           1,           1,           1,           1,           1,     0.99705,     0.99372,     0.98859,     0.97783,     0.96867,     0.95536,     0.95123,     0.94568,      0.9375,\n",
              "             0.9375,      0.9375,     0.92857,     0.92224,     0.91309,     0.90921,     0.90718,     0.90514,     0.90311,     0.90179,     0.90179,     0.90179,      0.8983,     0.89307,     0.89286,     0.89286,     0.89269,     0.89208,     0.89147,     0.89086,     0.89025,     0.88964,     0.88903,\n",
              "            0.88842,     0.88781,      0.8872,     0.88659,     0.88598,     0.88537,     0.88476,     0.88415,     0.88286,     0.88119,     0.87953,     0.87787,      0.8762,       0.875,       0.875,       0.875,     0.87317,     0.86794,     0.86607,     0.86607,     0.86607,     0.86607,     0.85706,\n",
              "             0.8479,     0.83875,     0.82067,      0.8125,      0.8125,      0.8125,     0.80862,     0.79946,     0.79031,     0.77964,     0.76435,     0.75978,     0.75147,     0.74744,     0.74439,     0.74134,     0.73999,     0.73881,     0.73763,     0.73645,     0.73527,     0.73409,     0.73291,\n",
              "            0.72785,     0.72038,      0.7158,     0.71327,     0.71174,     0.71022,     0.70869,     0.70716,     0.70564,     0.70425,      0.7029,     0.70154,     0.70018,     0.69883,     0.69747,      0.6964,     0.69628,     0.69616,     0.69604,     0.69592,     0.69579,     0.69567,     0.69555,\n",
              "            0.69543,     0.69531,     0.69519,     0.69507,     0.69495,     0.69482,      0.6947,     0.69458,     0.69446,     0.69434,     0.69422,      0.6941,     0.69398,     0.69386,     0.69373,     0.69361,     0.69349,     0.69337,     0.69325,     0.69313,     0.69301,     0.69289,     0.69276,\n",
              "            0.69264,     0.69252,      0.6924,     0.69228,     0.69216,     0.69204,     0.69192,     0.69179,     0.69167,     0.69155,     0.69143,     0.69131,     0.69119,     0.69107,     0.69095,     0.69082,      0.6907,     0.69058,     0.69046,     0.69034,     0.69022,      0.6901,     0.68998,\n",
              "            0.68985,     0.68973,     0.68961,     0.68949,     0.68937,     0.68925,     0.68913,     0.68901,     0.68889,     0.68876,     0.68864,     0.68852,      0.6884,     0.68828,     0.68816,     0.68804,     0.68792,     0.68779,     0.68767,     0.68755,     0.68488,      0.6803,     0.67762,\n",
              "             0.6761,     0.67457,     0.67305,     0.67152,        0.67,     0.66964,     0.66964,     0.66964,     0.66964,     0.66172,     0.65664,     0.65206,     0.64892,     0.64587,     0.64286,     0.64286,     0.64286,     0.64286,     0.64286,     0.64286,     0.64286,     0.63393,     0.63393,\n",
              "             0.6339,      0.6338,     0.63369,     0.63359,     0.63348,     0.63338,     0.63327,     0.63317,     0.63306,     0.63296,     0.63285,     0.63275,     0.63264,     0.63254,     0.63243,     0.63233,     0.63222,     0.63212,     0.63201,     0.63191,      0.6318,      0.6317,     0.63159,\n",
              "            0.63148,     0.63138,     0.63127,     0.63117,     0.63106,     0.63096,     0.63085,     0.63075,     0.63064,     0.63054,     0.63043,     0.63033,     0.63022,     0.63012,     0.63001,     0.62991,      0.6298,      0.6297,     0.62959,     0.62949,     0.62938,     0.62928,     0.62917,\n",
              "            0.62907,     0.62896,     0.62885,     0.62875,     0.62864,     0.62854,     0.62843,     0.62833,     0.62822,     0.62812,     0.62801,     0.62791,      0.6278,      0.6277,     0.62759,     0.62749,     0.62738,     0.62728,     0.62717,     0.62707,     0.62696,     0.62686,     0.62675,\n",
              "            0.62665,     0.62654,     0.62644,     0.62633,     0.62622,     0.62612,     0.62601,     0.62591,      0.6258,      0.6257,     0.62559,     0.62549,     0.62538,     0.62528,     0.62517,     0.62507,     0.62407,     0.62145,     0.61884,     0.61622,     0.60745,     0.60272,     0.58922,\n",
              "            0.58464,     0.57977,     0.57062,     0.56044,     0.55166,     0.54861,     0.54556,     0.53825,     0.53351,     0.53046,     0.52741,     0.51494,     0.51128,     0.50889,     0.50877,     0.50866,     0.50854,     0.50842,     0.50831,     0.50819,     0.50808,     0.50796,     0.50784,\n",
              "            0.50773,     0.50761,      0.5075,     0.50738,     0.50727,     0.50715,     0.50703,     0.50692,      0.5068,     0.50669,     0.50657,     0.50645,     0.50634,     0.50622,     0.50611,     0.50599,     0.50588,     0.50576,     0.50564,     0.50553,     0.50541,      0.5053,     0.50518,\n",
              "            0.50506,     0.50495,     0.50483,     0.50472,      0.5046,     0.50448,     0.50437,     0.50425,     0.50414,     0.50402,     0.50391,     0.50379,     0.50367,     0.50356,     0.50344,     0.50333,     0.50321,     0.50309,     0.50298,     0.50286,     0.50275,     0.50263,     0.50252,\n",
              "             0.5024,     0.50228,     0.50217,     0.50205,     0.50194,     0.50182,      0.5017,     0.50159,     0.50147,     0.50136,     0.50124,     0.50113,     0.50101,     0.50089,     0.50078,     0.50066,     0.50055,     0.50043,     0.50031,      0.5002,     0.50008,     0.49826,     0.49216,\n",
              "            0.48731,     0.48273,     0.46306,     0.46165,     0.46024,     0.45884,     0.45743,     0.45602,     0.45374,     0.45069,     0.44764,      0.4178,     0.41475,      0.4117,     0.40659,     0.40081,     0.39624,     0.39263,     0.39176,     0.39089,     0.39001,     0.38914,     0.38827,\n",
              "             0.3874,     0.38653,     0.38566,     0.38478,     0.38392,     0.38369,     0.38346,     0.38323,       0.383,     0.38277,     0.38253,      0.3823,     0.38207,     0.38184,     0.38161,     0.38138,     0.38114,     0.38091,     0.38068,     0.38045,     0.38022,     0.37999,     0.37975,\n",
              "            0.37952,     0.37929,     0.37906,     0.37883,      0.3786,     0.37836,     0.37813,      0.3779,     0.37767,     0.37744,     0.37721,     0.37697,     0.37674,     0.37651,     0.37628,     0.37605,     0.37582,     0.37558,     0.37535,     0.37512,     0.37437,     0.37306,     0.37175,\n",
              "            0.37045,     0.36914,     0.36783,     0.36652,     0.36009,     0.35301,     0.34797,     0.34683,     0.34568,     0.34454,     0.34339,     0.34225,     0.34111,     0.33996,     0.33779,     0.33413,     0.33046,      0.3268,     0.32314,     0.30926,     0.30295,      0.2943,     0.29064,\n",
              "            0.28698,     0.27439,     0.27073,     0.26655,     0.26044,     0.25836,     0.25759,     0.25683,     0.25607,      0.2553,     0.25454,     0.25378,     0.25302,     0.25225,     0.25149,     0.25073,     0.24991,     0.24788,     0.24584,     0.24381,     0.24177,     0.23508,       0.228,\n",
              "            0.21231,     0.17638,      0.1583,     0.15003,     0.14392,     0.13908,     0.13451,     0.13299,     0.13191,     0.13083,     0.12976,     0.12868,      0.1276,     0.12653,     0.12545,     0.11968,     0.11385,     0.11019,    0.096686,    0.087534,    0.078382,     0.06923,    0.060078,\n",
              "            0.05291,    0.050622,    0.048334,    0.046046,    0.041104,    0.033833,    0.029257,    0.016173,    0.012513,           0,           0,           0,           0,           0,           0,           0,           0,           0,           0,           0,           0,           0,           0,\n",
              "                  0,           0,           0,           0,           0,           0,           0,           0,           0,           0,           0,           0,           0,           0,           0,           0,           0,           0,           0,           0,           0,           0,           0,\n",
              "                  0,           0,           0,           0,           0,           0,           0,           0,           0,           0,           0,           0,           0,           0,           0,           0,           0,           0,           0,           0,           0,           0,           0,\n",
              "                  0,           0,           0,           0,           0,           0,           0,           0,           0,           0,           0,           0,           0,           0,           0,           0,           0,           0,           0,           0,           0,           0,           0,\n",
              "                  0,           0,           0,           0,           0,           0,           0,           0,           0,           0,           0,           0,           0,           0,           0,           0,           0,           0,           0,           0,           0,           0,           0,\n",
              "                  0,           0,           0,           0,           0,           0,           0,           0,           0,           0,           0,           0,           0,           0,           0,           0,           0,           0,           0,           0,           0,           0,           0,\n",
              "                  0,           0,           0,           0,           0,           0,           0,           0,           0,           0,           0]]), 'Confidence', 'Recall']]\n",
              "fitness: np.float64(0.7252182795028875)\n",
              "keys: ['metrics/precision(B)', 'metrics/recall(B)', 'metrics/mAP50(B)', 'metrics/mAP50-95(B)']\n",
              "maps: array([    0.69932])\n",
              "names: {0: 'teeth'}\n",
              "plot: True\n",
              "results_dict: {'metrics/precision(B)': np.float64(0.8280118824533195), 'metrics/recall(B)': np.float64(0.9456822894322896), 'metrics/mAP50(B)': np.float64(0.9583105077910492), 'metrics/mAP50-95(B)': np.float64(0.6993191430264251), 'fitness': np.float64(0.7252182795028875)}\n",
              "save_dir: PosixPath('runs/detect/train')\n",
              "speed: {'preprocess': 0.22036185713756953, 'inference': 5.936301214286947, 'loss': 0.001200428568738841, 'postprocess': 1.202858785713293}\n",
              "task: 'detect'"
            ]
          },
          "metadata": {},
          "execution_count": 3
        }
      ]
    },
    {
      "cell_type": "code",
      "source": [
        "from ultralytics import YOLO\n",
        "\n",
        "model = YOLO(\"/content/runs/detect/train/weights/best.pt\")\n",
        "\n",
        "# Save it to a new path\n",
        "model.save(\"/content/my_saved_model_teeth_height.pt\")"
      ],
      "metadata": {
        "id": "sHQyCb1t97pt"
      },
      "execution_count": null,
      "outputs": []
    },
    {
      "cell_type": "code",
      "source": [
        "# Run detection on a video\n",
        "results = model.predict(source=\"/content/WhatsApp Video 2025-05-22 at 12.15.03 PM.mp4\", save=True, show=False)\n"
      ],
      "metadata": {
        "colab": {
          "base_uri": "https://localhost:8080/"
        },
        "id": "pty2p213SwWu",
        "outputId": "e1127fa9-08ff-4eb7-f918-d9ec3942f5c2"
      },
      "execution_count": null,
      "outputs": [
        {
          "output_type": "stream",
          "name": "stdout",
          "text": [
            "\n",
            "WARNING ⚠️ \n",
            "inference results will accumulate in RAM unless `stream=True` is passed, causing potential out-of-memory\n",
            "errors for large sources or long-running streams and videos. See https://docs.ultralytics.com/modes/predict/ for help.\n",
            "\n",
            "Example:\n",
            "    results = model(source=..., stream=True)  # generator of Results objects\n",
            "    for r in results:\n",
            "        boxes = r.boxes  # Boxes object for bbox outputs\n",
            "        masks = r.masks  # Masks object for segment masks outputs\n",
            "        probs = r.probs  # Class probabilities for classification outputs\n",
            "\n",
            "video 1/1 (frame 1/728) /content/WhatsApp Video 2025-05-22 at 12.15.03 PM.mp4: 384x640 15 teeths, 80.0ms\n",
            "video 1/1 (frame 2/728) /content/WhatsApp Video 2025-05-22 at 12.15.03 PM.mp4: 384x640 16 teeths, 12.0ms\n",
            "video 1/1 (frame 3/728) /content/WhatsApp Video 2025-05-22 at 12.15.03 PM.mp4: 384x640 16 teeths, 24.2ms\n",
            "video 1/1 (frame 4/728) /content/WhatsApp Video 2025-05-22 at 12.15.03 PM.mp4: 384x640 16 teeths, 29.9ms\n",
            "video 1/1 (frame 5/728) /content/WhatsApp Video 2025-05-22 at 12.15.03 PM.mp4: 384x640 17 teeths, 23.3ms\n",
            "video 1/1 (frame 6/728) /content/WhatsApp Video 2025-05-22 at 12.15.03 PM.mp4: 384x640 17 teeths, 16.0ms\n",
            "video 1/1 (frame 7/728) /content/WhatsApp Video 2025-05-22 at 12.15.03 PM.mp4: 384x640 17 teeths, 22.6ms\n",
            "video 1/1 (frame 8/728) /content/WhatsApp Video 2025-05-22 at 12.15.03 PM.mp4: 384x640 16 teeths, 17.9ms\n",
            "video 1/1 (frame 9/728) /content/WhatsApp Video 2025-05-22 at 12.15.03 PM.mp4: 384x640 17 teeths, 21.5ms\n",
            "video 1/1 (frame 10/728) /content/WhatsApp Video 2025-05-22 at 12.15.03 PM.mp4: 384x640 17 teeths, 10.7ms\n",
            "video 1/1 (frame 11/728) /content/WhatsApp Video 2025-05-22 at 12.15.03 PM.mp4: 384x640 16 teeths, 28.4ms\n",
            "video 1/1 (frame 12/728) /content/WhatsApp Video 2025-05-22 at 12.15.03 PM.mp4: 384x640 15 teeths, 20.7ms\n",
            "video 1/1 (frame 13/728) /content/WhatsApp Video 2025-05-22 at 12.15.03 PM.mp4: 384x640 18 teeths, 32.3ms\n",
            "video 1/1 (frame 14/728) /content/WhatsApp Video 2025-05-22 at 12.15.03 PM.mp4: 384x640 18 teeths, 14.6ms\n",
            "video 1/1 (frame 15/728) /content/WhatsApp Video 2025-05-22 at 12.15.03 PM.mp4: 384x640 16 teeths, 24.5ms\n",
            "video 1/1 (frame 16/728) /content/WhatsApp Video 2025-05-22 at 12.15.03 PM.mp4: 384x640 16 teeths, 19.9ms\n",
            "video 1/1 (frame 17/728) /content/WhatsApp Video 2025-05-22 at 12.15.03 PM.mp4: 384x640 16 teeths, 25.8ms\n",
            "video 1/1 (frame 18/728) /content/WhatsApp Video 2025-05-22 at 12.15.03 PM.mp4: 384x640 17 teeths, 21.0ms\n",
            "video 1/1 (frame 19/728) /content/WhatsApp Video 2025-05-22 at 12.15.03 PM.mp4: 384x640 17 teeths, 40.3ms\n",
            "video 1/1 (frame 20/728) /content/WhatsApp Video 2025-05-22 at 12.15.03 PM.mp4: 384x640 17 teeths, 28.9ms\n",
            "video 1/1 (frame 21/728) /content/WhatsApp Video 2025-05-22 at 12.15.03 PM.mp4: 384x640 15 teeths, 37.0ms\n",
            "video 1/1 (frame 22/728) /content/WhatsApp Video 2025-05-22 at 12.15.03 PM.mp4: 384x640 16 teeths, 28.0ms\n",
            "video 1/1 (frame 23/728) /content/WhatsApp Video 2025-05-22 at 12.15.03 PM.mp4: 384x640 17 teeths, 12.6ms\n",
            "video 1/1 (frame 24/728) /content/WhatsApp Video 2025-05-22 at 12.15.03 PM.mp4: 384x640 16 teeths, 49.0ms\n",
            "video 1/1 (frame 25/728) /content/WhatsApp Video 2025-05-22 at 12.15.03 PM.mp4: 384x640 17 teeths, 18.9ms\n",
            "video 1/1 (frame 26/728) /content/WhatsApp Video 2025-05-22 at 12.15.03 PM.mp4: 384x640 17 teeths, 28.9ms\n",
            "video 1/1 (frame 27/728) /content/WhatsApp Video 2025-05-22 at 12.15.03 PM.mp4: 384x640 17 teeths, 37.9ms\n",
            "video 1/1 (frame 28/728) /content/WhatsApp Video 2025-05-22 at 12.15.03 PM.mp4: 384x640 16 teeths, 39.0ms\n",
            "video 1/1 (frame 29/728) /content/WhatsApp Video 2025-05-22 at 12.15.03 PM.mp4: 384x640 17 teeths, 35.0ms\n",
            "video 1/1 (frame 30/728) /content/WhatsApp Video 2025-05-22 at 12.15.03 PM.mp4: 384x640 15 teeths, 25.3ms\n",
            "video 1/1 (frame 31/728) /content/WhatsApp Video 2025-05-22 at 12.15.03 PM.mp4: 384x640 17 teeths, 13.8ms\n",
            "video 1/1 (frame 32/728) /content/WhatsApp Video 2025-05-22 at 12.15.03 PM.mp4: 384x640 16 teeths, 41.8ms\n",
            "video 1/1 (frame 33/728) /content/WhatsApp Video 2025-05-22 at 12.15.03 PM.mp4: 384x640 17 teeths, 23.7ms\n",
            "video 1/1 (frame 34/728) /content/WhatsApp Video 2025-05-22 at 12.15.03 PM.mp4: 384x640 16 teeths, 37.2ms\n",
            "video 1/1 (frame 35/728) /content/WhatsApp Video 2025-05-22 at 12.15.03 PM.mp4: 384x640 17 teeths, 42.7ms\n",
            "video 1/1 (frame 36/728) /content/WhatsApp Video 2025-05-22 at 12.15.03 PM.mp4: 384x640 15 teeths, 27.1ms\n",
            "video 1/1 (frame 37/728) /content/WhatsApp Video 2025-05-22 at 12.15.03 PM.mp4: 384x640 15 teeths, 10.8ms\n",
            "video 1/1 (frame 38/728) /content/WhatsApp Video 2025-05-22 at 12.15.03 PM.mp4: 384x640 17 teeths, 10.7ms\n",
            "video 1/1 (frame 39/728) /content/WhatsApp Video 2025-05-22 at 12.15.03 PM.mp4: 384x640 17 teeths, 43.8ms\n",
            "video 1/1 (frame 40/728) /content/WhatsApp Video 2025-05-22 at 12.15.03 PM.mp4: 384x640 18 teeths, 26.6ms\n",
            "video 1/1 (frame 41/728) /content/WhatsApp Video 2025-05-22 at 12.15.03 PM.mp4: 384x640 17 teeths, 16.2ms\n",
            "video 1/1 (frame 42/728) /content/WhatsApp Video 2025-05-22 at 12.15.03 PM.mp4: 384x640 17 teeths, 14.2ms\n",
            "video 1/1 (frame 43/728) /content/WhatsApp Video 2025-05-22 at 12.15.03 PM.mp4: 384x640 19 teeths, 27.1ms\n",
            "video 1/1 (frame 44/728) /content/WhatsApp Video 2025-05-22 at 12.15.03 PM.mp4: 384x640 16 teeths, 11.5ms\n",
            "video 1/1 (frame 45/728) /content/WhatsApp Video 2025-05-22 at 12.15.03 PM.mp4: 384x640 16 teeths, 25.4ms\n",
            "video 1/1 (frame 46/728) /content/WhatsApp Video 2025-05-22 at 12.15.03 PM.mp4: 384x640 17 teeths, 29.1ms\n",
            "video 1/1 (frame 47/728) /content/WhatsApp Video 2025-05-22 at 12.15.03 PM.mp4: 384x640 16 teeths, 14.9ms\n",
            "video 1/1 (frame 48/728) /content/WhatsApp Video 2025-05-22 at 12.15.03 PM.mp4: 384x640 16 teeths, 35.3ms\n",
            "video 1/1 (frame 49/728) /content/WhatsApp Video 2025-05-22 at 12.15.03 PM.mp4: 384x640 17 teeths, 12.2ms\n",
            "video 1/1 (frame 50/728) /content/WhatsApp Video 2025-05-22 at 12.15.03 PM.mp4: 384x640 16 teeths, 26.7ms\n",
            "video 1/1 (frame 51/728) /content/WhatsApp Video 2025-05-22 at 12.15.03 PM.mp4: 384x640 18 teeths, 10.7ms\n",
            "video 1/1 (frame 52/728) /content/WhatsApp Video 2025-05-22 at 12.15.03 PM.mp4: 384x640 15 teeths, 10.9ms\n",
            "video 1/1 (frame 53/728) /content/WhatsApp Video 2025-05-22 at 12.15.03 PM.mp4: 384x640 16 teeths, 10.9ms\n",
            "video 1/1 (frame 54/728) /content/WhatsApp Video 2025-05-22 at 12.15.03 PM.mp4: 384x640 17 teeths, 10.7ms\n",
            "video 1/1 (frame 55/728) /content/WhatsApp Video 2025-05-22 at 12.15.03 PM.mp4: 384x640 16 teeths, 10.8ms\n",
            "video 1/1 (frame 56/728) /content/WhatsApp Video 2025-05-22 at 12.15.03 PM.mp4: 384x640 16 teeths, 21.6ms\n",
            "video 1/1 (frame 57/728) /content/WhatsApp Video 2025-05-22 at 12.15.03 PM.mp4: 384x640 17 teeths, 11.3ms\n",
            "video 1/1 (frame 58/728) /content/WhatsApp Video 2025-05-22 at 12.15.03 PM.mp4: 384x640 18 teeths, 24.2ms\n",
            "video 1/1 (frame 59/728) /content/WhatsApp Video 2025-05-22 at 12.15.03 PM.mp4: 384x640 17 teeths, 11.4ms\n",
            "video 1/1 (frame 60/728) /content/WhatsApp Video 2025-05-22 at 12.15.03 PM.mp4: 384x640 16 teeths, 10.9ms\n",
            "video 1/1 (frame 61/728) /content/WhatsApp Video 2025-05-22 at 12.15.03 PM.mp4: 384x640 15 teeths, 20.3ms\n",
            "video 1/1 (frame 62/728) /content/WhatsApp Video 2025-05-22 at 12.15.03 PM.mp4: 384x640 16 teeths, 18.4ms\n",
            "video 1/1 (frame 63/728) /content/WhatsApp Video 2025-05-22 at 12.15.03 PM.mp4: 384x640 16 teeths, 17.8ms\n",
            "video 1/1 (frame 64/728) /content/WhatsApp Video 2025-05-22 at 12.15.03 PM.mp4: 384x640 16 teeths, 22.5ms\n",
            "video 1/1 (frame 65/728) /content/WhatsApp Video 2025-05-22 at 12.15.03 PM.mp4: 384x640 17 teeths, 14.4ms\n",
            "video 1/1 (frame 66/728) /content/WhatsApp Video 2025-05-22 at 12.15.03 PM.mp4: 384x640 16 teeths, 11.3ms\n",
            "video 1/1 (frame 67/728) /content/WhatsApp Video 2025-05-22 at 12.15.03 PM.mp4: 384x640 16 teeths, 11.8ms\n",
            "video 1/1 (frame 68/728) /content/WhatsApp Video 2025-05-22 at 12.15.03 PM.mp4: 384x640 16 teeths, 38.7ms\n",
            "video 1/1 (frame 69/728) /content/WhatsApp Video 2025-05-22 at 12.15.03 PM.mp4: 384x640 17 teeths, 45.3ms\n",
            "video 1/1 (frame 70/728) /content/WhatsApp Video 2025-05-22 at 12.15.03 PM.mp4: 384x640 16 teeths, 52.7ms\n",
            "video 1/1 (frame 71/728) /content/WhatsApp Video 2025-05-22 at 12.15.03 PM.mp4: 384x640 17 teeths, 10.7ms\n",
            "video 1/1 (frame 72/728) /content/WhatsApp Video 2025-05-22 at 12.15.03 PM.mp4: 384x640 15 teeths, 10.7ms\n",
            "video 1/1 (frame 73/728) /content/WhatsApp Video 2025-05-22 at 12.15.03 PM.mp4: 384x640 17 teeths, 17.7ms\n",
            "video 1/1 (frame 74/728) /content/WhatsApp Video 2025-05-22 at 12.15.03 PM.mp4: 384x640 16 teeths, 11.0ms\n",
            "video 1/1 (frame 75/728) /content/WhatsApp Video 2025-05-22 at 12.15.03 PM.mp4: 384x640 16 teeths, 17.3ms\n",
            "video 1/1 (frame 76/728) /content/WhatsApp Video 2025-05-22 at 12.15.03 PM.mp4: 384x640 16 teeths, 10.7ms\n",
            "video 1/1 (frame 77/728) /content/WhatsApp Video 2025-05-22 at 12.15.03 PM.mp4: 384x640 16 teeths, 22.2ms\n",
            "video 1/1 (frame 78/728) /content/WhatsApp Video 2025-05-22 at 12.15.03 PM.mp4: 384x640 16 teeths, 36.6ms\n",
            "video 1/1 (frame 79/728) /content/WhatsApp Video 2025-05-22 at 12.15.03 PM.mp4: 384x640 18 teeths, 21.6ms\n",
            "video 1/1 (frame 80/728) /content/WhatsApp Video 2025-05-22 at 12.15.03 PM.mp4: 384x640 17 teeths, 12.2ms\n",
            "video 1/1 (frame 81/728) /content/WhatsApp Video 2025-05-22 at 12.15.03 PM.mp4: 384x640 18 teeths, 10.8ms\n",
            "video 1/1 (frame 82/728) /content/WhatsApp Video 2025-05-22 at 12.15.03 PM.mp4: 384x640 18 teeths, 12.6ms\n",
            "video 1/1 (frame 83/728) /content/WhatsApp Video 2025-05-22 at 12.15.03 PM.mp4: 384x640 21 teeths, 57.8ms\n",
            "video 1/1 (frame 84/728) /content/WhatsApp Video 2025-05-22 at 12.15.03 PM.mp4: 384x640 18 teeths, 12.7ms\n",
            "video 1/1 (frame 85/728) /content/WhatsApp Video 2025-05-22 at 12.15.03 PM.mp4: 384x640 19 teeths, 10.7ms\n",
            "video 1/1 (frame 86/728) /content/WhatsApp Video 2025-05-22 at 12.15.03 PM.mp4: 384x640 18 teeths, 11.1ms\n",
            "video 1/1 (frame 87/728) /content/WhatsApp Video 2025-05-22 at 12.15.03 PM.mp4: 384x640 19 teeths, 19.0ms\n",
            "video 1/1 (frame 88/728) /content/WhatsApp Video 2025-05-22 at 12.15.03 PM.mp4: 384x640 20 teeths, 10.7ms\n",
            "video 1/1 (frame 89/728) /content/WhatsApp Video 2025-05-22 at 12.15.03 PM.mp4: 384x640 19 teeths, 15.7ms\n",
            "video 1/1 (frame 90/728) /content/WhatsApp Video 2025-05-22 at 12.15.03 PM.mp4: 384x640 18 teeths, 12.7ms\n",
            "video 1/1 (frame 91/728) /content/WhatsApp Video 2025-05-22 at 12.15.03 PM.mp4: 384x640 20 teeths, 10.8ms\n",
            "video 1/1 (frame 92/728) /content/WhatsApp Video 2025-05-22 at 12.15.03 PM.mp4: 384x640 19 teeths, 10.7ms\n",
            "video 1/1 (frame 93/728) /content/WhatsApp Video 2025-05-22 at 12.15.03 PM.mp4: 384x640 19 teeths, 10.7ms\n",
            "video 1/1 (frame 94/728) /content/WhatsApp Video 2025-05-22 at 12.15.03 PM.mp4: 384x640 19 teeths, 10.7ms\n",
            "video 1/1 (frame 95/728) /content/WhatsApp Video 2025-05-22 at 12.15.03 PM.mp4: 384x640 19 teeths, 10.7ms\n",
            "video 1/1 (frame 96/728) /content/WhatsApp Video 2025-05-22 at 12.15.03 PM.mp4: 384x640 20 teeths, 10.7ms\n",
            "video 1/1 (frame 97/728) /content/WhatsApp Video 2025-05-22 at 12.15.03 PM.mp4: 384x640 20 teeths, 11.2ms\n",
            "video 1/1 (frame 98/728) /content/WhatsApp Video 2025-05-22 at 12.15.03 PM.mp4: 384x640 19 teeths, 15.9ms\n",
            "video 1/1 (frame 99/728) /content/WhatsApp Video 2025-05-22 at 12.15.03 PM.mp4: 384x640 21 teeths, 14.3ms\n",
            "video 1/1 (frame 100/728) /content/WhatsApp Video 2025-05-22 at 12.15.03 PM.mp4: 384x640 18 teeths, 33.3ms\n",
            "video 1/1 (frame 101/728) /content/WhatsApp Video 2025-05-22 at 12.15.03 PM.mp4: 384x640 18 teeths, 30.4ms\n",
            "video 1/1 (frame 102/728) /content/WhatsApp Video 2025-05-22 at 12.15.03 PM.mp4: 384x640 19 teeths, 31.1ms\n",
            "video 1/1 (frame 103/728) /content/WhatsApp Video 2025-05-22 at 12.15.03 PM.mp4: 384x640 18 teeths, 12.5ms\n",
            "video 1/1 (frame 104/728) /content/WhatsApp Video 2025-05-22 at 12.15.03 PM.mp4: 384x640 19 teeths, 14.7ms\n",
            "video 1/1 (frame 105/728) /content/WhatsApp Video 2025-05-22 at 12.15.03 PM.mp4: 384x640 19 teeths, 14.3ms\n",
            "video 1/1 (frame 106/728) /content/WhatsApp Video 2025-05-22 at 12.15.03 PM.mp4: 384x640 19 teeths, 10.7ms\n",
            "video 1/1 (frame 107/728) /content/WhatsApp Video 2025-05-22 at 12.15.03 PM.mp4: 384x640 22 teeths, 27.0ms\n",
            "video 1/1 (frame 108/728) /content/WhatsApp Video 2025-05-22 at 12.15.03 PM.mp4: 384x640 18 teeths, 28.3ms\n",
            "video 1/1 (frame 109/728) /content/WhatsApp Video 2025-05-22 at 12.15.03 PM.mp4: 384x640 21 teeths, 31.4ms\n",
            "video 1/1 (frame 110/728) /content/WhatsApp Video 2025-05-22 at 12.15.03 PM.mp4: 384x640 21 teeths, 31.2ms\n",
            "video 1/1 (frame 111/728) /content/WhatsApp Video 2025-05-22 at 12.15.03 PM.mp4: 384x640 19 teeths, 31.4ms\n",
            "video 1/1 (frame 112/728) /content/WhatsApp Video 2025-05-22 at 12.15.03 PM.mp4: 384x640 18 teeths, 10.8ms\n",
            "video 1/1 (frame 113/728) /content/WhatsApp Video 2025-05-22 at 12.15.03 PM.mp4: 384x640 17 teeths, 18.6ms\n",
            "video 1/1 (frame 114/728) /content/WhatsApp Video 2025-05-22 at 12.15.03 PM.mp4: 384x640 22 teeths, 12.0ms\n",
            "video 1/1 (frame 115/728) /content/WhatsApp Video 2025-05-22 at 12.15.03 PM.mp4: 384x640 19 teeths, 11.7ms\n",
            "video 1/1 (frame 116/728) /content/WhatsApp Video 2025-05-22 at 12.15.03 PM.mp4: 384x640 20 teeths, 10.7ms\n",
            "video 1/1 (frame 117/728) /content/WhatsApp Video 2025-05-22 at 12.15.03 PM.mp4: 384x640 21 teeths, 14.3ms\n",
            "video 1/1 (frame 118/728) /content/WhatsApp Video 2025-05-22 at 12.15.03 PM.mp4: 384x640 19 teeths, 14.1ms\n",
            "video 1/1 (frame 119/728) /content/WhatsApp Video 2025-05-22 at 12.15.03 PM.mp4: 384x640 20 teeths, 13.9ms\n",
            "video 1/1 (frame 120/728) /content/WhatsApp Video 2025-05-22 at 12.15.03 PM.mp4: 384x640 20 teeths, 12.7ms\n",
            "video 1/1 (frame 121/728) /content/WhatsApp Video 2025-05-22 at 12.15.03 PM.mp4: 384x640 19 teeths, 10.7ms\n",
            "video 1/1 (frame 122/728) /content/WhatsApp Video 2025-05-22 at 12.15.03 PM.mp4: 384x640 19 teeths, 23.8ms\n",
            "video 1/1 (frame 123/728) /content/WhatsApp Video 2025-05-22 at 12.15.03 PM.mp4: 384x640 21 teeths, 11.8ms\n",
            "video 1/1 (frame 124/728) /content/WhatsApp Video 2025-05-22 at 12.15.03 PM.mp4: 384x640 18 teeths, 20.9ms\n",
            "video 1/1 (frame 125/728) /content/WhatsApp Video 2025-05-22 at 12.15.03 PM.mp4: 384x640 17 teeths, 18.7ms\n",
            "video 1/1 (frame 126/728) /content/WhatsApp Video 2025-05-22 at 12.15.03 PM.mp4: 384x640 18 teeths, 17.5ms\n",
            "video 1/1 (frame 127/728) /content/WhatsApp Video 2025-05-22 at 12.15.03 PM.mp4: 384x640 17 teeths, 15.0ms\n",
            "video 1/1 (frame 128/728) /content/WhatsApp Video 2025-05-22 at 12.15.03 PM.mp4: 384x640 16 teeths, 11.8ms\n",
            "video 1/1 (frame 129/728) /content/WhatsApp Video 2025-05-22 at 12.15.03 PM.mp4: 384x640 17 teeths, 20.6ms\n",
            "video 1/1 (frame 130/728) /content/WhatsApp Video 2025-05-22 at 12.15.03 PM.mp4: 384x640 17 teeths, 17.0ms\n",
            "video 1/1 (frame 131/728) /content/WhatsApp Video 2025-05-22 at 12.15.03 PM.mp4: 384x640 18 teeths, 11.5ms\n",
            "video 1/1 (frame 132/728) /content/WhatsApp Video 2025-05-22 at 12.15.03 PM.mp4: 384x640 17 teeths, 15.6ms\n",
            "video 1/1 (frame 133/728) /content/WhatsApp Video 2025-05-22 at 12.15.03 PM.mp4: 384x640 16 teeths, 16.7ms\n",
            "video 1/1 (frame 134/728) /content/WhatsApp Video 2025-05-22 at 12.15.03 PM.mp4: 384x640 17 teeths, 18.8ms\n",
            "video 1/1 (frame 135/728) /content/WhatsApp Video 2025-05-22 at 12.15.03 PM.mp4: 384x640 17 teeths, 10.8ms\n",
            "video 1/1 (frame 136/728) /content/WhatsApp Video 2025-05-22 at 12.15.03 PM.mp4: 384x640 18 teeths, 11.2ms\n",
            "video 1/1 (frame 137/728) /content/WhatsApp Video 2025-05-22 at 12.15.03 PM.mp4: 384x640 18 teeths, 10.7ms\n",
            "video 1/1 (frame 138/728) /content/WhatsApp Video 2025-05-22 at 12.15.03 PM.mp4: 384x640 17 teeths, 10.7ms\n",
            "video 1/1 (frame 139/728) /content/WhatsApp Video 2025-05-22 at 12.15.03 PM.mp4: 384x640 18 teeths, 10.7ms\n",
            "video 1/1 (frame 140/728) /content/WhatsApp Video 2025-05-22 at 12.15.03 PM.mp4: 384x640 16 teeths, 10.7ms\n",
            "video 1/1 (frame 141/728) /content/WhatsApp Video 2025-05-22 at 12.15.03 PM.mp4: 384x640 20 teeths, 10.7ms\n",
            "video 1/1 (frame 142/728) /content/WhatsApp Video 2025-05-22 at 12.15.03 PM.mp4: 384x640 20 teeths, 10.7ms\n",
            "video 1/1 (frame 143/728) /content/WhatsApp Video 2025-05-22 at 12.15.03 PM.mp4: 384x640 18 teeths, 13.3ms\n",
            "video 1/1 (frame 144/728) /content/WhatsApp Video 2025-05-22 at 12.15.03 PM.mp4: 384x640 16 teeths, 12.7ms\n",
            "video 1/1 (frame 145/728) /content/WhatsApp Video 2025-05-22 at 12.15.03 PM.mp4: 384x640 17 teeths, 10.7ms\n",
            "video 1/1 (frame 146/728) /content/WhatsApp Video 2025-05-22 at 12.15.03 PM.mp4: 384x640 18 teeths, 10.7ms\n",
            "video 1/1 (frame 147/728) /content/WhatsApp Video 2025-05-22 at 12.15.03 PM.mp4: 384x640 18 teeths, 10.7ms\n",
            "video 1/1 (frame 148/728) /content/WhatsApp Video 2025-05-22 at 12.15.03 PM.mp4: 384x640 18 teeths, 10.7ms\n",
            "video 1/1 (frame 149/728) /content/WhatsApp Video 2025-05-22 at 12.15.03 PM.mp4: 384x640 18 teeths, 10.7ms\n",
            "video 1/1 (frame 150/728) /content/WhatsApp Video 2025-05-22 at 12.15.03 PM.mp4: 384x640 16 teeths, 10.7ms\n",
            "video 1/1 (frame 151/728) /content/WhatsApp Video 2025-05-22 at 12.15.03 PM.mp4: 384x640 19 teeths, 10.7ms\n",
            "video 1/1 (frame 152/728) /content/WhatsApp Video 2025-05-22 at 12.15.03 PM.mp4: 384x640 19 teeths, 10.7ms\n",
            "video 1/1 (frame 153/728) /content/WhatsApp Video 2025-05-22 at 12.15.03 PM.mp4: 384x640 17 teeths, 10.0ms\n",
            "video 1/1 (frame 154/728) /content/WhatsApp Video 2025-05-22 at 12.15.03 PM.mp4: 384x640 17 teeths, 10.0ms\n",
            "video 1/1 (frame 155/728) /content/WhatsApp Video 2025-05-22 at 12.15.03 PM.mp4: 384x640 16 teeths, 10.1ms\n",
            "video 1/1 (frame 156/728) /content/WhatsApp Video 2025-05-22 at 12.15.03 PM.mp4: 384x640 17 teeths, 10.0ms\n",
            "video 1/1 (frame 157/728) /content/WhatsApp Video 2025-05-22 at 12.15.03 PM.mp4: 384x640 16 teeths, 10.0ms\n",
            "video 1/1 (frame 158/728) /content/WhatsApp Video 2025-05-22 at 12.15.03 PM.mp4: 384x640 16 teeths, 10.0ms\n",
            "video 1/1 (frame 159/728) /content/WhatsApp Video 2025-05-22 at 12.15.03 PM.mp4: 384x640 18 teeths, 10.0ms\n",
            "video 1/1 (frame 160/728) /content/WhatsApp Video 2025-05-22 at 12.15.03 PM.mp4: 384x640 16 teeths, 10.0ms\n",
            "video 1/1 (frame 161/728) /content/WhatsApp Video 2025-05-22 at 12.15.03 PM.mp4: 384x640 18 teeths, 13.4ms\n",
            "video 1/1 (frame 162/728) /content/WhatsApp Video 2025-05-22 at 12.15.03 PM.mp4: 384x640 19 teeths, 10.0ms\n",
            "video 1/1 (frame 163/728) /content/WhatsApp Video 2025-05-22 at 12.15.03 PM.mp4: 384x640 17 teeths, 10.0ms\n",
            "video 1/1 (frame 164/728) /content/WhatsApp Video 2025-05-22 at 12.15.03 PM.mp4: 384x640 16 teeths, 10.0ms\n",
            "video 1/1 (frame 165/728) /content/WhatsApp Video 2025-05-22 at 12.15.03 PM.mp4: 384x640 16 teeths, 10.0ms\n",
            "video 1/1 (frame 166/728) /content/WhatsApp Video 2025-05-22 at 12.15.03 PM.mp4: 384x640 18 teeths, 10.0ms\n",
            "video 1/1 (frame 167/728) /content/WhatsApp Video 2025-05-22 at 12.15.03 PM.mp4: 384x640 16 teeths, 10.0ms\n",
            "video 1/1 (frame 168/728) /content/WhatsApp Video 2025-05-22 at 12.15.03 PM.mp4: 384x640 17 teeths, 9.6ms\n",
            "video 1/1 (frame 169/728) /content/WhatsApp Video 2025-05-22 at 12.15.03 PM.mp4: 384x640 17 teeths, 9.6ms\n",
            "video 1/1 (frame 170/728) /content/WhatsApp Video 2025-05-22 at 12.15.03 PM.mp4: 384x640 16 teeths, 9.6ms\n",
            "video 1/1 (frame 171/728) /content/WhatsApp Video 2025-05-22 at 12.15.03 PM.mp4: 384x640 16 teeths, 9.6ms\n",
            "video 1/1 (frame 172/728) /content/WhatsApp Video 2025-05-22 at 12.15.03 PM.mp4: 384x640 16 teeths, 9.6ms\n",
            "video 1/1 (frame 173/728) /content/WhatsApp Video 2025-05-22 at 12.15.03 PM.mp4: 384x640 18 teeths, 9.6ms\n",
            "video 1/1 (frame 174/728) /content/WhatsApp Video 2025-05-22 at 12.15.03 PM.mp4: 384x640 16 teeths, 9.6ms\n",
            "video 1/1 (frame 175/728) /content/WhatsApp Video 2025-05-22 at 12.15.03 PM.mp4: 384x640 16 teeths, 9.6ms\n",
            "video 1/1 (frame 176/728) /content/WhatsApp Video 2025-05-22 at 12.15.03 PM.mp4: 384x640 16 teeths, 9.6ms\n",
            "video 1/1 (frame 177/728) /content/WhatsApp Video 2025-05-22 at 12.15.03 PM.mp4: 384x640 17 teeths, 9.6ms\n",
            "video 1/1 (frame 178/728) /content/WhatsApp Video 2025-05-22 at 12.15.03 PM.mp4: 384x640 17 teeths, 9.6ms\n",
            "video 1/1 (frame 179/728) /content/WhatsApp Video 2025-05-22 at 12.15.03 PM.mp4: 384x640 17 teeths, 9.6ms\n",
            "video 1/1 (frame 180/728) /content/WhatsApp Video 2025-05-22 at 12.15.03 PM.mp4: 384x640 15 teeths, 9.6ms\n",
            "video 1/1 (frame 181/728) /content/WhatsApp Video 2025-05-22 at 12.15.03 PM.mp4: 384x640 16 teeths, 9.7ms\n",
            "video 1/1 (frame 182/728) /content/WhatsApp Video 2025-05-22 at 12.15.03 PM.mp4: 384x640 18 teeths, 9.7ms\n",
            "video 1/1 (frame 183/728) /content/WhatsApp Video 2025-05-22 at 12.15.03 PM.mp4: 384x640 17 teeths, 9.6ms\n",
            "video 1/1 (frame 184/728) /content/WhatsApp Video 2025-05-22 at 12.15.03 PM.mp4: 384x640 18 teeths, 9.6ms\n",
            "video 1/1 (frame 185/728) /content/WhatsApp Video 2025-05-22 at 12.15.03 PM.mp4: 384x640 18 teeths, 9.6ms\n",
            "video 1/1 (frame 186/728) /content/WhatsApp Video 2025-05-22 at 12.15.03 PM.mp4: 384x640 18 teeths, 9.6ms\n",
            "video 1/1 (frame 187/728) /content/WhatsApp Video 2025-05-22 at 12.15.03 PM.mp4: 384x640 18 teeths, 9.6ms\n",
            "video 1/1 (frame 188/728) /content/WhatsApp Video 2025-05-22 at 12.15.03 PM.mp4: 384x640 18 teeths, 9.6ms\n",
            "video 1/1 (frame 189/728) /content/WhatsApp Video 2025-05-22 at 12.15.03 PM.mp4: 384x640 16 teeths, 9.7ms\n",
            "video 1/1 (frame 190/728) /content/WhatsApp Video 2025-05-22 at 12.15.03 PM.mp4: 384x640 16 teeths, 9.7ms\n",
            "video 1/1 (frame 191/728) /content/WhatsApp Video 2025-05-22 at 12.15.03 PM.mp4: 384x640 18 teeths, 9.6ms\n",
            "video 1/1 (frame 192/728) /content/WhatsApp Video 2025-05-22 at 12.15.03 PM.mp4: 384x640 16 teeths, 9.7ms\n",
            "video 1/1 (frame 193/728) /content/WhatsApp Video 2025-05-22 at 12.15.03 PM.mp4: 384x640 15 teeths, 9.5ms\n",
            "video 1/1 (frame 194/728) /content/WhatsApp Video 2025-05-22 at 12.15.03 PM.mp4: 384x640 15 teeths, 9.5ms\n",
            "video 1/1 (frame 195/728) /content/WhatsApp Video 2025-05-22 at 12.15.03 PM.mp4: 384x640 16 teeths, 9.4ms\n",
            "video 1/1 (frame 196/728) /content/WhatsApp Video 2025-05-22 at 12.15.03 PM.mp4: 384x640 17 teeths, 9.4ms\n",
            "video 1/1 (frame 197/728) /content/WhatsApp Video 2025-05-22 at 12.15.03 PM.mp4: 384x640 18 teeths, 9.4ms\n",
            "video 1/1 (frame 198/728) /content/WhatsApp Video 2025-05-22 at 12.15.03 PM.mp4: 384x640 17 teeths, 9.5ms\n",
            "video 1/1 (frame 199/728) /content/WhatsApp Video 2025-05-22 at 12.15.03 PM.mp4: 384x640 18 teeths, 9.5ms\n",
            "video 1/1 (frame 200/728) /content/WhatsApp Video 2025-05-22 at 12.15.03 PM.mp4: 384x640 18 teeths, 9.5ms\n",
            "video 1/1 (frame 201/728) /content/WhatsApp Video 2025-05-22 at 12.15.03 PM.mp4: 384x640 16 teeths, 12.5ms\n",
            "video 1/1 (frame 202/728) /content/WhatsApp Video 2025-05-22 at 12.15.03 PM.mp4: 384x640 18 teeths, 9.6ms\n",
            "video 1/1 (frame 203/728) /content/WhatsApp Video 2025-05-22 at 12.15.03 PM.mp4: 384x640 19 teeths, 9.4ms\n",
            "video 1/1 (frame 204/728) /content/WhatsApp Video 2025-05-22 at 12.15.03 PM.mp4: 384x640 16 teeths, 10.1ms\n",
            "video 1/1 (frame 205/728) /content/WhatsApp Video 2025-05-22 at 12.15.03 PM.mp4: 384x640 15 teeths, 9.4ms\n",
            "video 1/1 (frame 206/728) /content/WhatsApp Video 2025-05-22 at 12.15.03 PM.mp4: 384x640 17 teeths, 9.4ms\n",
            "video 1/1 (frame 207/728) /content/WhatsApp Video 2025-05-22 at 12.15.03 PM.mp4: 384x640 16 teeths, 9.9ms\n",
            "video 1/1 (frame 208/728) /content/WhatsApp Video 2025-05-22 at 12.15.03 PM.mp4: 384x640 16 teeths, 9.4ms\n",
            "video 1/1 (frame 209/728) /content/WhatsApp Video 2025-05-22 at 12.15.03 PM.mp4: 384x640 17 teeths, 9.5ms\n",
            "video 1/1 (frame 210/728) /content/WhatsApp Video 2025-05-22 at 12.15.03 PM.mp4: 384x640 18 teeths, 9.6ms\n",
            "video 1/1 (frame 211/728) /content/WhatsApp Video 2025-05-22 at 12.15.03 PM.mp4: 384x640 17 teeths, 9.4ms\n",
            "video 1/1 (frame 212/728) /content/WhatsApp Video 2025-05-22 at 12.15.03 PM.mp4: 384x640 18 teeths, 9.4ms\n",
            "video 1/1 (frame 213/728) /content/WhatsApp Video 2025-05-22 at 12.15.03 PM.mp4: 384x640 17 teeths, 9.5ms\n",
            "video 1/1 (frame 214/728) /content/WhatsApp Video 2025-05-22 at 12.15.03 PM.mp4: 384x640 17 teeths, 9.4ms\n",
            "video 1/1 (frame 215/728) /content/WhatsApp Video 2025-05-22 at 12.15.03 PM.mp4: 384x640 19 teeths, 9.4ms\n",
            "video 1/1 (frame 216/728) /content/WhatsApp Video 2025-05-22 at 12.15.03 PM.mp4: 384x640 16 teeths, 9.4ms\n",
            "video 1/1 (frame 217/728) /content/WhatsApp Video 2025-05-22 at 12.15.03 PM.mp4: 384x640 17 teeths, 9.4ms\n",
            "video 1/1 (frame 218/728) /content/WhatsApp Video 2025-05-22 at 12.15.03 PM.mp4: 384x640 18 teeths, 9.5ms\n",
            "video 1/1 (frame 219/728) /content/WhatsApp Video 2025-05-22 at 12.15.03 PM.mp4: 384x640 16 teeths, 12.0ms\n",
            "video 1/1 (frame 220/728) /content/WhatsApp Video 2025-05-22 at 12.15.03 PM.mp4: 384x640 18 teeths, 9.5ms\n",
            "video 1/1 (frame 221/728) /content/WhatsApp Video 2025-05-22 at 12.15.03 PM.mp4: 384x640 17 teeths, 9.7ms\n",
            "video 1/1 (frame 222/728) /content/WhatsApp Video 2025-05-22 at 12.15.03 PM.mp4: 384x640 17 teeths, 9.4ms\n",
            "video 1/1 (frame 223/728) /content/WhatsApp Video 2025-05-22 at 12.15.03 PM.mp4: 384x640 17 teeths, 9.8ms\n",
            "video 1/1 (frame 224/728) /content/WhatsApp Video 2025-05-22 at 12.15.03 PM.mp4: 384x640 17 teeths, 9.4ms\n",
            "video 1/1 (frame 225/728) /content/WhatsApp Video 2025-05-22 at 12.15.03 PM.mp4: 384x640 18 teeths, 9.5ms\n",
            "video 1/1 (frame 226/728) /content/WhatsApp Video 2025-05-22 at 12.15.03 PM.mp4: 384x640 18 teeths, 9.4ms\n",
            "video 1/1 (frame 227/728) /content/WhatsApp Video 2025-05-22 at 12.15.03 PM.mp4: 384x640 16 teeths, 9.5ms\n",
            "video 1/1 (frame 228/728) /content/WhatsApp Video 2025-05-22 at 12.15.03 PM.mp4: 384x640 17 teeths, 9.4ms\n",
            "video 1/1 (frame 229/728) /content/WhatsApp Video 2025-05-22 at 12.15.03 PM.mp4: 384x640 16 teeths, 9.6ms\n",
            "video 1/1 (frame 230/728) /content/WhatsApp Video 2025-05-22 at 12.15.03 PM.mp4: 384x640 17 teeths, 9.5ms\n",
            "video 1/1 (frame 231/728) /content/WhatsApp Video 2025-05-22 at 12.15.03 PM.mp4: 384x640 16 teeths, 9.5ms\n",
            "video 1/1 (frame 232/728) /content/WhatsApp Video 2025-05-22 at 12.15.03 PM.mp4: 384x640 16 teeths, 9.4ms\n",
            "video 1/1 (frame 233/728) /content/WhatsApp Video 2025-05-22 at 12.15.03 PM.mp4: 384x640 16 teeths, 9.4ms\n",
            "video 1/1 (frame 234/728) /content/WhatsApp Video 2025-05-22 at 12.15.03 PM.mp4: 384x640 16 teeths, 9.4ms\n",
            "video 1/1 (frame 235/728) /content/WhatsApp Video 2025-05-22 at 12.15.03 PM.mp4: 384x640 17 teeths, 9.4ms\n",
            "video 1/1 (frame 236/728) /content/WhatsApp Video 2025-05-22 at 12.15.03 PM.mp4: 384x640 16 teeths, 9.4ms\n",
            "video 1/1 (frame 237/728) /content/WhatsApp Video 2025-05-22 at 12.15.03 PM.mp4: 384x640 17 teeths, 9.4ms\n",
            "video 1/1 (frame 238/728) /content/WhatsApp Video 2025-05-22 at 12.15.03 PM.mp4: 384x640 18 teeths, 9.5ms\n",
            "video 1/1 (frame 239/728) /content/WhatsApp Video 2025-05-22 at 12.15.03 PM.mp4: 384x640 16 teeths, 9.4ms\n",
            "video 1/1 (frame 240/728) /content/WhatsApp Video 2025-05-22 at 12.15.03 PM.mp4: 384x640 19 teeths, 9.4ms\n",
            "video 1/1 (frame 241/728) /content/WhatsApp Video 2025-05-22 at 12.15.03 PM.mp4: 384x640 17 teeths, 9.5ms\n",
            "video 1/1 (frame 242/728) /content/WhatsApp Video 2025-05-22 at 12.15.03 PM.mp4: 384x640 17 teeths, 11.9ms\n",
            "video 1/1 (frame 243/728) /content/WhatsApp Video 2025-05-22 at 12.15.03 PM.mp4: 384x640 17 teeths, 9.4ms\n",
            "video 1/1 (frame 244/728) /content/WhatsApp Video 2025-05-22 at 12.15.03 PM.mp4: 384x640 20 teeths, 9.4ms\n",
            "video 1/1 (frame 245/728) /content/WhatsApp Video 2025-05-22 at 12.15.03 PM.mp4: 384x640 16 teeths, 9.4ms\n",
            "video 1/1 (frame 246/728) /content/WhatsApp Video 2025-05-22 at 12.15.03 PM.mp4: 384x640 18 teeths, 9.4ms\n",
            "video 1/1 (frame 247/728) /content/WhatsApp Video 2025-05-22 at 12.15.03 PM.mp4: 384x640 18 teeths, 9.4ms\n",
            "video 1/1 (frame 248/728) /content/WhatsApp Video 2025-05-22 at 12.15.03 PM.mp4: 384x640 15 teeths, 9.5ms\n",
            "video 1/1 (frame 249/728) /content/WhatsApp Video 2025-05-22 at 12.15.03 PM.mp4: 384x640 16 teeths, 9.5ms\n",
            "video 1/1 (frame 250/728) /content/WhatsApp Video 2025-05-22 at 12.15.03 PM.mp4: 384x640 17 teeths, 9.4ms\n",
            "video 1/1 (frame 251/728) /content/WhatsApp Video 2025-05-22 at 12.15.03 PM.mp4: 384x640 17 teeths, 9.5ms\n",
            "video 1/1 (frame 252/728) /content/WhatsApp Video 2025-05-22 at 12.15.03 PM.mp4: 384x640 17 teeths, 9.4ms\n",
            "video 1/1 (frame 253/728) /content/WhatsApp Video 2025-05-22 at 12.15.03 PM.mp4: 384x640 19 teeths, 9.5ms\n",
            "video 1/1 (frame 254/728) /content/WhatsApp Video 2025-05-22 at 12.15.03 PM.mp4: 384x640 17 teeths, 9.5ms\n",
            "video 1/1 (frame 255/728) /content/WhatsApp Video 2025-05-22 at 12.15.03 PM.mp4: 384x640 16 teeths, 9.4ms\n",
            "video 1/1 (frame 256/728) /content/WhatsApp Video 2025-05-22 at 12.15.03 PM.mp4: 384x640 17 teeths, 9.3ms\n",
            "video 1/1 (frame 257/728) /content/WhatsApp Video 2025-05-22 at 12.15.03 PM.mp4: 384x640 16 teeths, 9.3ms\n",
            "video 1/1 (frame 258/728) /content/WhatsApp Video 2025-05-22 at 12.15.03 PM.mp4: 384x640 15 teeths, 9.3ms\n",
            "video 1/1 (frame 259/728) /content/WhatsApp Video 2025-05-22 at 12.15.03 PM.mp4: 384x640 17 teeths, 9.6ms\n",
            "video 1/1 (frame 260/728) /content/WhatsApp Video 2025-05-22 at 12.15.03 PM.mp4: 384x640 16 teeths, 9.3ms\n",
            "video 1/1 (frame 261/728) /content/WhatsApp Video 2025-05-22 at 12.15.03 PM.mp4: 384x640 16 teeths, 9.3ms\n",
            "video 1/1 (frame 262/728) /content/WhatsApp Video 2025-05-22 at 12.15.03 PM.mp4: 384x640 17 teeths, 9.3ms\n",
            "video 1/1 (frame 263/728) /content/WhatsApp Video 2025-05-22 at 12.15.03 PM.mp4: 384x640 18 teeths, 9.3ms\n",
            "video 1/1 (frame 264/728) /content/WhatsApp Video 2025-05-22 at 12.15.03 PM.mp4: 384x640 17 teeths, 9.3ms\n",
            "video 1/1 (frame 265/728) /content/WhatsApp Video 2025-05-22 at 12.15.03 PM.mp4: 384x640 17 teeths, 9.3ms\n",
            "video 1/1 (frame 266/728) /content/WhatsApp Video 2025-05-22 at 12.15.03 PM.mp4: 384x640 16 teeths, 9.3ms\n",
            "video 1/1 (frame 267/728) /content/WhatsApp Video 2025-05-22 at 12.15.03 PM.mp4: 384x640 17 teeths, 9.7ms\n",
            "video 1/1 (frame 268/728) /content/WhatsApp Video 2025-05-22 at 12.15.03 PM.mp4: 384x640 18 teeths, 9.3ms\n",
            "video 1/1 (frame 269/728) /content/WhatsApp Video 2025-05-22 at 12.15.03 PM.mp4: 384x640 15 teeths, 9.3ms\n",
            "video 1/1 (frame 270/728) /content/WhatsApp Video 2025-05-22 at 12.15.03 PM.mp4: 384x640 16 teeths, 9.3ms\n",
            "video 1/1 (frame 271/728) /content/WhatsApp Video 2025-05-22 at 12.15.03 PM.mp4: 384x640 16 teeths, 9.3ms\n",
            "video 1/1 (frame 272/728) /content/WhatsApp Video 2025-05-22 at 12.15.03 PM.mp4: 384x640 18 teeths, 9.3ms\n",
            "video 1/1 (frame 273/728) /content/WhatsApp Video 2025-05-22 at 12.15.03 PM.mp4: 384x640 16 teeths, 9.3ms\n",
            "video 1/1 (frame 274/728) /content/WhatsApp Video 2025-05-22 at 12.15.03 PM.mp4: 384x640 15 teeths, 9.3ms\n",
            "video 1/1 (frame 275/728) /content/WhatsApp Video 2025-05-22 at 12.15.03 PM.mp4: 384x640 17 teeths, 9.3ms\n",
            "video 1/1 (frame 276/728) /content/WhatsApp Video 2025-05-22 at 12.15.03 PM.mp4: 384x640 16 teeths, 9.4ms\n",
            "video 1/1 (frame 277/728) /content/WhatsApp Video 2025-05-22 at 12.15.03 PM.mp4: 384x640 16 teeths, 9.3ms\n",
            "video 1/1 (frame 278/728) /content/WhatsApp Video 2025-05-22 at 12.15.03 PM.mp4: 384x640 15 teeths, 9.3ms\n",
            "video 1/1 (frame 279/728) /content/WhatsApp Video 2025-05-22 at 12.15.03 PM.mp4: 384x640 16 teeths, 9.3ms\n",
            "video 1/1 (frame 280/728) /content/WhatsApp Video 2025-05-22 at 12.15.03 PM.mp4: 384x640 15 teeths, 9.3ms\n",
            "video 1/1 (frame 281/728) /content/WhatsApp Video 2025-05-22 at 12.15.03 PM.mp4: 384x640 16 teeths, 9.3ms\n",
            "video 1/1 (frame 282/728) /content/WhatsApp Video 2025-05-22 at 12.15.03 PM.mp4: 384x640 16 teeths, 9.3ms\n",
            "video 1/1 (frame 283/728) /content/WhatsApp Video 2025-05-22 at 12.15.03 PM.mp4: 384x640 15 teeths, 12.5ms\n",
            "video 1/1 (frame 284/728) /content/WhatsApp Video 2025-05-22 at 12.15.03 PM.mp4: 384x640 15 teeths, 9.3ms\n",
            "video 1/1 (frame 285/728) /content/WhatsApp Video 2025-05-22 at 12.15.03 PM.mp4: 384x640 16 teeths, 9.3ms\n",
            "video 1/1 (frame 286/728) /content/WhatsApp Video 2025-05-22 at 12.15.03 PM.mp4: 384x640 16 teeths, 9.7ms\n",
            "video 1/1 (frame 287/728) /content/WhatsApp Video 2025-05-22 at 12.15.03 PM.mp4: 384x640 17 teeths, 9.3ms\n",
            "video 1/1 (frame 288/728) /content/WhatsApp Video 2025-05-22 at 12.15.03 PM.mp4: 384x640 16 teeths, 9.3ms\n",
            "video 1/1 (frame 289/728) /content/WhatsApp Video 2025-05-22 at 12.15.03 PM.mp4: 384x640 15 teeths, 9.5ms\n",
            "video 1/1 (frame 290/728) /content/WhatsApp Video 2025-05-22 at 12.15.03 PM.mp4: 384x640 15 teeths, 9.3ms\n",
            "video 1/1 (frame 291/728) /content/WhatsApp Video 2025-05-22 at 12.15.03 PM.mp4: 384x640 15 teeths, 9.3ms\n",
            "video 1/1 (frame 292/728) /content/WhatsApp Video 2025-05-22 at 12.15.03 PM.mp4: 384x640 15 teeths, 9.3ms\n",
            "video 1/1 (frame 293/728) /content/WhatsApp Video 2025-05-22 at 12.15.03 PM.mp4: 384x640 16 teeths, 9.3ms\n",
            "video 1/1 (frame 294/728) /content/WhatsApp Video 2025-05-22 at 12.15.03 PM.mp4: 384x640 17 teeths, 9.3ms\n",
            "video 1/1 (frame 295/728) /content/WhatsApp Video 2025-05-22 at 12.15.03 PM.mp4: 384x640 17 teeths, 9.3ms\n",
            "video 1/1 (frame 296/728) /content/WhatsApp Video 2025-05-22 at 12.15.03 PM.mp4: 384x640 16 teeths, 9.3ms\n",
            "video 1/1 (frame 297/728) /content/WhatsApp Video 2025-05-22 at 12.15.03 PM.mp4: 384x640 16 teeths, 9.3ms\n",
            "video 1/1 (frame 298/728) /content/WhatsApp Video 2025-05-22 at 12.15.03 PM.mp4: 384x640 17 teeths, 9.3ms\n",
            "video 1/1 (frame 299/728) /content/WhatsApp Video 2025-05-22 at 12.15.03 PM.mp4: 384x640 17 teeths, 9.3ms\n",
            "video 1/1 (frame 300/728) /content/WhatsApp Video 2025-05-22 at 12.15.03 PM.mp4: 384x640 16 teeths, 9.3ms\n",
            "video 1/1 (frame 301/728) /content/WhatsApp Video 2025-05-22 at 12.15.03 PM.mp4: 384x640 17 teeths, 9.3ms\n",
            "video 1/1 (frame 302/728) /content/WhatsApp Video 2025-05-22 at 12.15.03 PM.mp4: 384x640 16 teeths, 9.3ms\n",
            "video 1/1 (frame 303/728) /content/WhatsApp Video 2025-05-22 at 12.15.03 PM.mp4: 384x640 17 teeths, 9.3ms\n",
            "video 1/1 (frame 304/728) /content/WhatsApp Video 2025-05-22 at 12.15.03 PM.mp4: 384x640 16 teeths, 9.3ms\n",
            "video 1/1 (frame 305/728) /content/WhatsApp Video 2025-05-22 at 12.15.03 PM.mp4: 384x640 15 teeths, 9.3ms\n",
            "video 1/1 (frame 306/728) /content/WhatsApp Video 2025-05-22 at 12.15.03 PM.mp4: 384x640 16 teeths, 9.3ms\n",
            "video 1/1 (frame 307/728) /content/WhatsApp Video 2025-05-22 at 12.15.03 PM.mp4: 384x640 19 teeths, 9.3ms\n",
            "video 1/1 (frame 308/728) /content/WhatsApp Video 2025-05-22 at 12.15.03 PM.mp4: 384x640 17 teeths, 9.3ms\n",
            "video 1/1 (frame 309/728) /content/WhatsApp Video 2025-05-22 at 12.15.03 PM.mp4: 384x640 17 teeths, 9.3ms\n",
            "video 1/1 (frame 310/728) /content/WhatsApp Video 2025-05-22 at 12.15.03 PM.mp4: 384x640 17 teeths, 9.3ms\n",
            "video 1/1 (frame 311/728) /content/WhatsApp Video 2025-05-22 at 12.15.03 PM.mp4: 384x640 16 teeths, 9.3ms\n",
            "video 1/1 (frame 312/728) /content/WhatsApp Video 2025-05-22 at 12.15.03 PM.mp4: 384x640 17 teeths, 9.3ms\n",
            "video 1/1 (frame 313/728) /content/WhatsApp Video 2025-05-22 at 12.15.03 PM.mp4: 384x640 15 teeths, 9.5ms\n",
            "video 1/1 (frame 314/728) /content/WhatsApp Video 2025-05-22 at 12.15.03 PM.mp4: 384x640 16 teeths, 9.3ms\n",
            "video 1/1 (frame 315/728) /content/WhatsApp Video 2025-05-22 at 12.15.03 PM.mp4: 384x640 16 teeths, 9.3ms\n",
            "video 1/1 (frame 316/728) /content/WhatsApp Video 2025-05-22 at 12.15.03 PM.mp4: 384x640 14 teeths, 9.3ms\n",
            "video 1/1 (frame 317/728) /content/WhatsApp Video 2025-05-22 at 12.15.03 PM.mp4: 384x640 17 teeths, 9.3ms\n",
            "video 1/1 (frame 318/728) /content/WhatsApp Video 2025-05-22 at 12.15.03 PM.mp4: 384x640 19 teeths, 9.3ms\n",
            "video 1/1 (frame 319/728) /content/WhatsApp Video 2025-05-22 at 12.15.03 PM.mp4: 384x640 18 teeths, 9.3ms\n",
            "video 1/1 (frame 320/728) /content/WhatsApp Video 2025-05-22 at 12.15.03 PM.mp4: 384x640 17 teeths, 9.3ms\n",
            "video 1/1 (frame 321/728) /content/WhatsApp Video 2025-05-22 at 12.15.03 PM.mp4: 384x640 15 teeths, 9.3ms\n",
            "video 1/1 (frame 322/728) /content/WhatsApp Video 2025-05-22 at 12.15.03 PM.mp4: 384x640 17 teeths, 9.3ms\n",
            "video 1/1 (frame 323/728) /content/WhatsApp Video 2025-05-22 at 12.15.03 PM.mp4: 384x640 16 teeths, 17.2ms\n",
            "video 1/1 (frame 324/728) /content/WhatsApp Video 2025-05-22 at 12.15.03 PM.mp4: 384x640 16 teeths, 13.2ms\n",
            "video 1/1 (frame 325/728) /content/WhatsApp Video 2025-05-22 at 12.15.03 PM.mp4: 384x640 15 teeths, 9.3ms\n",
            "video 1/1 (frame 326/728) /content/WhatsApp Video 2025-05-22 at 12.15.03 PM.mp4: 384x640 16 teeths, 9.6ms\n",
            "video 1/1 (frame 327/728) /content/WhatsApp Video 2025-05-22 at 12.15.03 PM.mp4: 384x640 16 teeths, 9.7ms\n",
            "video 1/1 (frame 328/728) /content/WhatsApp Video 2025-05-22 at 12.15.03 PM.mp4: 384x640 15 teeths, 9.4ms\n",
            "video 1/1 (frame 329/728) /content/WhatsApp Video 2025-05-22 at 12.15.03 PM.mp4: 384x640 15 teeths, 9.4ms\n",
            "video 1/1 (frame 330/728) /content/WhatsApp Video 2025-05-22 at 12.15.03 PM.mp4: 384x640 16 teeths, 9.5ms\n",
            "video 1/1 (frame 331/728) /content/WhatsApp Video 2025-05-22 at 12.15.03 PM.mp4: 384x640 15 teeths, 9.4ms\n",
            "video 1/1 (frame 332/728) /content/WhatsApp Video 2025-05-22 at 12.15.03 PM.mp4: 384x640 16 teeths, 9.5ms\n",
            "video 1/1 (frame 333/728) /content/WhatsApp Video 2025-05-22 at 12.15.03 PM.mp4: 384x640 15 teeths, 9.4ms\n",
            "video 1/1 (frame 334/728) /content/WhatsApp Video 2025-05-22 at 12.15.03 PM.mp4: 384x640 16 teeths, 9.4ms\n",
            "video 1/1 (frame 335/728) /content/WhatsApp Video 2025-05-22 at 12.15.03 PM.mp4: 384x640 17 teeths, 9.3ms\n",
            "video 1/1 (frame 336/728) /content/WhatsApp Video 2025-05-22 at 12.15.03 PM.mp4: 384x640 16 teeths, 9.3ms\n",
            "video 1/1 (frame 337/728) /content/WhatsApp Video 2025-05-22 at 12.15.03 PM.mp4: 384x640 17 teeths, 9.3ms\n",
            "video 1/1 (frame 338/728) /content/WhatsApp Video 2025-05-22 at 12.15.03 PM.mp4: 384x640 18 teeths, 9.3ms\n",
            "video 1/1 (frame 339/728) /content/WhatsApp Video 2025-05-22 at 12.15.03 PM.mp4: 384x640 16 teeths, 9.3ms\n",
            "video 1/1 (frame 340/728) /content/WhatsApp Video 2025-05-22 at 12.15.03 PM.mp4: 384x640 17 teeths, 9.3ms\n",
            "video 1/1 (frame 341/728) /content/WhatsApp Video 2025-05-22 at 12.15.03 PM.mp4: 384x640 17 teeths, 9.3ms\n",
            "video 1/1 (frame 342/728) /content/WhatsApp Video 2025-05-22 at 12.15.03 PM.mp4: 384x640 17 teeths, 9.3ms\n",
            "video 1/1 (frame 343/728) /content/WhatsApp Video 2025-05-22 at 12.15.03 PM.mp4: 384x640 16 teeths, 9.3ms\n",
            "video 1/1 (frame 344/728) /content/WhatsApp Video 2025-05-22 at 12.15.03 PM.mp4: 384x640 17 teeths, 11.0ms\n",
            "video 1/1 (frame 345/728) /content/WhatsApp Video 2025-05-22 at 12.15.03 PM.mp4: 384x640 17 teeths, 14.9ms\n",
            "video 1/1 (frame 346/728) /content/WhatsApp Video 2025-05-22 at 12.15.03 PM.mp4: 384x640 18 teeths, 11.7ms\n",
            "video 1/1 (frame 347/728) /content/WhatsApp Video 2025-05-22 at 12.15.03 PM.mp4: 384x640 16 teeths, 10.7ms\n",
            "video 1/1 (frame 348/728) /content/WhatsApp Video 2025-05-22 at 12.15.03 PM.mp4: 384x640 19 teeths, 9.4ms\n",
            "video 1/1 (frame 349/728) /content/WhatsApp Video 2025-05-22 at 12.15.03 PM.mp4: 384x640 19 teeths, 9.5ms\n",
            "video 1/1 (frame 350/728) /content/WhatsApp Video 2025-05-22 at 12.15.03 PM.mp4: 384x640 17 teeths, 9.3ms\n",
            "video 1/1 (frame 351/728) /content/WhatsApp Video 2025-05-22 at 12.15.03 PM.mp4: 384x640 18 teeths, 11.8ms\n",
            "video 1/1 (frame 352/728) /content/WhatsApp Video 2025-05-22 at 12.15.03 PM.mp4: 384x640 16 teeths, 11.8ms\n",
            "video 1/1 (frame 353/728) /content/WhatsApp Video 2025-05-22 at 12.15.03 PM.mp4: 384x640 16 teeths, 13.8ms\n",
            "video 1/1 (frame 354/728) /content/WhatsApp Video 2025-05-22 at 12.15.03 PM.mp4: 384x640 18 teeths, 9.5ms\n",
            "video 1/1 (frame 355/728) /content/WhatsApp Video 2025-05-22 at 12.15.03 PM.mp4: 384x640 16 teeths, 9.3ms\n",
            "video 1/1 (frame 356/728) /content/WhatsApp Video 2025-05-22 at 12.15.03 PM.mp4: 384x640 17 teeths, 9.4ms\n",
            "video 1/1 (frame 357/728) /content/WhatsApp Video 2025-05-22 at 12.15.03 PM.mp4: 384x640 16 teeths, 17.6ms\n",
            "video 1/1 (frame 358/728) /content/WhatsApp Video 2025-05-22 at 12.15.03 PM.mp4: 384x640 17 teeths, 9.3ms\n",
            "video 1/1 (frame 359/728) /content/WhatsApp Video 2025-05-22 at 12.15.03 PM.mp4: 384x640 16 teeths, 16.1ms\n",
            "video 1/1 (frame 360/728) /content/WhatsApp Video 2025-05-22 at 12.15.03 PM.mp4: 384x640 16 teeths, 14.4ms\n",
            "video 1/1 (frame 361/728) /content/WhatsApp Video 2025-05-22 at 12.15.03 PM.mp4: 384x640 18 teeths, 11.7ms\n",
            "video 1/1 (frame 362/728) /content/WhatsApp Video 2025-05-22 at 12.15.03 PM.mp4: 384x640 19 teeths, 9.3ms\n",
            "video 1/1 (frame 363/728) /content/WhatsApp Video 2025-05-22 at 12.15.03 PM.mp4: 384x640 16 teeths, 9.3ms\n",
            "video 1/1 (frame 364/728) /content/WhatsApp Video 2025-05-22 at 12.15.03 PM.mp4: 384x640 17 teeths, 9.3ms\n",
            "video 1/1 (frame 365/728) /content/WhatsApp Video 2025-05-22 at 12.15.03 PM.mp4: 384x640 17 teeths, 11.1ms\n",
            "video 1/1 (frame 366/728) /content/WhatsApp Video 2025-05-22 at 12.15.03 PM.mp4: 384x640 17 teeths, 9.3ms\n",
            "video 1/1 (frame 367/728) /content/WhatsApp Video 2025-05-22 at 12.15.03 PM.mp4: 384x640 16 teeths, 11.2ms\n",
            "video 1/1 (frame 368/728) /content/WhatsApp Video 2025-05-22 at 12.15.03 PM.mp4: 384x640 17 teeths, 12.3ms\n",
            "video 1/1 (frame 369/728) /content/WhatsApp Video 2025-05-22 at 12.15.03 PM.mp4: 384x640 16 teeths, 9.3ms\n",
            "video 1/1 (frame 370/728) /content/WhatsApp Video 2025-05-22 at 12.15.03 PM.mp4: 384x640 16 teeths, 9.3ms\n",
            "video 1/1 (frame 371/728) /content/WhatsApp Video 2025-05-22 at 12.15.03 PM.mp4: 384x640 16 teeths, 9.3ms\n",
            "video 1/1 (frame 372/728) /content/WhatsApp Video 2025-05-22 at 12.15.03 PM.mp4: 384x640 18 teeths, 10.3ms\n",
            "video 1/1 (frame 373/728) /content/WhatsApp Video 2025-05-22 at 12.15.03 PM.mp4: 384x640 17 teeths, 10.0ms\n",
            "video 1/1 (frame 374/728) /content/WhatsApp Video 2025-05-22 at 12.15.03 PM.mp4: 384x640 16 teeths, 20.1ms\n",
            "video 1/1 (frame 375/728) /content/WhatsApp Video 2025-05-22 at 12.15.03 PM.mp4: 384x640 18 teeths, 9.4ms\n",
            "video 1/1 (frame 376/728) /content/WhatsApp Video 2025-05-22 at 12.15.03 PM.mp4: 384x640 17 teeths, 11.1ms\n",
            "video 1/1 (frame 377/728) /content/WhatsApp Video 2025-05-22 at 12.15.03 PM.mp4: 384x640 17 teeths, 9.3ms\n",
            "video 1/1 (frame 378/728) /content/WhatsApp Video 2025-05-22 at 12.15.03 PM.mp4: 384x640 19 teeths, 9.6ms\n",
            "video 1/1 (frame 379/728) /content/WhatsApp Video 2025-05-22 at 12.15.03 PM.mp4: 384x640 18 teeths, 9.7ms\n",
            "video 1/1 (frame 380/728) /content/WhatsApp Video 2025-05-22 at 12.15.03 PM.mp4: 384x640 17 teeths, 9.3ms\n",
            "video 1/1 (frame 381/728) /content/WhatsApp Video 2025-05-22 at 12.15.03 PM.mp4: 384x640 15 teeths, 9.4ms\n",
            "video 1/1 (frame 382/728) /content/WhatsApp Video 2025-05-22 at 12.15.03 PM.mp4: 384x640 16 teeths, 9.3ms\n",
            "video 1/1 (frame 383/728) /content/WhatsApp Video 2025-05-22 at 12.15.03 PM.mp4: 384x640 17 teeths, 9.3ms\n",
            "video 1/1 (frame 384/728) /content/WhatsApp Video 2025-05-22 at 12.15.03 PM.mp4: 384x640 16 teeths, 10.5ms\n",
            "video 1/1 (frame 385/728) /content/WhatsApp Video 2025-05-22 at 12.15.03 PM.mp4: 384x640 17 teeths, 11.2ms\n",
            "video 1/1 (frame 386/728) /content/WhatsApp Video 2025-05-22 at 12.15.03 PM.mp4: 384x640 16 teeths, 9.5ms\n",
            "video 1/1 (frame 387/728) /content/WhatsApp Video 2025-05-22 at 12.15.03 PM.mp4: 384x640 17 teeths, 9.7ms\n",
            "video 1/1 (frame 388/728) /content/WhatsApp Video 2025-05-22 at 12.15.03 PM.mp4: 384x640 17 teeths, 9.9ms\n",
            "video 1/1 (frame 389/728) /content/WhatsApp Video 2025-05-22 at 12.15.03 PM.mp4: 384x640 18 teeths, 9.3ms\n",
            "video 1/1 (frame 390/728) /content/WhatsApp Video 2025-05-22 at 12.15.03 PM.mp4: 384x640 18 teeths, 9.5ms\n",
            "video 1/1 (frame 391/728) /content/WhatsApp Video 2025-05-22 at 12.15.03 PM.mp4: 384x640 17 teeths, 12.6ms\n",
            "video 1/1 (frame 392/728) /content/WhatsApp Video 2025-05-22 at 12.15.03 PM.mp4: 384x640 17 teeths, 19.1ms\n",
            "video 1/1 (frame 393/728) /content/WhatsApp Video 2025-05-22 at 12.15.03 PM.mp4: 384x640 17 teeths, 13.5ms\n",
            "video 1/1 (frame 394/728) /content/WhatsApp Video 2025-05-22 at 12.15.03 PM.mp4: 384x640 18 teeths, 13.5ms\n",
            "video 1/1 (frame 395/728) /content/WhatsApp Video 2025-05-22 at 12.15.03 PM.mp4: 384x640 18 teeths, 11.0ms\n",
            "video 1/1 (frame 396/728) /content/WhatsApp Video 2025-05-22 at 12.15.03 PM.mp4: 384x640 17 teeths, 13.3ms\n",
            "video 1/1 (frame 397/728) /content/WhatsApp Video 2025-05-22 at 12.15.03 PM.mp4: 384x640 18 teeths, 11.5ms\n",
            "video 1/1 (frame 398/728) /content/WhatsApp Video 2025-05-22 at 12.15.03 PM.mp4: 384x640 18 teeths, 10.5ms\n",
            "video 1/1 (frame 399/728) /content/WhatsApp Video 2025-05-22 at 12.15.03 PM.mp4: 384x640 17 teeths, 11.3ms\n",
            "video 1/1 (frame 400/728) /content/WhatsApp Video 2025-05-22 at 12.15.03 PM.mp4: 384x640 17 teeths, 10.5ms\n",
            "video 1/1 (frame 401/728) /content/WhatsApp Video 2025-05-22 at 12.15.03 PM.mp4: 384x640 17 teeths, 13.8ms\n",
            "video 1/1 (frame 402/728) /content/WhatsApp Video 2025-05-22 at 12.15.03 PM.mp4: 384x640 17 teeths, 10.9ms\n",
            "video 1/1 (frame 403/728) /content/WhatsApp Video 2025-05-22 at 12.15.03 PM.mp4: 384x640 17 teeths, 12.4ms\n",
            "video 1/1 (frame 404/728) /content/WhatsApp Video 2025-05-22 at 12.15.03 PM.mp4: 384x640 19 teeths, 12.2ms\n",
            "video 1/1 (frame 405/728) /content/WhatsApp Video 2025-05-22 at 12.15.03 PM.mp4: 384x640 20 teeths, 11.4ms\n",
            "video 1/1 (frame 406/728) /content/WhatsApp Video 2025-05-22 at 12.15.03 PM.mp4: 384x640 19 teeths, 11.2ms\n",
            "video 1/1 (frame 407/728) /content/WhatsApp Video 2025-05-22 at 12.15.03 PM.mp4: 384x640 16 teeths, 12.8ms\n",
            "video 1/1 (frame 408/728) /content/WhatsApp Video 2025-05-22 at 12.15.03 PM.mp4: 384x640 18 teeths, 11.7ms\n",
            "video 1/1 (frame 409/728) /content/WhatsApp Video 2025-05-22 at 12.15.03 PM.mp4: 384x640 18 teeths, 11.9ms\n",
            "video 1/1 (frame 410/728) /content/WhatsApp Video 2025-05-22 at 12.15.03 PM.mp4: 384x640 18 teeths, 11.4ms\n",
            "video 1/1 (frame 411/728) /content/WhatsApp Video 2025-05-22 at 12.15.03 PM.mp4: 384x640 18 teeths, 13.5ms\n",
            "video 1/1 (frame 412/728) /content/WhatsApp Video 2025-05-22 at 12.15.03 PM.mp4: 384x640 17 teeths, 11.8ms\n",
            "video 1/1 (frame 413/728) /content/WhatsApp Video 2025-05-22 at 12.15.03 PM.mp4: 384x640 17 teeths, 12.4ms\n",
            "video 1/1 (frame 414/728) /content/WhatsApp Video 2025-05-22 at 12.15.03 PM.mp4: 384x640 17 teeths, 11.4ms\n",
            "video 1/1 (frame 415/728) /content/WhatsApp Video 2025-05-22 at 12.15.03 PM.mp4: 384x640 17 teeths, 13.4ms\n",
            "video 1/1 (frame 416/728) /content/WhatsApp Video 2025-05-22 at 12.15.03 PM.mp4: 384x640 16 teeths, 16.6ms\n",
            "video 1/1 (frame 417/728) /content/WhatsApp Video 2025-05-22 at 12.15.03 PM.mp4: 384x640 15 teeths, 10.8ms\n",
            "video 1/1 (frame 418/728) /content/WhatsApp Video 2025-05-22 at 12.15.03 PM.mp4: 384x640 17 teeths, 10.7ms\n",
            "video 1/1 (frame 419/728) /content/WhatsApp Video 2025-05-22 at 12.15.03 PM.mp4: 384x640 17 teeths, 10.7ms\n",
            "video 1/1 (frame 420/728) /content/WhatsApp Video 2025-05-22 at 12.15.03 PM.mp4: 384x640 16 teeths, 10.7ms\n",
            "video 1/1 (frame 421/728) /content/WhatsApp Video 2025-05-22 at 12.15.03 PM.mp4: 384x640 16 teeths, 10.7ms\n",
            "video 1/1 (frame 422/728) /content/WhatsApp Video 2025-05-22 at 12.15.03 PM.mp4: 384x640 18 teeths, 12.6ms\n",
            "video 1/1 (frame 423/728) /content/WhatsApp Video 2025-05-22 at 12.15.03 PM.mp4: 384x640 19 teeths, 11.6ms\n",
            "video 1/1 (frame 424/728) /content/WhatsApp Video 2025-05-22 at 12.15.03 PM.mp4: 384x640 18 teeths, 10.8ms\n",
            "video 1/1 (frame 425/728) /content/WhatsApp Video 2025-05-22 at 12.15.03 PM.mp4: 384x640 18 teeths, 10.7ms\n",
            "video 1/1 (frame 426/728) /content/WhatsApp Video 2025-05-22 at 12.15.03 PM.mp4: 384x640 17 teeths, 10.7ms\n",
            "video 1/1 (frame 427/728) /content/WhatsApp Video 2025-05-22 at 12.15.03 PM.mp4: 384x640 16 teeths, 10.7ms\n",
            "video 1/1 (frame 428/728) /content/WhatsApp Video 2025-05-22 at 12.15.03 PM.mp4: 384x640 17 teeths, 10.7ms\n",
            "video 1/1 (frame 429/728) /content/WhatsApp Video 2025-05-22 at 12.15.03 PM.mp4: 384x640 17 teeths, 11.3ms\n",
            "video 1/1 (frame 430/728) /content/WhatsApp Video 2025-05-22 at 12.15.03 PM.mp4: 384x640 18 teeths, 10.7ms\n",
            "video 1/1 (frame 431/728) /content/WhatsApp Video 2025-05-22 at 12.15.03 PM.mp4: 384x640 17 teeths, 10.7ms\n",
            "video 1/1 (frame 432/728) /content/WhatsApp Video 2025-05-22 at 12.15.03 PM.mp4: 384x640 18 teeths, 10.9ms\n",
            "video 1/1 (frame 433/728) /content/WhatsApp Video 2025-05-22 at 12.15.03 PM.mp4: 384x640 17 teeths, 13.9ms\n",
            "video 1/1 (frame 434/728) /content/WhatsApp Video 2025-05-22 at 12.15.03 PM.mp4: 384x640 17 teeths, 11.0ms\n",
            "video 1/1 (frame 435/728) /content/WhatsApp Video 2025-05-22 at 12.15.03 PM.mp4: 384x640 17 teeths, 11.1ms\n",
            "video 1/1 (frame 436/728) /content/WhatsApp Video 2025-05-22 at 12.15.03 PM.mp4: 384x640 17 teeths, 10.7ms\n",
            "video 1/1 (frame 437/728) /content/WhatsApp Video 2025-05-22 at 12.15.03 PM.mp4: 384x640 18 teeths, 10.7ms\n",
            "video 1/1 (frame 438/728) /content/WhatsApp Video 2025-05-22 at 12.15.03 PM.mp4: 384x640 16 teeths, 10.7ms\n",
            "video 1/1 (frame 439/728) /content/WhatsApp Video 2025-05-22 at 12.15.03 PM.mp4: 384x640 15 teeths, 10.7ms\n",
            "video 1/1 (frame 440/728) /content/WhatsApp Video 2025-05-22 at 12.15.03 PM.mp4: 384x640 15 teeths, 11.1ms\n",
            "video 1/1 (frame 441/728) /content/WhatsApp Video 2025-05-22 at 12.15.03 PM.mp4: 384x640 16 teeths, 10.7ms\n",
            "video 1/1 (frame 442/728) /content/WhatsApp Video 2025-05-22 at 12.15.03 PM.mp4: 384x640 17 teeths, 10.6ms\n",
            "video 1/1 (frame 443/728) /content/WhatsApp Video 2025-05-22 at 12.15.03 PM.mp4: 384x640 17 teeths, 10.7ms\n",
            "video 1/1 (frame 444/728) /content/WhatsApp Video 2025-05-22 at 12.15.03 PM.mp4: 384x640 17 teeths, 10.7ms\n",
            "video 1/1 (frame 445/728) /content/WhatsApp Video 2025-05-22 at 12.15.03 PM.mp4: 384x640 16 teeths, 12.2ms\n",
            "video 1/1 (frame 446/728) /content/WhatsApp Video 2025-05-22 at 12.15.03 PM.mp4: 384x640 18 teeths, 9.8ms\n",
            "video 1/1 (frame 447/728) /content/WhatsApp Video 2025-05-22 at 12.15.03 PM.mp4: 384x640 17 teeths, 9.8ms\n",
            "video 1/1 (frame 448/728) /content/WhatsApp Video 2025-05-22 at 12.15.03 PM.mp4: 384x640 16 teeths, 9.8ms\n",
            "video 1/1 (frame 449/728) /content/WhatsApp Video 2025-05-22 at 12.15.03 PM.mp4: 384x640 16 teeths, 9.8ms\n",
            "video 1/1 (frame 450/728) /content/WhatsApp Video 2025-05-22 at 12.15.03 PM.mp4: 384x640 17 teeths, 9.8ms\n",
            "video 1/1 (frame 451/728) /content/WhatsApp Video 2025-05-22 at 12.15.03 PM.mp4: 384x640 16 teeths, 9.8ms\n",
            "video 1/1 (frame 452/728) /content/WhatsApp Video 2025-05-22 at 12.15.03 PM.mp4: 384x640 18 teeths, 10.1ms\n",
            "video 1/1 (frame 453/728) /content/WhatsApp Video 2025-05-22 at 12.15.03 PM.mp4: 384x640 19 teeths, 9.8ms\n",
            "video 1/1 (frame 454/728) /content/WhatsApp Video 2025-05-22 at 12.15.03 PM.mp4: 384x640 19 teeths, 9.8ms\n",
            "video 1/1 (frame 455/728) /content/WhatsApp Video 2025-05-22 at 12.15.03 PM.mp4: 384x640 18 teeths, 9.8ms\n",
            "video 1/1 (frame 456/728) /content/WhatsApp Video 2025-05-22 at 12.15.03 PM.mp4: 384x640 17 teeths, 9.8ms\n",
            "video 1/1 (frame 457/728) /content/WhatsApp Video 2025-05-22 at 12.15.03 PM.mp4: 384x640 17 teeths, 9.8ms\n",
            "video 1/1 (frame 458/728) /content/WhatsApp Video 2025-05-22 at 12.15.03 PM.mp4: 384x640 18 teeths, 12.3ms\n",
            "video 1/1 (frame 459/728) /content/WhatsApp Video 2025-05-22 at 12.15.03 PM.mp4: 384x640 17 teeths, 10.4ms\n",
            "video 1/1 (frame 460/728) /content/WhatsApp Video 2025-05-22 at 12.15.03 PM.mp4: 384x640 20 teeths, 9.8ms\n",
            "video 1/1 (frame 461/728) /content/WhatsApp Video 2025-05-22 at 12.15.03 PM.mp4: 384x640 19 teeths, 9.9ms\n",
            "video 1/1 (frame 462/728) /content/WhatsApp Video 2025-05-22 at 12.15.03 PM.mp4: 384x640 20 teeths, 9.8ms\n",
            "video 1/1 (frame 463/728) /content/WhatsApp Video 2025-05-22 at 12.15.03 PM.mp4: 384x640 19 teeths, 9.8ms\n",
            "video 1/1 (frame 464/728) /content/WhatsApp Video 2025-05-22 at 12.15.03 PM.mp4: 384x640 18 teeths, 9.8ms\n",
            "video 1/1 (frame 465/728) /content/WhatsApp Video 2025-05-22 at 12.15.03 PM.mp4: 384x640 18 teeths, 9.8ms\n",
            "video 1/1 (frame 466/728) /content/WhatsApp Video 2025-05-22 at 12.15.03 PM.mp4: 384x640 19 teeths, 9.8ms\n",
            "video 1/1 (frame 467/728) /content/WhatsApp Video 2025-05-22 at 12.15.03 PM.mp4: 384x640 18 teeths, 9.8ms\n",
            "video 1/1 (frame 468/728) /content/WhatsApp Video 2025-05-22 at 12.15.03 PM.mp4: 384x640 17 teeths, 9.8ms\n",
            "video 1/1 (frame 469/728) /content/WhatsApp Video 2025-05-22 at 12.15.03 PM.mp4: 384x640 15 teeths, 9.8ms\n",
            "video 1/1 (frame 470/728) /content/WhatsApp Video 2025-05-22 at 12.15.03 PM.mp4: 384x640 17 teeths, 9.8ms\n",
            "video 1/1 (frame 471/728) /content/WhatsApp Video 2025-05-22 at 12.15.03 PM.mp4: 384x640 18 teeths, 9.8ms\n",
            "video 1/1 (frame 472/728) /content/WhatsApp Video 2025-05-22 at 12.15.03 PM.mp4: 384x640 18 teeths, 9.8ms\n",
            "video 1/1 (frame 473/728) /content/WhatsApp Video 2025-05-22 at 12.15.03 PM.mp4: 384x640 16 teeths, 9.8ms\n",
            "video 1/1 (frame 474/728) /content/WhatsApp Video 2025-05-22 at 12.15.03 PM.mp4: 384x640 16 teeths, 9.8ms\n",
            "video 1/1 (frame 475/728) /content/WhatsApp Video 2025-05-22 at 12.15.03 PM.mp4: 384x640 17 teeths, 9.6ms\n",
            "video 1/1 (frame 476/728) /content/WhatsApp Video 2025-05-22 at 12.15.03 PM.mp4: 384x640 17 teeths, 9.7ms\n",
            "video 1/1 (frame 477/728) /content/WhatsApp Video 2025-05-22 at 12.15.03 PM.mp4: 384x640 17 teeths, 9.6ms\n",
            "video 1/1 (frame 478/728) /content/WhatsApp Video 2025-05-22 at 12.15.03 PM.mp4: 384x640 17 teeths, 9.6ms\n",
            "video 1/1 (frame 479/728) /content/WhatsApp Video 2025-05-22 at 12.15.03 PM.mp4: 384x640 18 teeths, 9.8ms\n",
            "video 1/1 (frame 480/728) /content/WhatsApp Video 2025-05-22 at 12.15.03 PM.mp4: 384x640 17 teeths, 9.6ms\n",
            "video 1/1 (frame 481/728) /content/WhatsApp Video 2025-05-22 at 12.15.03 PM.mp4: 384x640 16 teeths, 9.6ms\n",
            "video 1/1 (frame 482/728) /content/WhatsApp Video 2025-05-22 at 12.15.03 PM.mp4: 384x640 18 teeths, 9.6ms\n",
            "video 1/1 (frame 483/728) /content/WhatsApp Video 2025-05-22 at 12.15.03 PM.mp4: 384x640 18 teeths, 9.6ms\n",
            "video 1/1 (frame 484/728) /content/WhatsApp Video 2025-05-22 at 12.15.03 PM.mp4: 384x640 15 teeths, 9.7ms\n",
            "video 1/1 (frame 485/728) /content/WhatsApp Video 2025-05-22 at 12.15.03 PM.mp4: 384x640 19 teeths, 9.6ms\n",
            "video 1/1 (frame 486/728) /content/WhatsApp Video 2025-05-22 at 12.15.03 PM.mp4: 384x640 16 teeths, 9.6ms\n",
            "video 1/1 (frame 487/728) /content/WhatsApp Video 2025-05-22 at 12.15.03 PM.mp4: 384x640 17 teeths, 9.6ms\n",
            "video 1/1 (frame 488/728) /content/WhatsApp Video 2025-05-22 at 12.15.03 PM.mp4: 384x640 17 teeths, 9.7ms\n",
            "video 1/1 (frame 489/728) /content/WhatsApp Video 2025-05-22 at 12.15.03 PM.mp4: 384x640 17 teeths, 9.7ms\n",
            "video 1/1 (frame 490/728) /content/WhatsApp Video 2025-05-22 at 12.15.03 PM.mp4: 384x640 16 teeths, 11.2ms\n",
            "video 1/1 (frame 491/728) /content/WhatsApp Video 2025-05-22 at 12.15.03 PM.mp4: 384x640 17 teeths, 9.6ms\n",
            "video 1/1 (frame 492/728) /content/WhatsApp Video 2025-05-22 at 12.15.03 PM.mp4: 384x640 18 teeths, 9.6ms\n",
            "video 1/1 (frame 493/728) /content/WhatsApp Video 2025-05-22 at 12.15.03 PM.mp4: 384x640 18 teeths, 9.6ms\n",
            "video 1/1 (frame 494/728) /content/WhatsApp Video 2025-05-22 at 12.15.03 PM.mp4: 384x640 18 teeths, 9.7ms\n",
            "video 1/1 (frame 495/728) /content/WhatsApp Video 2025-05-22 at 12.15.03 PM.mp4: 384x640 17 teeths, 9.7ms\n",
            "video 1/1 (frame 496/728) /content/WhatsApp Video 2025-05-22 at 12.15.03 PM.mp4: 384x640 19 teeths, 9.7ms\n",
            "video 1/1 (frame 497/728) /content/WhatsApp Video 2025-05-22 at 12.15.03 PM.mp4: 384x640 18 teeths, 13.1ms\n",
            "video 1/1 (frame 498/728) /content/WhatsApp Video 2025-05-22 at 12.15.03 PM.mp4: 384x640 20 teeths, 9.7ms\n",
            "video 1/1 (frame 499/728) /content/WhatsApp Video 2025-05-22 at 12.15.03 PM.mp4: 384x640 19 teeths, 9.7ms\n",
            "video 1/1 (frame 500/728) /content/WhatsApp Video 2025-05-22 at 12.15.03 PM.mp4: 384x640 16 teeths, 9.8ms\n",
            "video 1/1 (frame 501/728) /content/WhatsApp Video 2025-05-22 at 12.15.03 PM.mp4: 384x640 18 teeths, 9.7ms\n",
            "video 1/1 (frame 502/728) /content/WhatsApp Video 2025-05-22 at 12.15.03 PM.mp4: 384x640 14 teeths, 9.7ms\n",
            "video 1/1 (frame 503/728) /content/WhatsApp Video 2025-05-22 at 12.15.03 PM.mp4: 384x640 15 teeths, 9.6ms\n",
            "video 1/1 (frame 504/728) /content/WhatsApp Video 2025-05-22 at 12.15.03 PM.mp4: 384x640 17 teeths, 9.6ms\n",
            "video 1/1 (frame 505/728) /content/WhatsApp Video 2025-05-22 at 12.15.03 PM.mp4: 384x640 18 teeths, 9.6ms\n",
            "video 1/1 (frame 506/728) /content/WhatsApp Video 2025-05-22 at 12.15.03 PM.mp4: 384x640 18 teeths, 9.6ms\n",
            "video 1/1 (frame 507/728) /content/WhatsApp Video 2025-05-22 at 12.15.03 PM.mp4: 384x640 17 teeths, 9.6ms\n",
            "video 1/1 (frame 508/728) /content/WhatsApp Video 2025-05-22 at 12.15.03 PM.mp4: 384x640 17 teeths, 9.6ms\n",
            "video 1/1 (frame 509/728) /content/WhatsApp Video 2025-05-22 at 12.15.03 PM.mp4: 384x640 16 teeths, 9.7ms\n",
            "video 1/1 (frame 510/728) /content/WhatsApp Video 2025-05-22 at 12.15.03 PM.mp4: 384x640 17 teeths, 9.6ms\n",
            "video 1/1 (frame 511/728) /content/WhatsApp Video 2025-05-22 at 12.15.03 PM.mp4: 384x640 16 teeths, 10.0ms\n",
            "video 1/1 (frame 512/728) /content/WhatsApp Video 2025-05-22 at 12.15.03 PM.mp4: 384x640 16 teeths, 11.9ms\n",
            "video 1/1 (frame 513/728) /content/WhatsApp Video 2025-05-22 at 12.15.03 PM.mp4: 384x640 16 teeths, 9.6ms\n",
            "video 1/1 (frame 514/728) /content/WhatsApp Video 2025-05-22 at 12.15.03 PM.mp4: 384x640 17 teeths, 9.9ms\n",
            "video 1/1 (frame 515/728) /content/WhatsApp Video 2025-05-22 at 12.15.03 PM.mp4: 384x640 17 teeths, 9.6ms\n",
            "video 1/1 (frame 516/728) /content/WhatsApp Video 2025-05-22 at 12.15.03 PM.mp4: 384x640 16 teeths, 9.6ms\n",
            "video 1/1 (frame 517/728) /content/WhatsApp Video 2025-05-22 at 12.15.03 PM.mp4: 384x640 18 teeths, 9.6ms\n",
            "video 1/1 (frame 518/728) /content/WhatsApp Video 2025-05-22 at 12.15.03 PM.mp4: 384x640 18 teeths, 9.8ms\n",
            "video 1/1 (frame 519/728) /content/WhatsApp Video 2025-05-22 at 12.15.03 PM.mp4: 384x640 18 teeths, 9.6ms\n",
            "video 1/1 (frame 520/728) /content/WhatsApp Video 2025-05-22 at 12.15.03 PM.mp4: 384x640 16 teeths, 9.5ms\n",
            "video 1/1 (frame 521/728) /content/WhatsApp Video 2025-05-22 at 12.15.03 PM.mp4: 384x640 18 teeths, 9.4ms\n",
            "video 1/1 (frame 522/728) /content/WhatsApp Video 2025-05-22 at 12.15.03 PM.mp4: 384x640 19 teeths, 9.4ms\n",
            "video 1/1 (frame 523/728) /content/WhatsApp Video 2025-05-22 at 12.15.03 PM.mp4: 384x640 18 teeths, 9.4ms\n",
            "video 1/1 (frame 524/728) /content/WhatsApp Video 2025-05-22 at 12.15.03 PM.mp4: 384x640 17 teeths, 10.6ms\n",
            "video 1/1 (frame 525/728) /content/WhatsApp Video 2025-05-22 at 12.15.03 PM.mp4: 384x640 17 teeths, 9.4ms\n",
            "video 1/1 (frame 526/728) /content/WhatsApp Video 2025-05-22 at 12.15.03 PM.mp4: 384x640 18 teeths, 9.4ms\n",
            "video 1/1 (frame 527/728) /content/WhatsApp Video 2025-05-22 at 12.15.03 PM.mp4: 384x640 16 teeths, 9.6ms\n",
            "video 1/1 (frame 528/728) /content/WhatsApp Video 2025-05-22 at 12.15.03 PM.mp4: 384x640 15 teeths, 9.4ms\n",
            "video 1/1 (frame 529/728) /content/WhatsApp Video 2025-05-22 at 12.15.03 PM.mp4: 384x640 18 teeths, 10.0ms\n",
            "video 1/1 (frame 530/728) /content/WhatsApp Video 2025-05-22 at 12.15.03 PM.mp4: 384x640 16 teeths, 9.5ms\n",
            "video 1/1 (frame 531/728) /content/WhatsApp Video 2025-05-22 at 12.15.03 PM.mp4: 384x640 18 teeths, 9.5ms\n",
            "video 1/1 (frame 532/728) /content/WhatsApp Video 2025-05-22 at 12.15.03 PM.mp4: 384x640 19 teeths, 9.4ms\n",
            "video 1/1 (frame 533/728) /content/WhatsApp Video 2025-05-22 at 12.15.03 PM.mp4: 384x640 18 teeths, 9.4ms\n",
            "video 1/1 (frame 534/728) /content/WhatsApp Video 2025-05-22 at 12.15.03 PM.mp4: 384x640 16 teeths, 9.4ms\n",
            "video 1/1 (frame 535/728) /content/WhatsApp Video 2025-05-22 at 12.15.03 PM.mp4: 384x640 17 teeths, 9.5ms\n",
            "video 1/1 (frame 536/728) /content/WhatsApp Video 2025-05-22 at 12.15.03 PM.mp4: 384x640 16 teeths, 9.9ms\n",
            "video 1/1 (frame 537/728) /content/WhatsApp Video 2025-05-22 at 12.15.03 PM.mp4: 384x640 18 teeths, 11.3ms\n",
            "video 1/1 (frame 538/728) /content/WhatsApp Video 2025-05-22 at 12.15.03 PM.mp4: 384x640 17 teeths, 9.5ms\n",
            "video 1/1 (frame 539/728) /content/WhatsApp Video 2025-05-22 at 12.15.03 PM.mp4: 384x640 17 teeths, 9.5ms\n",
            "video 1/1 (frame 540/728) /content/WhatsApp Video 2025-05-22 at 12.15.03 PM.mp4: 384x640 16 teeths, 9.4ms\n",
            "video 1/1 (frame 541/728) /content/WhatsApp Video 2025-05-22 at 12.15.03 PM.mp4: 384x640 15 teeths, 9.4ms\n",
            "video 1/1 (frame 542/728) /content/WhatsApp Video 2025-05-22 at 12.15.03 PM.mp4: 384x640 18 teeths, 9.4ms\n",
            "video 1/1 (frame 543/728) /content/WhatsApp Video 2025-05-22 at 12.15.03 PM.mp4: 384x640 19 teeths, 9.5ms\n",
            "video 1/1 (frame 544/728) /content/WhatsApp Video 2025-05-22 at 12.15.03 PM.mp4: 384x640 19 teeths, 9.5ms\n",
            "video 1/1 (frame 545/728) /content/WhatsApp Video 2025-05-22 at 12.15.03 PM.mp4: 384x640 16 teeths, 9.4ms\n",
            "video 1/1 (frame 546/728) /content/WhatsApp Video 2025-05-22 at 12.15.03 PM.mp4: 384x640 16 teeths, 9.4ms\n",
            "video 1/1 (frame 547/728) /content/WhatsApp Video 2025-05-22 at 12.15.03 PM.mp4: 384x640 16 teeths, 9.4ms\n",
            "video 1/1 (frame 548/728) /content/WhatsApp Video 2025-05-22 at 12.15.03 PM.mp4: 384x640 18 teeths, 9.4ms\n",
            "video 1/1 (frame 549/728) /content/WhatsApp Video 2025-05-22 at 12.15.03 PM.mp4: 384x640 18 teeths, 9.7ms\n",
            "video 1/1 (frame 550/728) /content/WhatsApp Video 2025-05-22 at 12.15.03 PM.mp4: 384x640 18 teeths, 9.4ms\n",
            "video 1/1 (frame 551/728) /content/WhatsApp Video 2025-05-22 at 12.15.03 PM.mp4: 384x640 19 teeths, 9.4ms\n",
            "video 1/1 (frame 552/728) /content/WhatsApp Video 2025-05-22 at 12.15.03 PM.mp4: 384x640 15 teeths, 9.5ms\n",
            "video 1/1 (frame 553/728) /content/WhatsApp Video 2025-05-22 at 12.15.03 PM.mp4: 384x640 16 teeths, 9.4ms\n",
            "video 1/1 (frame 554/728) /content/WhatsApp Video 2025-05-22 at 12.15.03 PM.mp4: 384x640 19 teeths, 9.4ms\n",
            "video 1/1 (frame 555/728) /content/WhatsApp Video 2025-05-22 at 12.15.03 PM.mp4: 384x640 17 teeths, 9.4ms\n",
            "video 1/1 (frame 556/728) /content/WhatsApp Video 2025-05-22 at 12.15.03 PM.mp4: 384x640 17 teeths, 9.4ms\n",
            "video 1/1 (frame 557/728) /content/WhatsApp Video 2025-05-22 at 12.15.03 PM.mp4: 384x640 17 teeths, 9.4ms\n",
            "video 1/1 (frame 558/728) /content/WhatsApp Video 2025-05-22 at 12.15.03 PM.mp4: 384x640 17 teeths, 9.6ms\n",
            "video 1/1 (frame 559/728) /content/WhatsApp Video 2025-05-22 at 12.15.03 PM.mp4: 384x640 20 teeths, 9.5ms\n",
            "video 1/1 (frame 560/728) /content/WhatsApp Video 2025-05-22 at 12.15.03 PM.mp4: 384x640 16 teeths, 9.5ms\n",
            "video 1/1 (frame 561/728) /content/WhatsApp Video 2025-05-22 at 12.15.03 PM.mp4: 384x640 17 teeths, 9.5ms\n",
            "video 1/1 (frame 562/728) /content/WhatsApp Video 2025-05-22 at 12.15.03 PM.mp4: 384x640 17 teeths, 9.4ms\n",
            "video 1/1 (frame 563/728) /content/WhatsApp Video 2025-05-22 at 12.15.03 PM.mp4: 384x640 18 teeths, 9.4ms\n",
            "video 1/1 (frame 564/728) /content/WhatsApp Video 2025-05-22 at 12.15.03 PM.mp4: 384x640 19 teeths, 9.4ms\n",
            "video 1/1 (frame 565/728) /content/WhatsApp Video 2025-05-22 at 12.15.03 PM.mp4: 384x640 18 teeths, 9.5ms\n",
            "video 1/1 (frame 566/728) /content/WhatsApp Video 2025-05-22 at 12.15.03 PM.mp4: 384x640 17 teeths, 9.5ms\n",
            "video 1/1 (frame 567/728) /content/WhatsApp Video 2025-05-22 at 12.15.03 PM.mp4: 384x640 16 teeths, 9.4ms\n",
            "video 1/1 (frame 568/728) /content/WhatsApp Video 2025-05-22 at 12.15.03 PM.mp4: 384x640 15 teeths, 9.4ms\n",
            "video 1/1 (frame 569/728) /content/WhatsApp Video 2025-05-22 at 12.15.03 PM.mp4: 384x640 16 teeths, 9.4ms\n",
            "video 1/1 (frame 570/728) /content/WhatsApp Video 2025-05-22 at 12.15.03 PM.mp4: 384x640 17 teeths, 9.5ms\n",
            "video 1/1 (frame 571/728) /content/WhatsApp Video 2025-05-22 at 12.15.03 PM.mp4: 384x640 19 teeths, 9.5ms\n",
            "video 1/1 (frame 572/728) /content/WhatsApp Video 2025-05-22 at 12.15.03 PM.mp4: 384x640 19 teeths, 9.4ms\n",
            "video 1/1 (frame 573/728) /content/WhatsApp Video 2025-05-22 at 12.15.03 PM.mp4: 384x640 17 teeths, 9.4ms\n",
            "video 1/1 (frame 574/728) /content/WhatsApp Video 2025-05-22 at 12.15.03 PM.mp4: 384x640 17 teeths, 9.5ms\n",
            "video 1/1 (frame 575/728) /content/WhatsApp Video 2025-05-22 at 12.15.03 PM.mp4: 384x640 16 teeths, 9.4ms\n",
            "video 1/1 (frame 576/728) /content/WhatsApp Video 2025-05-22 at 12.15.03 PM.mp4: 384x640 15 teeths, 9.5ms\n",
            "video 1/1 (frame 577/728) /content/WhatsApp Video 2025-05-22 at 12.15.03 PM.mp4: 384x640 17 teeths, 11.4ms\n",
            "video 1/1 (frame 578/728) /content/WhatsApp Video 2025-05-22 at 12.15.03 PM.mp4: 384x640 16 teeths, 9.4ms\n",
            "video 1/1 (frame 579/728) /content/WhatsApp Video 2025-05-22 at 12.15.03 PM.mp4: 384x640 15 teeths, 10.0ms\n",
            "video 1/1 (frame 580/728) /content/WhatsApp Video 2025-05-22 at 12.15.03 PM.mp4: 384x640 16 teeths, 9.4ms\n",
            "video 1/1 (frame 581/728) /content/WhatsApp Video 2025-05-22 at 12.15.03 PM.mp4: 384x640 16 teeths, 9.5ms\n",
            "video 1/1 (frame 582/728) /content/WhatsApp Video 2025-05-22 at 12.15.03 PM.mp4: 384x640 19 teeths, 9.4ms\n",
            "video 1/1 (frame 583/728) /content/WhatsApp Video 2025-05-22 at 12.15.03 PM.mp4: 384x640 15 teeths, 9.4ms\n",
            "video 1/1 (frame 584/728) /content/WhatsApp Video 2025-05-22 at 12.15.03 PM.mp4: 384x640 17 teeths, 9.4ms\n",
            "video 1/1 (frame 585/728) /content/WhatsApp Video 2025-05-22 at 12.15.03 PM.mp4: 384x640 17 teeths, 9.5ms\n",
            "video 1/1 (frame 586/728) /content/WhatsApp Video 2025-05-22 at 12.15.03 PM.mp4: 384x640 16 teeths, 9.4ms\n",
            "video 1/1 (frame 587/728) /content/WhatsApp Video 2025-05-22 at 12.15.03 PM.mp4: 384x640 17 teeths, 9.4ms\n",
            "video 1/1 (frame 588/728) /content/WhatsApp Video 2025-05-22 at 12.15.03 PM.mp4: 384x640 18 teeths, 9.4ms\n",
            "video 1/1 (frame 589/728) /content/WhatsApp Video 2025-05-22 at 12.15.03 PM.mp4: 384x640 18 teeths, 9.6ms\n",
            "video 1/1 (frame 590/728) /content/WhatsApp Video 2025-05-22 at 12.15.03 PM.mp4: 384x640 16 teeths, 9.5ms\n",
            "video 1/1 (frame 591/728) /content/WhatsApp Video 2025-05-22 at 12.15.03 PM.mp4: 384x640 17 teeths, 9.4ms\n",
            "video 1/1 (frame 592/728) /content/WhatsApp Video 2025-05-22 at 12.15.03 PM.mp4: 384x640 20 teeths, 9.5ms\n",
            "video 1/1 (frame 593/728) /content/WhatsApp Video 2025-05-22 at 12.15.03 PM.mp4: 384x640 17 teeths, 9.4ms\n",
            "video 1/1 (frame 594/728) /content/WhatsApp Video 2025-05-22 at 12.15.03 PM.mp4: 384x640 17 teeths, 9.4ms\n",
            "video 1/1 (frame 595/728) /content/WhatsApp Video 2025-05-22 at 12.15.03 PM.mp4: 384x640 17 teeths, 9.4ms\n",
            "video 1/1 (frame 596/728) /content/WhatsApp Video 2025-05-22 at 12.15.03 PM.mp4: 384x640 16 teeths, 9.5ms\n",
            "video 1/1 (frame 597/728) /content/WhatsApp Video 2025-05-22 at 12.15.03 PM.mp4: 384x640 16 teeths, 9.4ms\n",
            "video 1/1 (frame 598/728) /content/WhatsApp Video 2025-05-22 at 12.15.03 PM.mp4: 384x640 17 teeths, 9.5ms\n",
            "video 1/1 (frame 599/728) /content/WhatsApp Video 2025-05-22 at 12.15.03 PM.mp4: 384x640 16 teeths, 9.5ms\n",
            "video 1/1 (frame 600/728) /content/WhatsApp Video 2025-05-22 at 12.15.03 PM.mp4: 384x640 16 teeths, 9.5ms\n",
            "video 1/1 (frame 601/728) /content/WhatsApp Video 2025-05-22 at 12.15.03 PM.mp4: 384x640 18 teeths, 9.5ms\n",
            "video 1/1 (frame 602/728) /content/WhatsApp Video 2025-05-22 at 12.15.03 PM.mp4: 384x640 18 teeths, 9.4ms\n",
            "video 1/1 (frame 603/728) /content/WhatsApp Video 2025-05-22 at 12.15.03 PM.mp4: 384x640 17 teeths, 9.4ms\n",
            "video 1/1 (frame 604/728) /content/WhatsApp Video 2025-05-22 at 12.15.03 PM.mp4: 384x640 18 teeths, 9.4ms\n",
            "video 1/1 (frame 605/728) /content/WhatsApp Video 2025-05-22 at 12.15.03 PM.mp4: 384x640 17 teeths, 9.5ms\n",
            "video 1/1 (frame 606/728) /content/WhatsApp Video 2025-05-22 at 12.15.03 PM.mp4: 384x640 18 teeths, 9.7ms\n",
            "video 1/1 (frame 607/728) /content/WhatsApp Video 2025-05-22 at 12.15.03 PM.mp4: 384x640 15 teeths, 9.6ms\n",
            "video 1/1 (frame 608/728) /content/WhatsApp Video 2025-05-22 at 12.15.03 PM.mp4: 384x640 16 teeths, 9.6ms\n",
            "video 1/1 (frame 609/728) /content/WhatsApp Video 2025-05-22 at 12.15.03 PM.mp4: 384x640 17 teeths, 9.7ms\n",
            "video 1/1 (frame 610/728) /content/WhatsApp Video 2025-05-22 at 12.15.03 PM.mp4: 384x640 16 teeths, 9.6ms\n",
            "video 1/1 (frame 611/728) /content/WhatsApp Video 2025-05-22 at 12.15.03 PM.mp4: 384x640 18 teeths, 9.6ms\n",
            "video 1/1 (frame 612/728) /content/WhatsApp Video 2025-05-22 at 12.15.03 PM.mp4: 384x640 17 teeths, 9.6ms\n",
            "video 1/1 (frame 613/728) /content/WhatsApp Video 2025-05-22 at 12.15.03 PM.mp4: 384x640 18 teeths, 9.6ms\n",
            "video 1/1 (frame 614/728) /content/WhatsApp Video 2025-05-22 at 12.15.03 PM.mp4: 384x640 17 teeths, 9.5ms\n",
            "video 1/1 (frame 615/728) /content/WhatsApp Video 2025-05-22 at 12.15.03 PM.mp4: 384x640 17 teeths, 9.5ms\n",
            "video 1/1 (frame 616/728) /content/WhatsApp Video 2025-05-22 at 12.15.03 PM.mp4: 384x640 17 teeths, 9.4ms\n",
            "video 1/1 (frame 617/728) /content/WhatsApp Video 2025-05-22 at 12.15.03 PM.mp4: 384x640 15 teeths, 12.3ms\n",
            "video 1/1 (frame 618/728) /content/WhatsApp Video 2025-05-22 at 12.15.03 PM.mp4: 384x640 18 teeths, 9.4ms\n",
            "video 1/1 (frame 619/728) /content/WhatsApp Video 2025-05-22 at 12.15.03 PM.mp4: 384x640 17 teeths, 9.4ms\n",
            "video 1/1 (frame 620/728) /content/WhatsApp Video 2025-05-22 at 12.15.03 PM.mp4: 384x640 17 teeths, 9.4ms\n",
            "video 1/1 (frame 621/728) /content/WhatsApp Video 2025-05-22 at 12.15.03 PM.mp4: 384x640 17 teeths, 9.4ms\n",
            "video 1/1 (frame 622/728) /content/WhatsApp Video 2025-05-22 at 12.15.03 PM.mp4: 384x640 17 teeths, 9.4ms\n",
            "video 1/1 (frame 623/728) /content/WhatsApp Video 2025-05-22 at 12.15.03 PM.mp4: 384x640 17 teeths, 9.4ms\n",
            "video 1/1 (frame 624/728) /content/WhatsApp Video 2025-05-22 at 12.15.03 PM.mp4: 384x640 17 teeths, 9.5ms\n",
            "video 1/1 (frame 625/728) /content/WhatsApp Video 2025-05-22 at 12.15.03 PM.mp4: 384x640 15 teeths, 9.5ms\n",
            "video 1/1 (frame 626/728) /content/WhatsApp Video 2025-05-22 at 12.15.03 PM.mp4: 384x640 17 teeths, 9.4ms\n",
            "video 1/1 (frame 627/728) /content/WhatsApp Video 2025-05-22 at 12.15.03 PM.mp4: 384x640 15 teeths, 9.5ms\n",
            "video 1/1 (frame 628/728) /content/WhatsApp Video 2025-05-22 at 12.15.03 PM.mp4: 384x640 16 teeths, 9.5ms\n",
            "video 1/1 (frame 629/728) /content/WhatsApp Video 2025-05-22 at 12.15.03 PM.mp4: 384x640 19 teeths, 9.5ms\n",
            "video 1/1 (frame 630/728) /content/WhatsApp Video 2025-05-22 at 12.15.03 PM.mp4: 384x640 18 teeths, 9.5ms\n",
            "video 1/1 (frame 631/728) /content/WhatsApp Video 2025-05-22 at 12.15.03 PM.mp4: 384x640 16 teeths, 9.5ms\n",
            "video 1/1 (frame 632/728) /content/WhatsApp Video 2025-05-22 at 12.15.03 PM.mp4: 384x640 18 teeths, 9.4ms\n",
            "video 1/1 (frame 633/728) /content/WhatsApp Video 2025-05-22 at 12.15.03 PM.mp4: 384x640 18 teeths, 9.4ms\n",
            "video 1/1 (frame 634/728) /content/WhatsApp Video 2025-05-22 at 12.15.03 PM.mp4: 384x640 17 teeths, 9.4ms\n",
            "video 1/1 (frame 635/728) /content/WhatsApp Video 2025-05-22 at 12.15.03 PM.mp4: 384x640 17 teeths, 9.4ms\n",
            "video 1/1 (frame 636/728) /content/WhatsApp Video 2025-05-22 at 12.15.03 PM.mp4: 384x640 18 teeths, 9.4ms\n",
            "video 1/1 (frame 637/728) /content/WhatsApp Video 2025-05-22 at 12.15.03 PM.mp4: 384x640 17 teeths, 9.5ms\n",
            "video 1/1 (frame 638/728) /content/WhatsApp Video 2025-05-22 at 12.15.03 PM.mp4: 384x640 16 teeths, 9.4ms\n",
            "video 1/1 (frame 639/728) /content/WhatsApp Video 2025-05-22 at 12.15.03 PM.mp4: 384x640 18 teeths, 9.5ms\n",
            "video 1/1 (frame 640/728) /content/WhatsApp Video 2025-05-22 at 12.15.03 PM.mp4: 384x640 16 teeths, 9.7ms\n",
            "video 1/1 (frame 641/728) /content/WhatsApp Video 2025-05-22 at 12.15.03 PM.mp4: 384x640 16 teeths, 9.4ms\n",
            "video 1/1 (frame 642/728) /content/WhatsApp Video 2025-05-22 at 12.15.03 PM.mp4: 384x640 16 teeths, 9.4ms\n",
            "video 1/1 (frame 643/728) /content/WhatsApp Video 2025-05-22 at 12.15.03 PM.mp4: 384x640 17 teeths, 9.5ms\n",
            "video 1/1 (frame 644/728) /content/WhatsApp Video 2025-05-22 at 12.15.03 PM.mp4: 384x640 16 teeths, 9.4ms\n",
            "video 1/1 (frame 645/728) /content/WhatsApp Video 2025-05-22 at 12.15.03 PM.mp4: 384x640 16 teeths, 9.5ms\n",
            "video 1/1 (frame 646/728) /content/WhatsApp Video 2025-05-22 at 12.15.03 PM.mp4: 384x640 16 teeths, 9.4ms\n",
            "video 1/1 (frame 647/728) /content/WhatsApp Video 2025-05-22 at 12.15.03 PM.mp4: 384x640 16 teeths, 9.8ms\n",
            "video 1/1 (frame 648/728) /content/WhatsApp Video 2025-05-22 at 12.15.03 PM.mp4: 384x640 17 teeths, 9.5ms\n",
            "video 1/1 (frame 649/728) /content/WhatsApp Video 2025-05-22 at 12.15.03 PM.mp4: 384x640 16 teeths, 9.5ms\n",
            "video 1/1 (frame 650/728) /content/WhatsApp Video 2025-05-22 at 12.15.03 PM.mp4: 384x640 16 teeths, 9.5ms\n",
            "video 1/1 (frame 651/728) /content/WhatsApp Video 2025-05-22 at 12.15.03 PM.mp4: 384x640 17 teeths, 9.5ms\n",
            "video 1/1 (frame 652/728) /content/WhatsApp Video 2025-05-22 at 12.15.03 PM.mp4: 384x640 17 teeths, 9.4ms\n",
            "video 1/1 (frame 653/728) /content/WhatsApp Video 2025-05-22 at 12.15.03 PM.mp4: 384x640 17 teeths, 9.5ms\n",
            "video 1/1 (frame 654/728) /content/WhatsApp Video 2025-05-22 at 12.15.03 PM.mp4: 384x640 18 teeths, 9.4ms\n",
            "video 1/1 (frame 655/728) /content/WhatsApp Video 2025-05-22 at 12.15.03 PM.mp4: 384x640 19 teeths, 9.5ms\n",
            "video 1/1 (frame 656/728) /content/WhatsApp Video 2025-05-22 at 12.15.03 PM.mp4: 384x640 18 teeths, 9.4ms\n",
            "video 1/1 (frame 657/728) /content/WhatsApp Video 2025-05-22 at 12.15.03 PM.mp4: 384x640 17 teeths, 13.8ms\n",
            "video 1/1 (frame 658/728) /content/WhatsApp Video 2025-05-22 at 12.15.03 PM.mp4: 384x640 17 teeths, 9.4ms\n",
            "video 1/1 (frame 659/728) /content/WhatsApp Video 2025-05-22 at 12.15.03 PM.mp4: 384x640 17 teeths, 9.5ms\n",
            "video 1/1 (frame 660/728) /content/WhatsApp Video 2025-05-22 at 12.15.03 PM.mp4: 384x640 17 teeths, 9.4ms\n",
            "video 1/1 (frame 661/728) /content/WhatsApp Video 2025-05-22 at 12.15.03 PM.mp4: 384x640 18 teeths, 9.6ms\n",
            "video 1/1 (frame 662/728) /content/WhatsApp Video 2025-05-22 at 12.15.03 PM.mp4: 384x640 18 teeths, 9.5ms\n",
            "video 1/1 (frame 663/728) /content/WhatsApp Video 2025-05-22 at 12.15.03 PM.mp4: 384x640 18 teeths, 10.0ms\n",
            "video 1/1 (frame 664/728) /content/WhatsApp Video 2025-05-22 at 12.15.03 PM.mp4: 384x640 17 teeths, 9.4ms\n",
            "video 1/1 (frame 665/728) /content/WhatsApp Video 2025-05-22 at 12.15.03 PM.mp4: 384x640 17 teeths, 9.5ms\n",
            "video 1/1 (frame 666/728) /content/WhatsApp Video 2025-05-22 at 12.15.03 PM.mp4: 384x640 17 teeths, 9.5ms\n",
            "video 1/1 (frame 667/728) /content/WhatsApp Video 2025-05-22 at 12.15.03 PM.mp4: 384x640 17 teeths, 9.4ms\n",
            "video 1/1 (frame 668/728) /content/WhatsApp Video 2025-05-22 at 12.15.03 PM.mp4: 384x640 17 teeths, 9.5ms\n",
            "video 1/1 (frame 669/728) /content/WhatsApp Video 2025-05-22 at 12.15.03 PM.mp4: 384x640 16 teeths, 9.8ms\n",
            "video 1/1 (frame 670/728) /content/WhatsApp Video 2025-05-22 at 12.15.03 PM.mp4: 384x640 16 teeths, 9.7ms\n",
            "video 1/1 (frame 671/728) /content/WhatsApp Video 2025-05-22 at 12.15.03 PM.mp4: 384x640 17 teeths, 9.6ms\n",
            "video 1/1 (frame 672/728) /content/WhatsApp Video 2025-05-22 at 12.15.03 PM.mp4: 384x640 16 teeths, 9.5ms\n",
            "video 1/1 (frame 673/728) /content/WhatsApp Video 2025-05-22 at 12.15.03 PM.mp4: 384x640 17 teeths, 9.6ms\n",
            "video 1/1 (frame 674/728) /content/WhatsApp Video 2025-05-22 at 12.15.03 PM.mp4: 384x640 18 teeths, 9.4ms\n",
            "video 1/1 (frame 675/728) /content/WhatsApp Video 2025-05-22 at 12.15.03 PM.mp4: 384x640 18 teeths, 9.4ms\n",
            "video 1/1 (frame 676/728) /content/WhatsApp Video 2025-05-22 at 12.15.03 PM.mp4: 384x640 17 teeths, 9.4ms\n",
            "video 1/1 (frame 677/728) /content/WhatsApp Video 2025-05-22 at 12.15.03 PM.mp4: 384x640 17 teeths, 9.5ms\n",
            "video 1/1 (frame 678/728) /content/WhatsApp Video 2025-05-22 at 12.15.03 PM.mp4: 384x640 17 teeths, 9.4ms\n",
            "video 1/1 (frame 679/728) /content/WhatsApp Video 2025-05-22 at 12.15.03 PM.mp4: 384x640 17 teeths, 9.4ms\n",
            "video 1/1 (frame 680/728) /content/WhatsApp Video 2025-05-22 at 12.15.03 PM.mp4: 384x640 18 teeths, 9.4ms\n",
            "video 1/1 (frame 681/728) /content/WhatsApp Video 2025-05-22 at 12.15.03 PM.mp4: 384x640 19 teeths, 9.5ms\n",
            "video 1/1 (frame 682/728) /content/WhatsApp Video 2025-05-22 at 12.15.03 PM.mp4: 384x640 18 teeths, 9.5ms\n",
            "video 1/1 (frame 683/728) /content/WhatsApp Video 2025-05-22 at 12.15.03 PM.mp4: 384x640 19 teeths, 9.7ms\n",
            "video 1/1 (frame 684/728) /content/WhatsApp Video 2025-05-22 at 12.15.03 PM.mp4: 384x640 19 teeths, 9.5ms\n",
            "video 1/1 (frame 685/728) /content/WhatsApp Video 2025-05-22 at 12.15.03 PM.mp4: 384x640 17 teeths, 9.4ms\n",
            "video 1/1 (frame 686/728) /content/WhatsApp Video 2025-05-22 at 12.15.03 PM.mp4: 384x640 15 teeths, 9.4ms\n",
            "video 1/1 (frame 687/728) /content/WhatsApp Video 2025-05-22 at 12.15.03 PM.mp4: 384x640 16 teeths, 9.5ms\n",
            "video 1/1 (frame 688/728) /content/WhatsApp Video 2025-05-22 at 12.15.03 PM.mp4: 384x640 16 teeths, 9.5ms\n",
            "video 1/1 (frame 689/728) /content/WhatsApp Video 2025-05-22 at 12.15.03 PM.mp4: 384x640 16 teeths, 9.5ms\n",
            "video 1/1 (frame 690/728) /content/WhatsApp Video 2025-05-22 at 12.15.03 PM.mp4: 384x640 16 teeths, 9.5ms\n",
            "video 1/1 (frame 691/728) /content/WhatsApp Video 2025-05-22 at 12.15.03 PM.mp4: 384x640 16 teeths, 9.4ms\n",
            "video 1/1 (frame 692/728) /content/WhatsApp Video 2025-05-22 at 12.15.03 PM.mp4: 384x640 16 teeths, 9.4ms\n",
            "video 1/1 (frame 693/728) /content/WhatsApp Video 2025-05-22 at 12.15.03 PM.mp4: 384x640 16 teeths, 9.5ms\n",
            "video 1/1 (frame 694/728) /content/WhatsApp Video 2025-05-22 at 12.15.03 PM.mp4: 384x640 15 teeths, 9.5ms\n",
            "video 1/1 (frame 695/728) /content/WhatsApp Video 2025-05-22 at 12.15.03 PM.mp4: 384x640 15 teeths, 9.4ms\n",
            "video 1/1 (frame 696/728) /content/WhatsApp Video 2025-05-22 at 12.15.03 PM.mp4: 384x640 15 teeths, 9.5ms\n",
            "video 1/1 (frame 697/728) /content/WhatsApp Video 2025-05-22 at 12.15.03 PM.mp4: 384x640 16 teeths, 13.1ms\n",
            "video 1/1 (frame 698/728) /content/WhatsApp Video 2025-05-22 at 12.15.03 PM.mp4: 384x640 15 teeths, 9.4ms\n",
            "video 1/1 (frame 699/728) /content/WhatsApp Video 2025-05-22 at 12.15.03 PM.mp4: 384x640 15 teeths, 9.6ms\n",
            "video 1/1 (frame 700/728) /content/WhatsApp Video 2025-05-22 at 12.15.03 PM.mp4: 384x640 15 teeths, 9.6ms\n",
            "video 1/1 (frame 701/728) /content/WhatsApp Video 2025-05-22 at 12.15.03 PM.mp4: 384x640 16 teeths, 9.6ms\n",
            "video 1/1 (frame 702/728) /content/WhatsApp Video 2025-05-22 at 12.15.03 PM.mp4: 384x640 16 teeths, 9.6ms\n",
            "video 1/1 (frame 703/728) /content/WhatsApp Video 2025-05-22 at 12.15.03 PM.mp4: 384x640 17 teeths, 9.6ms\n",
            "video 1/1 (frame 704/728) /content/WhatsApp Video 2025-05-22 at 12.15.03 PM.mp4: 384x640 16 teeths, 9.9ms\n",
            "video 1/1 (frame 705/728) /content/WhatsApp Video 2025-05-22 at 12.15.03 PM.mp4: 384x640 17 teeths, 9.6ms\n",
            "video 1/1 (frame 706/728) /content/WhatsApp Video 2025-05-22 at 12.15.03 PM.mp4: 384x640 15 teeths, 9.6ms\n",
            "video 1/1 (frame 707/728) /content/WhatsApp Video 2025-05-22 at 12.15.03 PM.mp4: 384x640 17 teeths, 9.4ms\n",
            "video 1/1 (frame 708/728) /content/WhatsApp Video 2025-05-22 at 12.15.03 PM.mp4: 384x640 17 teeths, 9.4ms\n",
            "video 1/1 (frame 709/728) /content/WhatsApp Video 2025-05-22 at 12.15.03 PM.mp4: 384x640 16 teeths, 9.4ms\n",
            "video 1/1 (frame 710/728) /content/WhatsApp Video 2025-05-22 at 12.15.03 PM.mp4: 384x640 17 teeths, 9.5ms\n",
            "video 1/1 (frame 711/728) /content/WhatsApp Video 2025-05-22 at 12.15.03 PM.mp4: 384x640 18 teeths, 9.4ms\n",
            "video 1/1 (frame 712/728) /content/WhatsApp Video 2025-05-22 at 12.15.03 PM.mp4: 384x640 18 teeths, 9.4ms\n",
            "video 1/1 (frame 713/728) /content/WhatsApp Video 2025-05-22 at 12.15.03 PM.mp4: 384x640 19 teeths, 9.4ms\n",
            "video 1/1 (frame 714/728) /content/WhatsApp Video 2025-05-22 at 12.15.03 PM.mp4: 384x640 19 teeths, 9.4ms\n",
            "video 1/1 (frame 715/728) /content/WhatsApp Video 2025-05-22 at 12.15.03 PM.mp4: 384x640 18 teeths, 9.4ms\n",
            "video 1/1 (frame 716/728) /content/WhatsApp Video 2025-05-22 at 12.15.03 PM.mp4: 384x640 17 teeths, 9.5ms\n",
            "video 1/1 (frame 717/728) /content/WhatsApp Video 2025-05-22 at 12.15.03 PM.mp4: 384x640 18 teeths, 9.5ms\n",
            "video 1/1 (frame 718/728) /content/WhatsApp Video 2025-05-22 at 12.15.03 PM.mp4: 384x640 18 teeths, 9.4ms\n",
            "video 1/1 (frame 719/728) /content/WhatsApp Video 2025-05-22 at 12.15.03 PM.mp4: 384x640 17 teeths, 9.4ms\n",
            "video 1/1 (frame 720/728) /content/WhatsApp Video 2025-05-22 at 12.15.03 PM.mp4: 384x640 17 teeths, 9.6ms\n",
            "video 1/1 (frame 721/728) /content/WhatsApp Video 2025-05-22 at 12.15.03 PM.mp4: 384x640 16 teeths, 9.4ms\n",
            "video 1/1 (frame 722/728) /content/WhatsApp Video 2025-05-22 at 12.15.03 PM.mp4: 384x640 16 teeths, 9.6ms\n",
            "video 1/1 (frame 723/728) /content/WhatsApp Video 2025-05-22 at 12.15.03 PM.mp4: 384x640 17 teeths, 9.5ms\n",
            "video 1/1 (frame 724/728) /content/WhatsApp Video 2025-05-22 at 12.15.03 PM.mp4: 384x640 17 teeths, 9.4ms\n",
            "video 1/1 (frame 725/728) /content/WhatsApp Video 2025-05-22 at 12.15.03 PM.mp4: 384x640 16 teeths, 9.8ms\n",
            "video 1/1 (frame 726/728) /content/WhatsApp Video 2025-05-22 at 12.15.03 PM.mp4: 384x640 17 teeths, 9.5ms\n",
            "video 1/1 (frame 727/728) /content/WhatsApp Video 2025-05-22 at 12.15.03 PM.mp4: 384x640 16 teeths, 9.4ms\n",
            "video 1/1 (frame 728/728) /content/WhatsApp Video 2025-05-22 at 12.15.03 PM.mp4: 384x640 16 teeths, 9.4ms\n",
            "Speed: 2.8ms preprocess, 12.0ms inference, 2.0ms postprocess per image at shape (1, 3, 384, 640)\n",
            "Results saved to \u001b[1mruns/detect/predict\u001b[0m\n"
          ]
        }
      ]
    },
    {
      "cell_type": "code",
      "source": [
        "pip install ultralytics opencv-python tqdm\n"
      ],
      "metadata": {
        "colab": {
          "base_uri": "https://localhost:8080/"
        },
        "id": "bW4OWLc6-tjP",
        "outputId": "78e6d67e-02a5-400b-9900-4e24750349b9"
      },
      "execution_count": null,
      "outputs": [
        {
          "output_type": "stream",
          "name": "stdout",
          "text": [
            "Requirement already satisfied: ultralytics in /usr/local/lib/python3.11/dist-packages (8.3.142)\n",
            "Requirement already satisfied: opencv-python in /usr/local/lib/python3.11/dist-packages (4.11.0.86)\n",
            "Requirement already satisfied: tqdm in /usr/local/lib/python3.11/dist-packages (4.67.1)\n",
            "Requirement already satisfied: numpy>=1.23.0 in /usr/local/lib/python3.11/dist-packages (from ultralytics) (2.0.2)\n",
            "Requirement already satisfied: matplotlib>=3.3.0 in /usr/local/lib/python3.11/dist-packages (from ultralytics) (3.10.0)\n",
            "Requirement already satisfied: pillow>=7.1.2 in /usr/local/lib/python3.11/dist-packages (from ultralytics) (11.2.1)\n",
            "Requirement already satisfied: pyyaml>=5.3.1 in /usr/local/lib/python3.11/dist-packages (from ultralytics) (6.0.2)\n",
            "Requirement already satisfied: requests>=2.23.0 in /usr/local/lib/python3.11/dist-packages (from ultralytics) (2.32.3)\n",
            "Requirement already satisfied: scipy>=1.4.1 in /usr/local/lib/python3.11/dist-packages (from ultralytics) (1.15.3)\n",
            "Requirement already satisfied: torch>=1.8.0 in /usr/local/lib/python3.11/dist-packages (from ultralytics) (2.6.0+cu124)\n",
            "Requirement already satisfied: torchvision>=0.9.0 in /usr/local/lib/python3.11/dist-packages (from ultralytics) (0.21.0+cu124)\n",
            "Requirement already satisfied: psutil in /usr/local/lib/python3.11/dist-packages (from ultralytics) (5.9.5)\n",
            "Requirement already satisfied: py-cpuinfo in /usr/local/lib/python3.11/dist-packages (from ultralytics) (9.0.0)\n",
            "Requirement already satisfied: pandas>=1.1.4 in /usr/local/lib/python3.11/dist-packages (from ultralytics) (2.2.2)\n",
            "Requirement already satisfied: ultralytics-thop>=2.0.0 in /usr/local/lib/python3.11/dist-packages (from ultralytics) (2.0.14)\n",
            "Requirement already satisfied: contourpy>=1.0.1 in /usr/local/lib/python3.11/dist-packages (from matplotlib>=3.3.0->ultralytics) (1.3.2)\n",
            "Requirement already satisfied: cycler>=0.10 in /usr/local/lib/python3.11/dist-packages (from matplotlib>=3.3.0->ultralytics) (0.12.1)\n",
            "Requirement already satisfied: fonttools>=4.22.0 in /usr/local/lib/python3.11/dist-packages (from matplotlib>=3.3.0->ultralytics) (4.58.0)\n",
            "Requirement already satisfied: kiwisolver>=1.3.1 in /usr/local/lib/python3.11/dist-packages (from matplotlib>=3.3.0->ultralytics) (1.4.8)\n",
            "Requirement already satisfied: packaging>=20.0 in /usr/local/lib/python3.11/dist-packages (from matplotlib>=3.3.0->ultralytics) (24.2)\n",
            "Requirement already satisfied: pyparsing>=2.3.1 in /usr/local/lib/python3.11/dist-packages (from matplotlib>=3.3.0->ultralytics) (3.2.3)\n",
            "Requirement already satisfied: python-dateutil>=2.7 in /usr/local/lib/python3.11/dist-packages (from matplotlib>=3.3.0->ultralytics) (2.9.0.post0)\n",
            "Requirement already satisfied: pytz>=2020.1 in /usr/local/lib/python3.11/dist-packages (from pandas>=1.1.4->ultralytics) (2025.2)\n",
            "Requirement already satisfied: tzdata>=2022.7 in /usr/local/lib/python3.11/dist-packages (from pandas>=1.1.4->ultralytics) (2025.2)\n",
            "Requirement already satisfied: charset-normalizer<4,>=2 in /usr/local/lib/python3.11/dist-packages (from requests>=2.23.0->ultralytics) (3.4.2)\n",
            "Requirement already satisfied: idna<4,>=2.5 in /usr/local/lib/python3.11/dist-packages (from requests>=2.23.0->ultralytics) (3.7)\n",
            "Requirement already satisfied: urllib3<3,>=1.21.1 in /usr/local/lib/python3.11/dist-packages (from requests>=2.23.0->ultralytics) (2.4.0)\n",
            "Requirement already satisfied: certifi>=2017.4.17 in /usr/local/lib/python3.11/dist-packages (from requests>=2.23.0->ultralytics) (2025.4.26)\n",
            "Requirement already satisfied: filelock in /usr/local/lib/python3.11/dist-packages (from torch>=1.8.0->ultralytics) (3.18.0)\n",
            "Requirement already satisfied: typing-extensions>=4.10.0 in /usr/local/lib/python3.11/dist-packages (from torch>=1.8.0->ultralytics) (4.13.2)\n",
            "Requirement already satisfied: networkx in /usr/local/lib/python3.11/dist-packages (from torch>=1.8.0->ultralytics) (3.4.2)\n",
            "Requirement already satisfied: jinja2 in /usr/local/lib/python3.11/dist-packages (from torch>=1.8.0->ultralytics) (3.1.6)\n",
            "Requirement already satisfied: fsspec in /usr/local/lib/python3.11/dist-packages (from torch>=1.8.0->ultralytics) (2025.3.2)\n",
            "Requirement already satisfied: nvidia-cuda-nvrtc-cu12==12.4.127 in /usr/local/lib/python3.11/dist-packages (from torch>=1.8.0->ultralytics) (12.4.127)\n",
            "Requirement already satisfied: nvidia-cuda-runtime-cu12==12.4.127 in /usr/local/lib/python3.11/dist-packages (from torch>=1.8.0->ultralytics) (12.4.127)\n",
            "Requirement already satisfied: nvidia-cuda-cupti-cu12==12.4.127 in /usr/local/lib/python3.11/dist-packages (from torch>=1.8.0->ultralytics) (12.4.127)\n",
            "Requirement already satisfied: nvidia-cudnn-cu12==9.1.0.70 in /usr/local/lib/python3.11/dist-packages (from torch>=1.8.0->ultralytics) (9.1.0.70)\n",
            "Requirement already satisfied: nvidia-cublas-cu12==12.4.5.8 in /usr/local/lib/python3.11/dist-packages (from torch>=1.8.0->ultralytics) (12.4.5.8)\n",
            "Requirement already satisfied: nvidia-cufft-cu12==11.2.1.3 in /usr/local/lib/python3.11/dist-packages (from torch>=1.8.0->ultralytics) (11.2.1.3)\n",
            "Requirement already satisfied: nvidia-curand-cu12==10.3.5.147 in /usr/local/lib/python3.11/dist-packages (from torch>=1.8.0->ultralytics) (10.3.5.147)\n",
            "Requirement already satisfied: nvidia-cusolver-cu12==11.6.1.9 in /usr/local/lib/python3.11/dist-packages (from torch>=1.8.0->ultralytics) (11.6.1.9)\n",
            "Requirement already satisfied: nvidia-cusparse-cu12==12.3.1.170 in /usr/local/lib/python3.11/dist-packages (from torch>=1.8.0->ultralytics) (12.3.1.170)\n",
            "Requirement already satisfied: nvidia-cusparselt-cu12==0.6.2 in /usr/local/lib/python3.11/dist-packages (from torch>=1.8.0->ultralytics) (0.6.2)\n",
            "Requirement already satisfied: nvidia-nccl-cu12==2.21.5 in /usr/local/lib/python3.11/dist-packages (from torch>=1.8.0->ultralytics) (2.21.5)\n",
            "Requirement already satisfied: nvidia-nvtx-cu12==12.4.127 in /usr/local/lib/python3.11/dist-packages (from torch>=1.8.0->ultralytics) (12.4.127)\n",
            "Requirement already satisfied: nvidia-nvjitlink-cu12==12.4.127 in /usr/local/lib/python3.11/dist-packages (from torch>=1.8.0->ultralytics) (12.4.127)\n",
            "Requirement already satisfied: triton==3.2.0 in /usr/local/lib/python3.11/dist-packages (from torch>=1.8.0->ultralytics) (3.2.0)\n",
            "Requirement already satisfied: sympy==1.13.1 in /usr/local/lib/python3.11/dist-packages (from torch>=1.8.0->ultralytics) (1.13.1)\n",
            "Requirement already satisfied: mpmath<1.4,>=1.1.0 in /usr/local/lib/python3.11/dist-packages (from sympy==1.13.1->torch>=1.8.0->ultralytics) (1.3.0)\n",
            "Requirement already satisfied: six>=1.5 in /usr/local/lib/python3.11/dist-packages (from python-dateutil>=2.7->matplotlib>=3.3.0->ultralytics) (1.17.0)\n",
            "Requirement already satisfied: MarkupSafe>=2.0 in /usr/local/lib/python3.11/dist-packages (from jinja2->torch>=1.8.0->ultralytics) (3.0.2)\n"
          ]
        }
      ]
    },
    {
      "cell_type": "code",
      "source": [
        "import cv2\n",
        "import numpy as np\n",
        "from google.colab.patches import cv2_imshow\n",
        "\n",
        "# Load image\n",
        "image = cv2.imread(\"/content/undistorted_side_view_gear_mp4-0055.jpg\")\n",
        "gray = cv2.cvtColor(image, cv2.COLOR_BGR2GRAY)\n",
        "\n",
        "# Thresholding\n",
        "_, thresh = cv2.threshold(gray, 60, 255, cv2.THRESH_BINARY_INV)\n",
        "\n",
        "# Find contours\n",
        "contours, _ = cv2.findContours(thresh, cv2.RETR_EXTERNAL, cv2.CHAIN_APPROX_SIMPLE)\n",
        "\n",
        "pixels_per_cm = None\n",
        "gear_height_cm = None\n",
        "\n",
        "for cnt in contours:\n",
        "    x, y, w, h = cv2.boundingRect(cnt)\n",
        "\n",
        "    # Draw bounding boxes\n",
        "    cv2.rectangle(image, (x, y), (x + w, y + h), (0, 255, 0), 2)\n",
        "\n",
        "    # Identify the reference object (small black box ~2cm)\n",
        "    if 10 < h < 50 and 10 < w < 50:\n",
        "        pixels_per_cm = h / 2.0\n",
        "        cv2.putText(image, \"Reference (2 cm)\", (x, y - 10),\n",
        "                    cv2.FONT_HERSHEY_SIMPLEX, 0.5, (255, 0, 0), 2)\n",
        "\n",
        "    # Identify gear (larger object)\n",
        "    elif h > 50 and w > 50 and pixels_per_cm is not None:\n",
        "        gear_height_cm = h / pixels_per_cm\n",
        "        cv2.putText(image, f\"Gear Height: {gear_height_cm:.2f} cm\", (x, y - 10),\n",
        "                    cv2.FONT_HERSHEY_SIMPLEX, 0.6, (0, 0, 255), 2)\n",
        "\n",
        "# Draw reference line (2 cm line)\n",
        "if pixels_per_cm is not None:\n",
        "    cm_2_pixels = int(pixels_per_cm * 2)\n",
        "    start_point = (10, 10)\n",
        "    end_point = (10, 10 + cm_2_pixels)\n",
        "    cv2.line(image, start_point, end_point, (255, 0, 255), 2)\n",
        "    cv2.putText(image, \"2 cm\", (15, 10 + cm_2_pixels // 2),\n",
        "                cv2.FONT_HERSHEY_SIMPLEX, 0.5, (255, 0, 255), 2)\n",
        "\n",
        "# Show image (in Colab)\n",
        "cv2_imshow(image)\n"
      ],
      "metadata": {
        "id": "k6fnGOgNhy-o",
        "outputId": "9520ba15-1d68-4a78-9f12-1ae5b39cc2d9",
        "colab": {
          "base_uri": "https://localhost:8080/",
          "height": 436
        }
      },
      "execution_count": null,
      "outputs": [
        {
          "output_type": "display_data",
          "data": {
            "text/plain": [
              "<PIL.Image.Image image mode=RGB size=960x544>"
            ],
            "image/png": "[encoded data removed]",
            "image/jpeg": "[encoded data removed]"
          },
          "metadata": {}
        }
      ]
    }
  ]
}